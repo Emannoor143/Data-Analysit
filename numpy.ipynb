{
 "cells": [
  {
   "cell_type": "code",
   "execution_count": 1,
   "id": "3466fb86-e78f-416e-8643-66889443aaff",
   "metadata": {},
   "outputs": [],
   "source": [
    "import numpy as np"
   ]
  },
  {
   "cell_type": "code",
   "execution_count": 2,
   "id": "d118e235-e02f-4554-9114-916f8dea3e9f",
   "metadata": {},
   "outputs": [
    {
     "name": "stdout",
     "output_type": "stream",
     "text": [
      "2.1.3\n"
     ]
    }
   ],
   "source": [
    "print(np.__version__) "
   ]
  },
  {
   "cell_type": "code",
   "execution_count": 4,
   "id": "cec85baa-0bf0-438c-9cf7-aff5c0d060a5",
   "metadata": {},
   "outputs": [
    {
     "name": "stdout",
     "output_type": "stream",
     "text": [
      "[[1 2 3]\n",
      " [4 5 6]]\n"
     ]
    }
   ],
   "source": [
    " arr=np.array([[1,2,3],[4,5,6]]) \n",
    "print(arr)"
   ]
  },
  {
   "cell_type": "code",
   "execution_count": 13,
   "id": "8a8ae613-2dba-402b-abe8-3d7c0ea7e6e5",
   "metadata": {},
   "outputs": [
    {
     "name": "stdout",
     "output_type": "stream",
     "text": [
      "[0. 0. 0. 0. 0.]\n"
     ]
    }
   ],
   "source": [
    "a = np.zeros(5)\n",
    "print(a)"
   ]
  },
  {
   "cell_type": "code",
   "execution_count": 14,
   "id": "aed173f1-8cb9-402c-ad33-1a29da6176ae",
   "metadata": {},
   "outputs": [
    {
     "name": "stdout",
     "output_type": "stream",
     "text": [
      "[1. 1. 1. 1. 1. 1. 1.]\n"
     ]
    }
   ],
   "source": [
    "a = np.ones(7)\n",
    "print(a)"
   ]
  },
  {
   "cell_type": "code",
   "execution_count": 15,
   "id": "5422732a-2d85-4c91-b86a-f68c5d8e0290",
   "metadata": {},
   "outputs": [
    {
     "name": "stdout",
     "output_type": "stream",
     "text": [
      "[0 1 2 3 4 5 6 7 8 9]\n"
     ]
    }
   ],
   "source": [
    "a = np.arange(0, 10)\n",
    "print(a)"
   ]
  },
  {
   "cell_type": "code",
   "execution_count": 17,
   "id": "b8d9d919-e10b-4333-9ecc-7449a0cf715d",
   "metadata": {},
   "outputs": [
    {
     "name": "stdout",
     "output_type": "stream",
     "text": [
      "[0 3 6 9]\n"
     ]
    }
   ],
   "source": [
    "a = np.arange(0, 12,3)\n",
    "print(a)"
   ]
  },
  {
   "cell_type": "code",
   "execution_count": 18,
   "id": "c43a6cb9-c12d-4271-a096-db75fc2e3d63",
   "metadata": {},
   "outputs": [
    {
     "name": "stdout",
     "output_type": "stream",
     "text": [
      "[1 2 3 4 5 6]\n"
     ]
    }
   ],
   "source": [
    "a = np.array([3,1,2,6,4,5])\n",
    "print(np.sort(a))\n"
   ]
  },
  {
   "cell_type": "code",
   "execution_count": 21,
   "id": "54665a94-1804-4d2b-9cb0-7aea3007177e",
   "metadata": {},
   "outputs": [
    {
     "name": "stdout",
     "output_type": "stream",
     "text": [
      "[ 0  5  9 11]\n"
     ]
    }
   ],
   "source": [
    "a = np.array([11,9,0,5])\n",
    "print(np.sort(a))"
   ]
  },
  {
   "cell_type": "code",
   "execution_count": 34,
   "id": "6ecd42db-fa28-4bee-9753-f874e0d8a2a8",
   "metadata": {},
   "outputs": [
    {
     "name": "stdout",
     "output_type": "stream",
     "text": [
      "[[1 2 3]\n",
      " [4 5 6]]\n"
     ]
    }
   ],
   "source": [
    "arr = np.array([[1, 2 ,3],[4, 5, 6]])\n",
    "print(arr)"
   ]
  },
  {
   "cell_type": "code",
   "execution_count": 39,
   "id": "f7c9c92c-7b9b-4b3b-8b82-67dc2b5b48bd",
   "metadata": {},
   "outputs": [
    {
     "name": "stdout",
     "output_type": "stream",
     "text": [
      "[1 2 3 4]\n"
     ]
    }
   ],
   "source": [
    "a = np.array([1,2])\n",
    "b = np.array([3,4])\n",
    "print(np.concatenate([a,b]))\n"
   ]
  },
  {
   "cell_type": "code",
   "execution_count": 40,
   "id": "7823c5c6-cff6-4f11-b079-0a945e6c7aa8",
   "metadata": {},
   "outputs": [
    {
     "name": "stdout",
     "output_type": "stream",
     "text": [
      "[3 4 2 1]\n"
     ]
    }
   ],
   "source": [
    "a = np.array([3,4])\n",
    "b = np.array([2,1])\n",
    "print(np.concatenate([a,b]))"
   ]
  },
  {
   "cell_type": "code",
   "execution_count": 41,
   "id": "0fff86c6-3836-4b29-9b03-759c23a53677",
   "metadata": {},
   "outputs": [
    {
     "name": "stdout",
     "output_type": "stream",
     "text": [
      "[1 2 0]\n"
     ]
    }
   ],
   "source": [
    "a = np.array([3,1,2])\n",
    "print(np.argsort(a))\n"
   ]
  },
  {
   "cell_type": "code",
   "execution_count": 42,
   "id": "b86a3f10-f2fb-4fdc-b0b5-7319de87a808",
   "metadata": {},
   "outputs": [
    {
     "name": "stdout",
     "output_type": "stream",
     "text": [
      "1\n"
     ]
    }
   ],
   "source": [
    "a = np.array([1,5,2])\n",
    "print(np.min(a))\n"
   ]
  },
  {
   "cell_type": "code",
   "execution_count": 43,
   "id": "1aa036d2-8ffa-4697-9e64-73dd874c80d0",
   "metadata": {},
   "outputs": [
    {
     "name": "stdout",
     "output_type": "stream",
     "text": [
      "5\n"
     ]
    }
   ],
   "source": [
    "a = np.array([1,5,2])\n",
    "print(np.max(a))\n"
   ]
  },
  {
   "cell_type": "code",
   "execution_count": 44,
   "id": "6140c035-da5a-49c9-90e2-d5e1c973c6ca",
   "metadata": {},
   "outputs": [
    {
     "name": "stdout",
     "output_type": "stream",
     "text": [
      "3.0\n"
     ]
    }
   ],
   "source": [
    "a = np.array([1,5,2,4])\n",
    "print(np.mean(a))\n"
   ]
  },
  {
   "cell_type": "code",
   "execution_count": 45,
   "id": "b3814fee-d41c-4b4b-bf6e-d0e8ad76d79b",
   "metadata": {},
   "outputs": [
    {
     "name": "stdout",
     "output_type": "stream",
     "text": [
      "19\n"
     ]
    }
   ],
   "source": [
    "a = np.array([1,5,2,4,7])\n",
    "print(np.sum(a))\n"
   ]
  },
  {
   "cell_type": "code",
   "execution_count": null,
   "id": "47a1035d-c7bb-4693-922a-09428d15f1b3",
   "metadata": {},
   "outputs": [],
   "source": []
  }
 ],
 "metadata": {
  "kernelspec": {
   "display_name": "Python [conda env:base] *",
   "language": "python",
   "name": "conda-base-py"
  },
  "language_info": {
   "codemirror_mode": {
    "name": "ipython",
    "version": 3
   },
   "file_extension": ".py",
   "mimetype": "text/x-python",
   "name": "python",
   "nbconvert_exporter": "python",
   "pygments_lexer": "ipython3",
   "version": "3.13.5"
  }
 },
 "nbformat": 4,
 "nbformat_minor": 5
}
