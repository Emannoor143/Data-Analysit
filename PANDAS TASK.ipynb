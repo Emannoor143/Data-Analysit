{
 "cells": [
  {
   "cell_type": "code",
   "execution_count": 1,
   "id": "09e98bcf-d478-4f5f-8094-ec94d53c61e0",
   "metadata": {},
   "outputs": [],
   "source": [
    "import pandas as pd"
   ]
  },
  {
   "cell_type": "code",
   "execution_count": 2,
   "id": "0d7d3d5b-6e0d-4d3c-aa33-616c7d2d7224",
   "metadata": {},
   "outputs": [
    {
     "name": "stdout",
     "output_type": "stream",
     "text": [
      "      Index                                        Name  \\\n",
      "0         1  Smart Fan Iron Cooker Go Wireless Portable   \n",
      "1         2                                         Fan   \n",
      "2         3   Smart Speakerphone Charger Eco Plus Clean   \n",
      "3         4              Premium Grill Trimmer Portable   \n",
      "4         5                            Keyboard Freezer   \n",
      "...     ...                                         ...   \n",
      "9995   9996                                   Powerbank   \n",
      "9996   9997            Rechargeable Lamp Scanner Vacuum   \n",
      "9997   9998                                      Heater   \n",
      "9998   9999               Rechargeable Headphones Stove   \n",
      "9999  10000                     Clean Charger Treadmill   \n",
      "\n",
      "                                            Description  \\\n",
      "0                             Catch enough role nearly.   \n",
      "1                             All movement yeah tax me.   \n",
      "2                   Quickly inside pull line lay start.   \n",
      "3                                 Lawyer one than fire.   \n",
      "4                     Remain Congress blood plan voice.   \n",
      "...                                                 ...   \n",
      "9995                  Yeah none boy fund city decision.   \n",
      "9996    Appear country enter there pull thing computer.   \n",
      "9997  Owner plan approach soldier church little little.   \n",
      "9998                     Base account partner probably.   \n",
      "9999        Return reflect truth tell scientist season.   \n",
      "\n",
      "                        Brand             Category  Price Currency  Stock  \\\n",
      "0                  Herman Ltd       Kids' Clothing    585      USD    194   \n",
      "1     Braun, King and Rollins       Grooming Tools    992      USD    724   \n",
      "2                Peck-Coleman    Fishing & Hunting    940      USD    769   \n",
      "3                   Hines Ltd             Skincare    324      USD     93   \n",
      "4     Spence, Webster and Orr  Laptops & Computers    908      USD    614   \n",
      "...                       ...                  ...    ...      ...    ...   \n",
      "9995       Castaneda-Harrison   Books & Stationery    567      USD     27   \n",
      "9996                Knapp-Key              Cycling    300      USD    177   \n",
      "9997    Meyer, Case and Mills    Fitness Equipment    399      USD    996   \n",
      "9998               Jones-Bell   Kitchen Appliances     45      USD    274   \n",
      "9999                Davis LLC    Sports & Outdoors     31      USD     46   \n",
      "\n",
      "                EAN        Color         Size   Availability  Internal ID  \n",
      "0     3968600833473     Cornsilk       5x7 in  limited_stock           54  \n",
      "1      191126950284       Bisque            S   discontinued           49  \n",
      "2     7569143820621         Blue  Extra Large      pre_order           42  \n",
      "3     2705140928037        Ivory     50x70 cm   out_of_stock           93  \n",
      "4     9830391008108  FloralWhite     10x10 cm   discontinued           91  \n",
      "...             ...          ...          ...            ...          ...  \n",
      "9995  6519003997216         Cyan       Medium      pre_order            7  \n",
      "9996  4707959228979    MintCream        Large  limited_stock           55  \n",
      "9997  5286509915488    LightGray        Large      pre_order           37  \n",
      "9998  3702651384368    SlateBlue     12x18 in       in_stock           52  \n",
      "9999  8879838276060        Ivory       Medium      backorder           70  \n",
      "\n",
      "[10000 rows x 13 columns]\n"
     ]
    }
   ],
   "source": [
    "file=pd.read_csv(r\"C:\\Users\\ruman\\OneDrive\\Desktop\\products-10000.csv\")\n",
    "print(file)"
   ]
  },
  {
   "cell_type": "code",
   "execution_count": 3,
   "id": "53f78805-60d5-42f9-8b9c-5a44e63f40dd",
   "metadata": {},
   "outputs": [
    {
     "name": "stdout",
     "output_type": "stream",
     "text": [
      "(10000, 13)\n"
     ]
    }
   ],
   "source": [
    "print(file.shape)"
   ]
  },
  {
   "cell_type": "code",
   "execution_count": 5,
   "id": "ce32e327-dd17-4639-9576-a778cf1a9932",
   "metadata": {},
   "outputs": [
    {
     "name": "stdout",
     "output_type": "stream",
     "text": [
      "Index(['Index', 'Name', 'Description', 'Brand', 'Category', 'Price',\n",
      "       'Currency', 'Stock', 'EAN', 'Color', 'Size', 'Availability',\n",
      "       'Internal ID'],\n",
      "      dtype='object')\n"
     ]
    }
   ],
   "source": [
    "print(file.columns)"
   ]
  },
  {
   "cell_type": "code",
   "execution_count": 9,
   "id": "1b0e0c19-e713-459e-8081-d2a90ec47ef9",
   "metadata": {},
   "outputs": [
    {
     "name": "stdout",
     "output_type": "stream",
     "text": [
      "Index            int64\n",
      "Name            object\n",
      "Description     object\n",
      "Brand           object\n",
      "Category        object\n",
      "Price            int64\n",
      "Currency        object\n",
      "Stock            int64\n",
      "EAN              int64\n",
      "Color           object\n",
      "Size            object\n",
      "Availability    object\n",
      "Internal ID      int64\n",
      "dtype: object\n"
     ]
    }
   ],
   "source": [
    "print(file.dtypes)"
   ]
  },
  {
   "cell_type": "code",
   "execution_count": 10,
   "id": "bc69aae6-fa14-4599-89da-de764590fd69",
   "metadata": {},
   "outputs": [
    {
     "name": "stdout",
     "output_type": "stream",
     "text": [
      "   Index                                        Name  \\\n",
      "0      1  Smart Fan Iron Cooker Go Wireless Portable   \n",
      "1      2                                         Fan   \n",
      "2      3   Smart Speakerphone Charger Eco Plus Clean   \n",
      "3      4              Premium Grill Trimmer Portable   \n",
      "4      5                            Keyboard Freezer   \n",
      "\n",
      "                           Description                    Brand  \\\n",
      "0            Catch enough role nearly.               Herman Ltd   \n",
      "1            All movement yeah tax me.  Braun, King and Rollins   \n",
      "2  Quickly inside pull line lay start.             Peck-Coleman   \n",
      "3                Lawyer one than fire.                Hines Ltd   \n",
      "4    Remain Congress blood plan voice.  Spence, Webster and Orr   \n",
      "\n",
      "              Category  Price Currency  Stock            EAN        Color  \\\n",
      "0       Kids' Clothing    585      USD    194  3968600833473     Cornsilk   \n",
      "1       Grooming Tools    992      USD    724   191126950284       Bisque   \n",
      "2    Fishing & Hunting    940      USD    769  7569143820621         Blue   \n",
      "3             Skincare    324      USD     93  2705140928037        Ivory   \n",
      "4  Laptops & Computers    908      USD    614  9830391008108  FloralWhite   \n",
      "\n",
      "          Size   Availability  Internal ID  \n",
      "0       5x7 in  limited_stock           54  \n",
      "1            S   discontinued           49  \n",
      "2  Extra Large      pre_order           42  \n",
      "3     50x70 cm   out_of_stock           93  \n",
      "4     10x10 cm   discontinued           91  \n"
     ]
    }
   ],
   "source": [
    "print(file.head())"
   ]
  },
  {
   "cell_type": "code",
   "execution_count": 12,
   "id": "5b4c511c-a025-4964-adad-fbeaff623987",
   "metadata": {},
   "outputs": [
    {
     "name": "stdout",
     "output_type": "stream",
     "text": [
      "      Index                              Name  \\\n",
      "9995   9996                         Powerbank   \n",
      "9996   9997  Rechargeable Lamp Scanner Vacuum   \n",
      "9997   9998                            Heater   \n",
      "9998   9999     Rechargeable Headphones Stove   \n",
      "9999  10000           Clean Charger Treadmill   \n",
      "\n",
      "                                            Description  \\\n",
      "9995                  Yeah none boy fund city decision.   \n",
      "9996    Appear country enter there pull thing computer.   \n",
      "9997  Owner plan approach soldier church little little.   \n",
      "9998                     Base account partner probably.   \n",
      "9999        Return reflect truth tell scientist season.   \n",
      "\n",
      "                      Brand            Category  Price Currency  Stock  \\\n",
      "9995     Castaneda-Harrison  Books & Stationery    567      USD     27   \n",
      "9996              Knapp-Key             Cycling    300      USD    177   \n",
      "9997  Meyer, Case and Mills   Fitness Equipment    399      USD    996   \n",
      "9998             Jones-Bell  Kitchen Appliances     45      USD    274   \n",
      "9999              Davis LLC   Sports & Outdoors     31      USD     46   \n",
      "\n",
      "                EAN      Color      Size   Availability  Internal ID  \n",
      "9995  6519003997216       Cyan    Medium      pre_order            7  \n",
      "9996  4707959228979  MintCream     Large  limited_stock           55  \n",
      "9997  5286509915488  LightGray     Large      pre_order           37  \n",
      "9998  3702651384368  SlateBlue  12x18 in       in_stock           52  \n",
      "9999  8879838276060      Ivory    Medium      backorder           70  \n"
     ]
    }
   ],
   "source": [
    "print(file.tail())"
   ]
  },
  {
   "cell_type": "code",
   "execution_count": 13,
   "id": "6877c898-b2e9-4484-9762-e89b5b264a0b",
   "metadata": {},
   "outputs": [
    {
     "name": "stdout",
     "output_type": "stream",
     "text": [
      "Index           0\n",
      "Name            0\n",
      "Description     0\n",
      "Brand           0\n",
      "Category        0\n",
      "Price           0\n",
      "Currency        0\n",
      "Stock           0\n",
      "EAN             0\n",
      "Color           0\n",
      "Size            0\n",
      "Availability    0\n",
      "Internal ID     0\n",
      "dtype: int64\n"
     ]
    }
   ],
   "source": [
    "print(file.isnull().sum())"
   ]
  },
  {
   "cell_type": "code",
   "execution_count": 14,
   "id": "110fde99-b0cf-4033-903f-e1dba6c21d26",
   "metadata": {},
   "outputs": [
    {
     "name": "stdout",
     "output_type": "stream",
     "text": [
      "Index           0.0\n",
      "Name            0.0\n",
      "Description     0.0\n",
      "Brand           0.0\n",
      "Category        0.0\n",
      "Price           0.0\n",
      "Currency        0.0\n",
      "Stock           0.0\n",
      "EAN             0.0\n",
      "Color           0.0\n",
      "Size            0.0\n",
      "Availability    0.0\n",
      "Internal ID     0.0\n",
      "dtype: float64\n"
     ]
    }
   ],
   "source": [
    "print(file.isnull().mean()*100)"
   ]
  },
  {
   "cell_type": "code",
   "execution_count": 15,
   "id": "ca3b1a5f-e436-4e6f-84cf-493aae844755",
   "metadata": {},
   "outputs": [
    {
     "name": "stdout",
     "output_type": "stream",
     "text": [
      "0       False\n",
      "1       False\n",
      "2       False\n",
      "3       False\n",
      "4       False\n",
      "        ...  \n",
      "9995    False\n",
      "9996    False\n",
      "9997    False\n",
      "9998    False\n",
      "9999    False\n",
      "Length: 10000, dtype: bool\n"
     ]
    }
   ],
   "source": [
    "#duplicate rows\n",
    "print(file.duplicated())"
   ]
  },
  {
   "cell_type": "code",
   "execution_count": 16,
   "id": "62d380e6-0a61-4a24-bb52-6eaa24d35874",
   "metadata": {},
   "outputs": [
    {
     "name": "stdout",
     "output_type": "stream",
     "text": [
      "                                            Name                    Brand  \\\n",
      "0     Smart Fan Iron Cooker Go Wireless Portable               Herman Ltd   \n",
      "1                                            Fan  Braun, King and Rollins   \n",
      "2      Smart Speakerphone Charger Eco Plus Clean             Peck-Coleman   \n",
      "3                 Premium Grill Trimmer Portable                Hines Ltd   \n",
      "4                               Keyboard Freezer  Spence, Webster and Orr   \n",
      "...                                          ...                      ...   \n",
      "9995                                   Powerbank       Castaneda-Harrison   \n",
      "9996            Rechargeable Lamp Scanner Vacuum                Knapp-Key   \n",
      "9997                                      Heater    Meyer, Case and Mills   \n",
      "9998               Rechargeable Headphones Stove               Jones-Bell   \n",
      "9999                     Clean Charger Treadmill                Davis LLC   \n",
      "\n",
      "      Price  Stock  \n",
      "0       585    194  \n",
      "1       992    724  \n",
      "2       940    769  \n",
      "3       324     93  \n",
      "4       908    614  \n",
      "...     ...    ...  \n",
      "9995    567     27  \n",
      "9996    300    177  \n",
      "9997    399    996  \n",
      "9998     45    274  \n",
      "9999     31     46  \n",
      "\n",
      "[10000 rows x 4 columns]\n"
     ]
    }
   ],
   "source": [
    "#select multiple columns\n",
    "print(file[[\"Name\",\"Brand\",\"Price\",\"Stock\"]])"
   ]
  },
  {
   "cell_type": "code",
   "execution_count": 21,
   "id": "d4a1f2c7-c3b3-4c8b-b5f6-9d0c2fe05f9f",
   "metadata": {},
   "outputs": [
    {
     "name": "stdout",
     "output_type": "stream",
     "text": [
      "Index                                     10\n",
      "Name                            Eco Dock Air\n",
      "Description     Know hope enjoy budget have.\n",
      "Brand                      Humphrey and Sons\n",
      "Category              Beauty & Personal Care\n",
      "Price                                    602\n",
      "Currency                                 USD\n",
      "Stock                                    923\n",
      "EAN                            3726212774009\n",
      "Color                             SandyBrown\n",
      "Size                                50x70 cm\n",
      "Availability                        in_stock\n",
      "Internal ID                               11\n",
      "Name: 9, dtype: object\n"
     ]
    }
   ],
   "source": [
    "print(file.loc[9])"
   ]
  },
  {
   "cell_type": "code",
   "execution_count": 22,
   "id": "0109b94e-670a-4d46-a8c1-2343b9362a54",
   "metadata": {},
   "outputs": [
    {
     "name": "stdout",
     "output_type": "stream",
     "text": [
      "Index                                     10\n",
      "Name                            Eco Dock Air\n",
      "Description     Know hope enjoy budget have.\n",
      "Brand                      Humphrey and Sons\n",
      "Category              Beauty & Personal Care\n",
      "Price                                    602\n",
      "Currency                                 USD\n",
      "Stock                                    923\n",
      "EAN                            3726212774009\n",
      "Color                             SandyBrown\n",
      "Size                                50x70 cm\n",
      "Availability                        in_stock\n",
      "Internal ID                               11\n",
      "Name: 9, dtype: object\n"
     ]
    }
   ],
   "source": [
    "print(file.iloc[9])"
   ]
  },
  {
   "cell_type": "code",
   "execution_count": 24,
   "id": "e5de1e07-6dc3-4003-a67e-7cb8b251369a",
   "metadata": {},
   "outputs": [
    {
     "name": "stdout",
     "output_type": "stream",
     "text": [
      "                 Category  Price\n",
      "0          Kids' Clothing    585\n",
      "1          Grooming Tools    992\n",
      "2       Fishing & Hunting    940\n",
      "3                Skincare    324\n",
      "4     Laptops & Computers    908\n",
      "5      Kitchen Appliances    627\n",
      "6       Fishing & Hunting    385\n",
      "7                Skincare    296\n",
      "8      Clothing & Apparel    870\n",
      "9  Beauty & Personal Care    602\n"
     ]
    }
   ],
   "source": [
    "#select the first 10 rows and only the category and price columns\n",
    "print(file.loc[0:9, [\"Category\", \"Price\"]])"
   ]
  },
  {
   "cell_type": "code",
   "execution_count": 5,
   "id": "0385f0bb-a17f-463d-adaf-3bce6837b55d",
   "metadata": {},
   "outputs": [
    {
     "name": "stdout",
     "output_type": "stream",
     "text": [
      "      Index                                        Name  \\\n",
      "0         1  Smart Fan Iron Cooker Go Wireless Portable   \n",
      "1         2                                         Fan   \n",
      "2         3   Smart Speakerphone Charger Eco Plus Clean   \n",
      "3         4              Premium Grill Trimmer Portable   \n",
      "4         5                            Keyboard Freezer   \n",
      "...     ...                                         ...   \n",
      "9995   9996                                   Powerbank   \n",
      "9996   9997            Rechargeable Lamp Scanner Vacuum   \n",
      "9997   9998                                      Heater   \n",
      "9998   9999               Rechargeable Headphones Stove   \n",
      "9999  10000                     Clean Charger Treadmill   \n",
      "\n",
      "                                            Description  \\\n",
      "0                             Catch enough role nearly.   \n",
      "1                             All movement yeah tax me.   \n",
      "2                   Quickly inside pull line lay start.   \n",
      "3                                 Lawyer one than fire.   \n",
      "4                     Remain Congress blood plan voice.   \n",
      "...                                                 ...   \n",
      "9995                  Yeah none boy fund city decision.   \n",
      "9996    Appear country enter there pull thing computer.   \n",
      "9997  Owner plan approach soldier church little little.   \n",
      "9998                     Base account partner probably.   \n",
      "9999        Return reflect truth tell scientist season.   \n",
      "\n",
      "                        Brand             Category  Price Currency  Stock  \\\n",
      "0                  Herman Ltd       Kids' Clothing    585      USD    194   \n",
      "1     Braun, King and Rollins       Grooming Tools    992      USD    724   \n",
      "2                Peck-Coleman    Fishing & Hunting    940      USD    769   \n",
      "3                   Hines Ltd             Skincare    324      USD     93   \n",
      "4     Spence, Webster and Orr  Laptops & Computers    908      USD    614   \n",
      "...                       ...                  ...    ...      ...    ...   \n",
      "9995       Castaneda-Harrison   Books & Stationery    567      USD     27   \n",
      "9996                Knapp-Key              Cycling    300      USD    177   \n",
      "9997    Meyer, Case and Mills    Fitness Equipment    399      USD    996   \n",
      "9998               Jones-Bell   Kitchen Appliances     45      USD    274   \n",
      "9999                Davis LLC    Sports & Outdoors     31      USD     46   \n",
      "\n",
      "                EAN        Color         Size   Availability  Internal ID  \n",
      "0     3968600833473     Cornsilk       5x7 in  limited_stock           54  \n",
      "1      191126950284       Bisque            S   discontinued           49  \n",
      "2     7569143820621         Blue  Extra Large      pre_order           42  \n",
      "3     2705140928037        Ivory     50x70 cm   out_of_stock           93  \n",
      "4     9830391008108  FloralWhite     10x10 cm   discontinued           91  \n",
      "...             ...          ...          ...            ...          ...  \n",
      "9995  6519003997216         Cyan       Medium      pre_order            7  \n",
      "9996  4707959228979    MintCream        Large  limited_stock           55  \n",
      "9997  5286509915488    LightGray        Large      pre_order           37  \n",
      "9998  3702651384368    SlateBlue     12x18 in       in_stock           52  \n",
      "9999  8879838276060        Ivory       Medium      backorder           70  \n",
      "\n",
      "[10000 rows x 13 columns]\n",
      "Empty DataFrame\n",
      "Columns: [Name, Price]\n",
      "Index: []\n"
     ]
    }
   ],
   "source": [
    "#show the product name and price for all items where\n",
    "file=pd.read_csv(r\"C:\\Users\\ruman\\OneDrive\\Desktop\\products-10000.csv\")\n",
    "print(file)\n",
    "print(file.loc[file[\"Category\"]==\"kitchen Appliances\",[\"Name\", \"Price\"]])"
   ]
  },
  {
   "cell_type": "code",
   "execution_count": 7,
   "id": "47accad7-63eb-48c1-8101-941a4973c8bb",
   "metadata": {},
   "outputs": [
    {
     "name": "stdout",
     "output_type": "stream",
     "text": [
      "                                                   Name  Price\n",
      "5                                     Smart Fridge Plus    627\n",
      "55    Advanced Thermostat Microphone Scooter Clean S...    425\n",
      "64                        Ultra Drone Wireless Go Clean    119\n",
      "187                        Wireless Webcam Mouse Silent    725\n",
      "206                                       Scanner Mouse    143\n",
      "...                                                 ...    ...\n",
      "9897                                   Eco Speakerphone    451\n",
      "9916                                  Eco Treadmill Pro    165\n",
      "9921                                 Fast Blender Scale    494\n",
      "9942                      Portable Bicycle Lock Fan One    197\n",
      "9998                      Rechargeable Headphones Stove     45\n",
      "\n",
      "[319 rows x 2 columns]\n"
     ]
    }
   ],
   "source": [
    "#show the product name and price for all items where\n",
    "print(file.loc[file[\"Category\"]==\"Kitchen Appliances\",[\"Name\", \"Price\"]])"
   ]
  },
  {
   "cell_type": "code",
   "execution_count": 8,
   "id": "9936abcb-6bd4-4ab9-a60f-7cbb99e6402e",
   "metadata": {},
   "outputs": [
    {
     "name": "stdout",
     "output_type": "stream",
     "text": [
      "                                            Name  Price\n",
      "0     Smart Fan Iron Cooker Go Wireless Portable    585\n",
      "1                                            Fan    992\n",
      "2      Smart Speakerphone Charger Eco Plus Clean    940\n",
      "4                               Keyboard Freezer    908\n",
      "5                              Smart Fridge Plus    627\n",
      "...                                          ...    ...\n",
      "9991                                  Silent Fan    949\n",
      "9992           Smart Trimmer Stove Advanced Plus    518\n",
      "9993                                 Scale Clock    772\n",
      "9994                                     Blender    967\n",
      "9995                                   Powerbank    567\n",
      "\n",
      "[5049 rows x 2 columns]\n"
     ]
    }
   ],
   "source": [
    "#1.\tFind all products with Price > 500\n",
    "print(file.loc[file[\"Price\"]>500,[\"Name\",\"Price\"]])"
   ]
  },
  {
   "cell_type": "code",
   "execution_count": 11,
   "id": "acc3703d-854e-4cb8-a5c9-97aac9c8241b",
   "metadata": {},
   "outputs": [
    {
     "name": "stdout",
     "output_type": "stream",
     "text": [
      "Empty DataFrame\n",
      "Columns: [Name]\n",
      "Index: []\n"
     ]
    }
   ],
   "source": [
    "#Find all products with Stock == 0\n",
    "print(file.loc[file[\"Stock\"]==0,[\"Name\"]])"
   ]
  },
  {
   "cell_type": "code",
   "execution_count": 16,
   "id": "7bf7dea5-ab46-4a68-9b70-3dd93838fc08",
   "metadata": {},
   "outputs": [
    {
     "name": "stdout",
     "output_type": "stream",
     "text": [
      "Empty DataFrame\n",
      "Columns: [Index, Name, Description, Brand, Category, Price, Currency, Stock, EAN, Color, Size, Availability, Internal ID]\n",
      "Index: []\n"
     ]
    }
   ],
   "source": [
    "#Show all products from the brand \"Mueller Inc\"\n",
    "print(file.loc[file[\"Brand\"] == \"Muller Inc\"])"
   ]
  },
  {
   "cell_type": "code",
   "execution_count": 24,
   "id": "66d1952f-faeb-43cd-a0d3-55ddc8d4e5eb",
   "metadata": {},
   "outputs": [
    {
     "name": "stdout",
     "output_type": "stream",
     "text": [
      "                                     Name\n",
      "3          Premium Grill Trimmer Portable\n",
      "17                                Blender\n",
      "18    Wireless Speakerphone Oven Advanced\n",
      "27                              Ultra Fan\n",
      "31       Mini Mixer Freezer Trimmer Smart\n",
      "...                                   ...\n",
      "9975                    Microphone Camera\n",
      "9987                Wireless Radio Silent\n",
      "9988                    Eco Mouse Compact\n",
      "9993                          Scale Clock\n",
      "9995                            Powerbank\n",
      "\n",
      "[681 rows x 1 columns]\n"
     ]
    }
   ],
   "source": [
    "#Show products where Price > 300 and Stock < \n",
    "print(file.loc[(file[\"Price\"]>300) & (file[\"Stock\"]<100),[\"Name\"]])"
   ]
  },
  {
   "cell_type": "code",
   "execution_count": 26,
   "id": "9f19e44a-adf7-4249-a60e-478578d688d8",
   "metadata": {},
   "outputs": [
    {
     "name": "stdout",
     "output_type": "stream",
     "text": [
      "                                  Name  Price  Stock\n",
      "48                     Ultra Watch Eco    703    572\n",
      "49            Fast Lamp Scanner Vacuum    363    250\n",
      "126                         Stove Iron    146    522\n",
      "139        Rechargeable Treadmill Dock    446    341\n",
      "162   Smart Fan Powerbank 360 Advanced    903    857\n",
      "...                                ...    ...    ...\n",
      "9863    Automatic Fridge Mouse Monitor    304    104\n",
      "9872              Digital Toaster Plus    531    335\n",
      "9947         Automatic Grill Phone Eco    595    334\n",
      "9952          Ultra Freezer Phone Edge    783    764\n",
      "9995                         Powerbank    567     27\n",
      "\n",
      "[599 rows x 3 columns]\n"
     ]
    }
   ],
   "source": [
    "#Show products where Category == \"Shoes & Footwear\" or Category == \"Books & Stationery\"\n",
    "print(file.loc[(file[\"Category\"] == \"Shoes & Footwear\") | (file[\"Category\"] == \"Books & Stationery\"), [\"Name\", \"Price\", \"Stock\"]])"
   ]
  },
  {
   "cell_type": "code",
   "execution_count": 29,
   "id": "64def8a0-98a0-443f-a79c-b1695d3d4336",
   "metadata": {},
   "outputs": [
    {
     "name": "stdout",
     "output_type": "stream",
     "text": [
      "                                           Name  Price  Stock\n",
      "2     Smart Speakerphone Charger Eco Plus Clean    940    769\n",
      "5                             Smart Fridge Plus    627    901\n",
      "11                     Mini Powerbank Lite Plus    499    108\n",
      "15              Ultra Powerbank Scale Automatic    223     62\n",
      "23             Smart Microphone Clock Ultra One     17    687\n",
      "...                                         ...    ...    ...\n",
      "9987                      Wireless Radio Silent    465     83\n",
      "9991                                 Silent Fan    949    254\n",
      "9992          Smart Trimmer Stove Advanced Plus    518    668\n",
      "9995                                  Powerbank    567     27\n",
      "9997                                     Heater    399    996\n",
      "\n",
      "[1673 rows x 3 columns]\n"
     ]
    }
   ],
   "source": [
    "#Show products with Availability == \"pre_order\"\n",
    "print(file.loc[(file[\"Availability\"] == \"pre_order\"),[\"Name\", \"Price\", \"Stock\"]])"
   ]
  },
  {
   "cell_type": "code",
   "execution_count": 38,
   "id": "b92363b8-44d3-4097-817b-2ef434cf1e63",
   "metadata": {},
   "outputs": [
    {
     "name": "stdout",
     "output_type": "stream",
     "text": [
      "                                            Name  Price\n",
      "0     Smart Fan Iron Cooker Go Wireless Portable    585\n",
      "2      Smart Speakerphone Charger Eco Plus Clean    940\n",
      "5                              Smart Fridge Plus    627\n",
      "23              Smart Microphone Clock Ultra One     17\n",
      "29                           Smart Lock Mini Pro    989\n",
      "...                                          ...    ...\n",
      "9971             Smart Router Keyboard One Ultra    909\n",
      "9978                                 Smart Drone    433\n",
      "9985         Smart Phone Automatic Advanced Plus    946\n",
      "9989                          Smart Speakerphone    261\n",
      "9992           Smart Trimmer Stove Advanced Plus    518\n",
      "\n",
      "[922 rows x 2 columns]\n"
     ]
    }
   ],
   "source": [
    "#Show products whose Name starts with \"Smart\"\n",
    "print(file.loc[file[\"Name\"].str.startswith(\"Smart\"),[\"Name\",\"Price\"]])\n"
   ]
  },
  {
   "cell_type": "code",
   "execution_count": 41,
   "id": "803773da-e47a-4a16-bf43-695949cc7206",
   "metadata": {},
   "outputs": [
    {
     "name": "stdout",
     "output_type": "stream",
     "text": [
      "                                           Name  Price\n",
      "5121                    Smart Radio Pro Ultra X      1\n",
      "6027               Advanced Powerbank Projector      1\n",
      "4613                     Advanced Treadmill 360      1\n",
      "1374        Mini Mixer Router Phone Smart Prime      1\n",
      "7496  Premium Microphone Headphones Touch Sense      1\n",
      "...                                         ...    ...\n",
      "6573              Mini Oven Drone Mini Portable    999\n",
      "8348               Premium Toaster Scooter Edge    999\n",
      "3931                             Ultra Keyboard    999\n",
      "3576            Pro Clock Router Fridge Air Max    999\n",
      "2717                                 Mini Brush    999\n",
      "\n",
      "[10000 rows x 2 columns]\n"
     ]
    }
   ],
   "source": [
    "#Sort products by Price ascending\n",
    "print(file.sort_values(by=\"Price\",ascending=True)[[\"Name\", \"Price\"]])"
   ]
  },
  {
   "cell_type": "code",
   "execution_count": 43,
   "id": "e44cf72d-cb40-4e46-b598-ea4e9279de54",
   "metadata": {},
   "outputs": [
    {
     "name": "stdout",
     "output_type": "stream",
     "text": [
      "                                         Name  Price\n",
      "8106                Mini Brush Blender Vacuum     26\n",
      "4897                    Eco Lamp Lamp Digital     14\n",
      "497       Smart Charger Mini Max Rechargeable    881\n",
      "174   Advanced Dock Automatic Silent Portable    563\n",
      "9252                          Mini Watch Plus    981\n",
      "...                                       ...    ...\n",
      "2348             Bicycle Speakerphone Printer    791\n",
      "3945        Smart Dock Freezer Projector Edge    250\n",
      "2857                             Compact Iron    743\n",
      "456                              Iron Monitor    209\n",
      "8309         Portable Tablet Speakerphone One    316\n",
      "\n",
      "[10000 rows x 2 columns]\n"
     ]
    }
   ],
   "source": [
    "#Sort products by Stock descending\n",
    "print(file.sort_values(by=\"Stock\",ascending=True)[[\"Name\", \"Price\"]])"
   ]
  },
  {
   "cell_type": "code",
   "execution_count": 44,
   "id": "1d5d5fc0-4b63-41d5-bd62-635426b7d313",
   "metadata": {},
   "outputs": [
    {
     "name": "stdout",
     "output_type": "stream",
     "text": [
      "                                                   Name  Price\n",
      "7529                 Rechargeable Kettle Edge Fast Fast    551\n",
      "9840            Fast Dock Powerbank Speaker Sense Sense    768\n",
      "9375                        Premium Brush Scanner Smart    159\n",
      "7030                                   Compact Dock Pro    631\n",
      "6349                           Advanced Powerbank Air X    112\n",
      "...                                                 ...    ...\n",
      "1088                                  Pro Trimmer Stove    277\n",
      "331                                             Scooter     13\n",
      "1664  Portable Camera Treadmill Heater Advanced Mini...    244\n",
      "5607                                 Smart Mouse Heater    703\n",
      "3773                       Portable Scooter Edge Go 360    225\n",
      "\n",
      "[10000 rows x 2 columns]\n"
     ]
    }
   ],
   "source": [
    "#Sort by Category and within each category by Price (highest first)\n",
    "print(file.sort_values(by=\"Category\",ascending=True)[[\"Name\", \"Price\"]])"
   ]
  },
  {
   "cell_type": "code",
   "execution_count": 46,
   "id": "232ab0d6-2baf-4262-9d06-c132bc74686a",
   "metadata": {},
   "outputs": [
    {
     "name": "stdout",
     "output_type": "stream",
     "text": [
      "      Index                                        Name  \\\n",
      "0         1  Smart Fan Iron Cooker Go Wireless Portable   \n",
      "1         2                                         Fan   \n",
      "2         3   Smart Speakerphone Charger Eco Plus Clean   \n",
      "3         4              Premium Grill Trimmer Portable   \n",
      "4         5                            Keyboard Freezer   \n",
      "...     ...                                         ...   \n",
      "9995   9996                                   Powerbank   \n",
      "9996   9997            Rechargeable Lamp Scanner Vacuum   \n",
      "9997   9998                                      Heater   \n",
      "9998   9999               Rechargeable Headphones Stove   \n",
      "9999  10000                     Clean Charger Treadmill   \n",
      "\n",
      "                                            Description  \\\n",
      "0                             Catch enough role nearly.   \n",
      "1                             All movement yeah tax me.   \n",
      "2                   Quickly inside pull line lay start.   \n",
      "3                                 Lawyer one than fire.   \n",
      "4                     Remain Congress blood plan voice.   \n",
      "...                                                 ...   \n",
      "9995                  Yeah none boy fund city decision.   \n",
      "9996    Appear country enter there pull thing computer.   \n",
      "9997  Owner plan approach soldier church little little.   \n",
      "9998                     Base account partner probably.   \n",
      "9999        Return reflect truth tell scientist season.   \n",
      "\n",
      "                        Brand             Category  Price Currency  Stock  \\\n",
      "0                  Herman Ltd       Kids' Clothing    585      USD    194   \n",
      "1     Braun, King and Rollins       Grooming Tools    992      USD    724   \n",
      "2                Peck-Coleman    Fishing & Hunting    940      USD    769   \n",
      "3                   Hines Ltd             Skincare    324      USD     93   \n",
      "4     Spence, Webster and Orr  Laptops & Computers    908      USD    614   \n",
      "...                       ...                  ...    ...      ...    ...   \n",
      "9995       Castaneda-Harrison   Books & Stationery    567      USD     27   \n",
      "9996                Knapp-Key              Cycling    300      USD    177   \n",
      "9997    Meyer, Case and Mills    Fitness Equipment    399      USD    996   \n",
      "9998               Jones-Bell   Kitchen Appliances     45      USD    274   \n",
      "9999                Davis LLC    Sports & Outdoors     31      USD     46   \n",
      "\n",
      "                EAN        Color         Size   Availability  Internal ID  \n",
      "0     3968600833473     Cornsilk       5x7 in  limited_stock           54  \n",
      "1      191126950284       Bisque            S   discontinued           49  \n",
      "2     7569143820621         Blue  Extra Large      pre_order           42  \n",
      "3     2705140928037        Ivory     50x70 cm   out_of_stock           93  \n",
      "4     9830391008108  FloralWhite     10x10 cm   discontinued           91  \n",
      "...             ...          ...          ...            ...          ...  \n",
      "9995  6519003997216         Cyan       Medium      pre_order            7  \n",
      "9996  4707959228979    MintCream        Large  limited_stock           55  \n",
      "9997  5286509915488    LightGray        Large      pre_order           37  \n",
      "9998  3702651384368    SlateBlue     12x18 in       in_stock           52  \n",
      "9999  8879838276060        Ivory       Medium      backorder           70  \n",
      "\n",
      "[10000 rows x 13 columns]\n"
     ]
    }
   ],
   "source": [
    "#Rename columns Internal ID → internal_id, EAN → product_code, Price → unit_price\n",
    "print(file.rename({\"Internal ID\" : \"internal_id\",\"EAN\" : \n",
    "                   \"product_code\", \"Price\" :\n",
    "                   \"unit_price\"}))"
   ]
  },
  {
   "cell_type": "code",
   "execution_count": 48,
   "id": "4efce784-367b-4fff-99d6-96c936c47ce1",
   "metadata": {},
   "outputs": [
    {
     "name": "stdout",
     "output_type": "stream",
     "text": [
      "Index(['___i___n___d___e___x___', '___n___a___m___e___',\n",
      "       '___d___e___s___c___r___i___p___t___i___o___n___',\n",
      "       '___b___r___a___n___d___', '___c___a___t___e___g___o___r___y___',\n",
      "       '___p___r___i___c___e___', '___c___u___r___r___e___n___c___y___',\n",
      "       '___s___t___o___c___k___', '___e___a___n___', '___c___o___l___o___r___',\n",
      "       '___s___i___z___e___',\n",
      "       '___a___v___a___i___l___a___b___i___l___i___t___y___',\n",
      "       '___i___n___t___e___r___n___a___l___ ___i___d___'],\n",
      "      dtype='object')\n"
     ]
    }
   ],
   "source": [
    "#Make all column names lowercase with underscore\n",
    "file.columns = file.columns.str.lower().str.replace(\"\",\"_\")\n",
    "print(file.columns)"
   ]
  },
  {
   "cell_type": "code",
   "execution_count": 49,
   "id": "f8ee7c36-4e3d-47bf-bb88-9f396c0a40d6",
   "metadata": {},
   "outputs": [
    {
     "name": "stdout",
     "output_type": "stream",
     "text": [
      "      Index                                        Name  \\\n",
      "0         1  Smart Fan Iron Cooker Go Wireless Portable   \n",
      "1         2                                         Fan   \n",
      "2         3   Smart Speakerphone Charger Eco Plus Clean   \n",
      "3         4              Premium Grill Trimmer Portable   \n",
      "4         5                            Keyboard Freezer   \n",
      "...     ...                                         ...   \n",
      "9995   9996                                   Powerbank   \n",
      "9996   9997            Rechargeable Lamp Scanner Vacuum   \n",
      "9997   9998                                      Heater   \n",
      "9998   9999               Rechargeable Headphones Stove   \n",
      "9999  10000                     Clean Charger Treadmill   \n",
      "\n",
      "                        Brand             Category  Price Currency  Stock  \\\n",
      "0                  Herman Ltd       Kids' Clothing    585      USD    194   \n",
      "1     Braun, King and Rollins       Grooming Tools    992      USD    724   \n",
      "2                Peck-Coleman    Fishing & Hunting    940      USD    769   \n",
      "3                   Hines Ltd             Skincare    324      USD     93   \n",
      "4     Spence, Webster and Orr  Laptops & Computers    908      USD    614   \n",
      "...                       ...                  ...    ...      ...    ...   \n",
      "9995       Castaneda-Harrison   Books & Stationery    567      USD     27   \n",
      "9996                Knapp-Key              Cycling    300      USD    177   \n",
      "9997    Meyer, Case and Mills    Fitness Equipment    399      USD    996   \n",
      "9998               Jones-Bell   Kitchen Appliances     45      USD    274   \n",
      "9999                Davis LLC    Sports & Outdoors     31      USD     46   \n",
      "\n",
      "                EAN        Color         Size   Availability  Internal ID  \n",
      "0     3968600833473     Cornsilk       5x7 in  limited_stock           54  \n",
      "1      191126950284       Bisque            S   discontinued           49  \n",
      "2     7569143820621         Blue  Extra Large      pre_order           42  \n",
      "3     2705140928037        Ivory     50x70 cm   out_of_stock           93  \n",
      "4     9830391008108  FloralWhite     10x10 cm   discontinued           91  \n",
      "...             ...          ...          ...            ...          ...  \n",
      "9995  6519003997216         Cyan       Medium      pre_order            7  \n",
      "9996  4707959228979    MintCream        Large  limited_stock           55  \n",
      "9997  5286509915488    LightGray        Large      pre_order           37  \n",
      "9998  3702651384368    SlateBlue     12x18 in       in_stock           52  \n",
      "9999  8879838276060        Ivory       Medium      backorder           70  \n",
      "\n",
      "[10000 rows x 12 columns]\n"
     ]
    }
   ],
   "source": [
    "#Remove the Description column\n",
    "file=pd.read_csv(r\"C:\\Users\\ruman\\OneDrive\\Desktop\\products-10000.csv\")\n",
    "print(file.drop(columns = [\"Description\"]))"
   ]
  },
  {
   "cell_type": "code",
   "execution_count": 52,
   "id": "ebfbcb40-5a7e-44c6-adc7-1fb3f6dd9ef3",
   "metadata": {},
   "outputs": [
    {
     "name": "stdout",
     "output_type": "stream",
     "text": [
      "      Index                                        Name  \\\n",
      "0         1  Smart Fan Iron Cooker Go Wireless Portable   \n",
      "1         2                                         Fan   \n",
      "2         3   Smart Speakerphone Charger Eco Plus Clean   \n",
      "3         4              Premium Grill Trimmer Portable   \n",
      "4         5                            Keyboard Freezer   \n",
      "...     ...                                         ...   \n",
      "9995   9996                                   Powerbank   \n",
      "9996   9997            Rechargeable Lamp Scanner Vacuum   \n",
      "9997   9998                                      Heater   \n",
      "9998   9999               Rechargeable Headphones Stove   \n",
      "9999  10000                     Clean Charger Treadmill   \n",
      "\n",
      "                                            Description  \\\n",
      "0                             Catch enough role nearly.   \n",
      "1                             All movement yeah tax me.   \n",
      "2                   Quickly inside pull line lay start.   \n",
      "3                                 Lawyer one than fire.   \n",
      "4                     Remain Congress blood plan voice.   \n",
      "...                                                 ...   \n",
      "9995                  Yeah none boy fund city decision.   \n",
      "9996    Appear country enter there pull thing computer.   \n",
      "9997  Owner plan approach soldier church little little.   \n",
      "9998                     Base account partner probably.   \n",
      "9999        Return reflect truth tell scientist season.   \n",
      "\n",
      "                        Brand             Category  Price Currency  Stock  \\\n",
      "0                  Herman Ltd       Kids' Clothing    585      USD    194   \n",
      "1     Braun, King and Rollins       Grooming Tools    992      USD    724   \n",
      "2                Peck-Coleman    Fishing & Hunting    940      USD    769   \n",
      "3                   Hines Ltd             Skincare    324      USD     93   \n",
      "4     Spence, Webster and Orr  Laptops & Computers    908      USD    614   \n",
      "...                       ...                  ...    ...      ...    ...   \n",
      "9995       Castaneda-Harrison   Books & Stationery    567      USD     27   \n",
      "9996                Knapp-Key              Cycling    300      USD    177   \n",
      "9997    Meyer, Case and Mills    Fitness Equipment    399      USD    996   \n",
      "9998               Jones-Bell   Kitchen Appliances     45      USD    274   \n",
      "9999                Davis LLC    Sports & Outdoors     31      USD     46   \n",
      "\n",
      "            Color         Size   Availability  \n",
      "0        Cornsilk       5x7 in  limited_stock  \n",
      "1          Bisque            S   discontinued  \n",
      "2            Blue  Extra Large      pre_order  \n",
      "3           Ivory     50x70 cm   out_of_stock  \n",
      "4     FloralWhite     10x10 cm   discontinued  \n",
      "...           ...          ...            ...  \n",
      "9995         Cyan       Medium      pre_order  \n",
      "9996    MintCream        Large  limited_stock  \n",
      "9997    LightGray        Large      pre_order  \n",
      "9998    SlateBlue     12x18 in       in_stock  \n",
      "9999        Ivory       Medium      backorder  \n",
      "\n",
      "[10000 rows x 11 columns]\n"
     ]
    }
   ],
   "source": [
    "#\tRemove both EAN and Internal ID (since they’re identifiers)\n",
    "file=pd.read_csv(r\"C:\\Users\\ruman\\OneDrive\\Desktop\\products-10000.csv\")\n",
    "print(file.drop(columns=[\"EAN\", \"Internal ID\"]))\n"
   ]
  },
  {
   "cell_type": "code",
   "execution_count": 53,
   "id": "c84e61f7-a2d3-42da-956c-210eb9ce0e2d",
   "metadata": {},
   "outputs": [
    {
     "name": "stdout",
     "output_type": "stream",
     "text": [
      "503.3702\n"
     ]
    }
   ],
   "source": [
    "#What is the average price of products\n",
    "print(file[\"Price\"].mean())"
   ]
  },
  {
   "cell_type": "code",
   "execution_count": 6,
   "id": "b59f3452-3110-4b2e-9203-e40cbdcf70bb",
   "metadata": {},
   "outputs": [
    {
     "name": "stdout",
     "output_type": "stream",
     "text": [
      "999\n",
      "                                              Name  Price\n",
      "1115                         Portable Mixer Vacuum    999\n",
      "1334             Portable Speaker Powerbank Camera    999\n",
      "1747                                  Charger Lamp    999\n",
      "2717                                    Mini Brush    999\n",
      "3576               Pro Clock Router Fridge Air Max    999\n",
      "3931                                Ultra Keyboard    999\n",
      "5120  Clean Grill Charger Headphones Sense Digital    999\n",
      "5861                   Fast Keyboard Lite Fast Air    999\n",
      "5958                      Fast Cooker Cooler Smart    999\n",
      "6573                 Mini Oven Drone Mini Portable    999\n",
      "6603                               Portable Cooler    999\n",
      "7462                Smart Bicycle Microphone Touch    999\n",
      "8348                  Premium Toaster Scooter Edge    999\n",
      "8451   Ultra Microphone Lamp Speaker Advanced Edge    999\n",
      "8778                     Automatic Heater Keyboard    999\n",
      "9832                       Ultra Monitor Mini Fast    999\n"
     ]
    }
   ],
   "source": [
    "#What is the maximum and minimum price? Which products are these\n",
    "max_price = file[\"Price\"].max()\n",
    "max_product = file[file[\"Price\"] == max_price][[\"Name\",\"Price\"]]\n",
    "print(max_price)\n",
    "print(max_product)\n"
   ]
  },
  {
   "cell_type": "code",
   "execution_count": 61,
   "id": "bbddee68-6b3f-4a3d-980c-fd4bc9efc51e",
   "metadata": {},
   "outputs": [
    {
     "name": "stdout",
     "output_type": "stream",
     "text": [
      "1\n",
      "                                           Name  Price\n",
      "1032                     Pro Drone Vacuum Clean      1\n",
      "1374        Mini Mixer Router Phone Smart Prime      1\n",
      "2569                               Silent Brush      1\n",
      "2865     Premium Clock Brush Advanced Touch Eco      1\n",
      "4613                     Advanced Treadmill 360      1\n",
      "5121                    Smart Radio Pro Ultra X      1\n",
      "6027               Advanced Powerbank Projector      1\n",
      "6543             Portable Microphone Headphones      1\n",
      "7496  Premium Microphone Headphones Touch Sense      1\n",
      "8432           Clean Radio Iron Automatic Sense      1\n"
     ]
    }
   ],
   "source": [
    "min_price = file[\"Price\"].min()\n",
    "min_product = file[file[\"Price\"] == min_price][[\"Name\",\"Price\"]]\n",
    "print(min_price)\n",
    "print(min_product)\n"
   ]
  },
  {
   "cell_type": "code",
   "execution_count": 63,
   "id": "eb08598f-170a-4daa-a3f9-c0f60f7629c4",
   "metadata": {},
   "outputs": [
    {
     "name": "stdout",
     "output_type": "stream",
     "text": [
      "Category\n",
      "Accessories (Bags, Hats, Belts)    142221\n",
      "Automotive                         144632\n",
      "Beauty & Personal Care             159161\n",
      "Bedding & Bath                     134973\n",
      "Books & Stationery                 153319\n",
      "Cameras & Accessories              156588\n",
      "Camping & Hiking                   160376\n",
      "Cleaning Supplies                  138208\n",
      "Clothing & Apparel                 174236\n",
      "Cycling                            143576\n",
      "Fishing & Hunting                  140486\n",
      "Fitness Equipment                  129491\n",
      "Fragrances                         147291\n",
      "Furniture                          140198\n",
      "Grooming Tools                     158434\n",
      "Haircare                           153993\n",
      "Headphones & Earbuds               156226\n",
      "Health & Wellness                  160698\n",
      "Home & Kitchen                     155687\n",
      "Home Decor                         148472\n",
      "Kids' Clothing                     142940\n",
      "Kitchen Appliances                 153322\n",
      "Laptops & Computers                134019\n",
      "Makeup                             140400\n",
      "Men's Clothing                     132659\n",
      "Office Supplies                    138795\n",
      "Shoes & Footwear                   145658\n",
      "Skincare                           148020\n",
      "Smartphones                        131367\n",
      "Smartwatches                       158401\n",
      "Sports & Outdoors                  136028\n",
      "Team Sports                        159781\n",
      "Toys & Games                       139690\n",
      "Women's Clothing                   133234\n",
      "Name: Stock, dtype: int64\n"
     ]
    }
   ],
   "source": [
    "#What is the average stock per category\n",
    "grouped = file.groupby(\"Category\")[\"Stock\"].sum()\n",
    "print(grouped)"
   ]
  },
  {
   "cell_type": "code",
   "execution_count": 64,
   "id": "2bdaf06a-d723-40ad-af82-a4117343f6c0",
   "metadata": {},
   "outputs": [
    {
     "name": "stdout",
     "output_type": "stream",
     "text": [
      "4992580\n"
     ]
    }
   ],
   "source": [
    "#What is the total stock across all products\n",
    "print(file[\"Stock\"].sum())"
   ]
  },
  {
   "cell_type": "code",
   "execution_count": 67,
   "id": "268c9566-2b86-4bdf-9661-17d48c66f474",
   "metadata": {},
   "outputs": [
    {
     "name": "stdout",
     "output_type": "stream",
     "text": [
      "474.0\n"
     ]
    }
   ],
   "source": [
    "#What is the median price of products in \"Kitchen Appliances\"\n",
    "print(file[file[\"Category\"]==\"Kitchen Appliances\"][\"Price\"].median())"
   ]
  },
  {
   "cell_type": "code",
   "execution_count": 68,
   "id": "49b36e3f-cc76-4f12-936d-11950c99e58d",
   "metadata": {},
   "outputs": [
    {
     "name": "stdout",
     "output_type": "stream",
     "text": [
      "Availability\n",
      "discontinued     1706\n",
      "out_of_stock     1700\n",
      "pre_order        1673\n",
      "limited_stock    1644\n",
      "in_stock         1644\n",
      "backorder        1633\n",
      "Name: count, dtype: int64\n"
     ]
    }
   ],
   "source": [
    "#What is the distribution of Availability values (in_stock vs pre_order)\n",
    "print(file[\"Availability\"].value_counts())"
   ]
  },
  {
   "cell_type": "code",
   "execution_count": 75,
   "id": "34045eaa-d125-4e84-b6b1-59957a103ef2",
   "metadata": {},
   "outputs": [
    {
     "name": "stdout",
     "output_type": "stream",
     "text": [
      "Category\n",
      "Accessories (Bags, Hats, Belts)    491.146617\n",
      "Automotive                         506.744262\n",
      "Beauty & Personal Care             518.562092\n",
      "Bedding & Bath                     503.348485\n",
      "Books & Stationery                 496.870432\n",
      "Cameras & Accessories              491.416129\n",
      "Camping & Hiking                   487.117647\n",
      "Cleaning Supplies                  528.669014\n",
      "Clothing & Apparel                 484.987500\n",
      "Cycling                            536.207885\n",
      "Fishing & Hunting                  526.430000\n",
      "Fitness Equipment                  489.003597\n",
      "Fragrances                         500.090592\n",
      "Furniture                          490.697595\n",
      "Grooming Tools                     522.353698\n",
      "Haircare                           494.102740\n",
      "Headphones & Earbuds               525.215434\n",
      "Health & Wellness                  480.193548\n",
      "Home & Kitchen                     499.629747\n",
      "Home Decor                         484.524752\n",
      "Kids' Clothing                     508.143357\n",
      "Kitchen Appliances                 485.956113\n",
      "Laptops & Computers                537.454545\n",
      "Makeup                             512.073427\n",
      "Men's Clothing                     480.023973\n",
      "Office Supplies                    515.127273\n",
      "Shoes & Footwear                   498.409396\n",
      "Skincare                           516.386207\n",
      "Smartphones                        520.294521\n",
      "Smartwatches                       475.677419\n",
      "Sports & Outdoors                  489.066176\n",
      "Team Sports                        501.572785\n",
      "Toys & Games                       521.897527\n",
      "Women's Clothing                   504.776173\n",
      "Name: Price, dtype: float64\n"
     ]
    }
   ],
   "source": [
    "#Average price per category\n",
    "avg_price_per_category = file.groupby(\"Category\")[\"Price\"].mean()\n",
    "print(avg_price_per_category)\n"
   ]
  },
  {
   "cell_type": "code",
   "execution_count": 77,
   "id": "95d88fec-095b-42a5-83c5-203e015eefed",
   "metadata": {},
   "outputs": [
    {
     "name": "stdout",
     "output_type": "stream",
     "text": [
      "Brand\n",
      "Abbott Ltd                      712\n",
      "Abbott, Holden and Conrad       563\n",
      "Abbott, Lynch and Warner        527\n",
      "Abbott, Pitts and Charles       832\n",
      "Abbott, Zavala and Patrick      143\n",
      "                               ... \n",
      "Zuniga, Schwartz and Barber     570\n",
      "Zuniga, Zavala and Contreras     23\n",
      "Zuniga-Allen                    914\n",
      "Zuniga-Mcpherson                115\n",
      "Zuniga-Yates                    809\n",
      "Name: Stock, Length: 9241, dtype: int64\n"
     ]
    }
   ],
   "source": [
    "#Total stock per brand\n",
    "total_stock_per_brand=file.groupby(\"Brand\")[\"Stock\"].sum()\n",
    "print(total_stock_per_brand)"
   ]
  },
  {
   "cell_type": "code",
   "execution_count": 88,
   "id": "b9041aee-6c2e-403e-b11a-bea938868d66",
   "metadata": {},
   "outputs": [
    {
     "name": "stdout",
     "output_type": "stream",
     "text": [
      "Availability\n",
      "discontinued     1706\n",
      "out_of_stock     1700\n",
      "pre_order        1673\n",
      "limited_stock    1644\n",
      "in_stock         1644\n",
      "backorder        1633\n",
      "Name: count, dtype: int64\n"
     ]
    }
   ],
   "source": [
    "#Count of products per availability status\n",
    "count_per_status = file[\"Availability\"].value_counts()\n",
    "print(count_per_status)\n"
   ]
  },
  {
   "cell_type": "code",
   "execution_count": 89,
   "id": "247d1691-156f-4729-ae79-2c666bbb845d",
   "metadata": {},
   "outputs": [
    {
     "name": "stdout",
     "output_type": "stream",
     "text": [
      "                                 min_stock  max_stock   avg_stock\n",
      "Category                                                         \n",
      "Accessories (Bags, Hats, Belts)          1        994  534.665414\n",
      "Automotive                               1        999  474.203279\n",
      "Beauty & Personal Care                   4        997  520.133987\n",
      "Bedding & Bath                           1        988  511.261364\n",
      "Books & Stationery                       4        990  509.365449\n",
      "Cameras & Accessories                    2        996  505.122581\n",
      "Camping & Hiking                        19        999  524.104575\n",
      "Cleaning Supplies                        1        996  486.647887\n",
      "Clothing & Apparel                       6        997  544.487500\n",
      "Cycling                                  4        995  514.609319\n",
      "Fishing & Hunting                        3        999  468.286667\n",
      "Fitness Equipment                        1        999  465.794964\n",
      "Fragrances                              17        996  513.209059\n",
      "Furniture                                2        990  481.780069\n",
      "Grooming Tools                          15        999  509.434084\n",
      "Haircare                                 1        990  527.373288\n",
      "Headphones & Earbuds                    18        995  502.334405\n",
      "Health & Wellness                        5        998  518.380645\n",
      "Home & Kitchen                           1        999  492.680380\n",
      "Home Decor                               2        998  490.006601\n",
      "Kids' Clothing                           1        997  499.790210\n",
      "Kitchen Appliances                       6        998  480.633229\n",
      "Laptops & Computers                      5        999  507.647727\n",
      "Makeup                                   1        987  490.909091\n",
      "Men's Clothing                           4        999  454.311644\n",
      "Office Supplies                          1        999  504.709091\n",
      "Shoes & Footwear                         3        995  488.785235\n",
      "Skincare                                12        997  510.413793\n",
      "Smartphones                              2        990  449.886986\n",
      "Smartwatches                             2        999  510.970968\n",
      "Sports & Outdoors                        8        999  500.102941\n",
      "Team Sports                              4        999  505.636076\n",
      "Toys & Games                             3        999  493.604240\n",
      "Women's Clothing                         2        996  480.989170\n"
     ]
    }
   ],
   "source": [
    "#Minimum, maximum, and average stock per category\n",
    "stock_stats = file.groupby(\"Category\")[\"Stock\"].agg(min_stock=\"min\",\n",
    "                                                    max_stock=\"max\",\n",
    "                                                    avg_stock=\"mean\")\n",
    "print(stock_stats)"
   ]
  },
  {
   "cell_type": "code",
   "execution_count": 8,
   "id": "10009faa-4756-45c7-a557-a3b7a9d81bca",
   "metadata": {},
   "outputs": [
    {
     "name": "stdout",
     "output_type": "stream",
     "text": [
      "Brand                         Category              \n",
      "Abbott Ltd                    Fishing & Hunting          95.0\n",
      "Abbott, Holden and Conrad     Shoes & Footwear          800.0\n",
      "Abbott, Lynch and Warner      Health & Wellness         521.0\n",
      "Abbott, Pitts and Charles     Books & Stationery        527.0\n",
      "Abbott, Zavala and Patrick    Beauty & Personal Care    611.0\n",
      "                                                        ...  \n",
      "Zuniga, Schwartz and Barber   Home & Kitchen            664.0\n",
      "Zuniga, Zavala and Contreras  Fishing & Hunting          71.0\n",
      "Zuniga-Allen                  Automotive                496.0\n",
      "Zuniga-Mcpherson              Kids' Clothing            969.0\n",
      "Zuniga-Yates                  Clothing & Apparel         32.0\n",
      "Name: Price, Length: 9976, dtype: float64\n"
     ]
    }
   ],
   "source": [
    "#Average price per brand and per category (multi-level groupby)\n",
    "avg_price_brand_category = file.groupby([\"Brand\", \"Category\"])[\"Price\"].mean()\n",
    "print(avg_price_brand_category)\n"
   ]
  },
  {
   "cell_type": "code",
   "execution_count": 14,
   "id": "3f16ba44-22ce-4a31-b992-13b953f26fd4",
   "metadata": {},
   "outputs": [
    {
     "name": "stdout",
     "output_type": "stream",
     "text": [
      "                             Brand  Stock  Price\n",
      "1777                    Abbott Ltd    712     95\n",
      "8670     Abbott, Holden and Conrad    563    800\n",
      "3849      Abbott, Lynch and Warner    527    521\n",
      "534      Abbott, Pitts and Charles    832    527\n",
      "1218    Abbott, Zavala and Patrick    143    611\n",
      "...                            ...    ...    ...\n",
      "9751   Zuniga, Schwartz and Barber    570    664\n",
      "1535  Zuniga, Zavala and Contreras     23     71\n",
      "3784                  Zuniga-Allen    914    496\n",
      "2014              Zuniga-Mcpherson    115    969\n",
      "3125                  Zuniga-Yates    809     32\n",
      "\n",
      "[9241 rows x 3 columns]\n"
     ]
    }
   ],
   "source": [
    "#********\n",
    "#\tFor each brand, which product has the highest price\n",
    "\n",
    "print(file.loc[file.groupby(\"Brand\")[\"Price\"].idxmax(),[\"Brand\", \"Stock\", \"Price\"]])"
   ]
  },
  {
   "cell_type": "code",
   "execution_count": 13,
   "id": "15eed8a5-13ef-4d3a-ab6b-4f71f1b1eb86",
   "metadata": {},
   "outputs": [
    {
     "name": "stdout",
     "output_type": "stream",
     "text": [
      "Index(['Index', 'Name', 'Description', 'Brand', 'Category', 'Price',\n",
      "       'Currency', 'Stock', 'EAN', 'Color', 'Size', 'Availability',\n",
      "       'Internal ID'],\n",
      "      dtype='object')\n"
     ]
    }
   ],
   "source": [
    "print(file.columns)"
   ]
  },
  {
   "cell_type": "code",
   "execution_count": 16,
   "id": "2de5cfa0-6be6-4ac0-be21-34635fc9803d",
   "metadata": {},
   "outputs": [
    {
     "name": "stdout",
     "output_type": "stream",
     "text": [
      "   Index                                        Name  \\\n",
      "0      1  Smart Fan Iron Cooker Go Wireless Portable   \n",
      "1      2                                         Fan   \n",
      "2      3   Smart Speakerphone Charger Eco Plus Clean   \n",
      "3      4              Premium Grill Trimmer Portable   \n",
      "4      5                            Keyboard Freezer   \n",
      "\n",
      "                           Description                    Brand  \\\n",
      "0            Catch enough role nearly.               Herman Ltd   \n",
      "1            All movement yeah tax me.  Braun, King and Rollins   \n",
      "2  Quickly inside pull line lay start.             Peck-Coleman   \n",
      "3                Lawyer one than fire.                Hines Ltd   \n",
      "4    Remain Congress blood plan voice.  Spence, Webster and Orr   \n",
      "\n",
      "              Category  Price Currency  Stock            EAN        Color  \\\n",
      "0       Kids' Clothing    585      USD    194  3968600833473     Cornsilk   \n",
      "1       Grooming Tools    992      USD    724   191126950284       Bisque   \n",
      "2    Fishing & Hunting    940      USD    769  7569143820621         Blue   \n",
      "3             Skincare    324      USD     93  2705140928037        Ivory   \n",
      "4  Laptops & Computers    908      USD    614  9830391008108  FloralWhite   \n",
      "\n",
      "          Size   Availability  Internal ID  Price_with_Tex  \n",
      "0       5x7 in  limited_stock           54          672.75  \n",
      "1            S   discontinued           49         1140.80  \n",
      "2  Extra Large      pre_order           42         1081.00  \n",
      "3     50x70 cm   out_of_stock           93          372.60  \n",
      "4     10x10 cm   discontinued           91         1044.20  \n"
     ]
    }
   ],
   "source": [
    "#1\tAdd a new column: Price_with_Tax = Price * 1.15 (assuming 15% tax)\n",
    "file[\"Price_with_Tex\"]=file[\"Price\"]*1.15\n",
    "print(file.head())"
   ]
  },
  {
   "cell_type": "code",
   "execution_count": 18,
   "id": "eb60bdaa-c18c-417c-8605-0355843b3d88",
   "metadata": {},
   "outputs": [
    {
     "name": "stdout",
     "output_type": "stream",
     "text": [
      "      Index                                        Name  \\\n",
      "0         1  Smart Fan Iron Cooker Go Wireless Portable   \n",
      "1         2                                         Fan   \n",
      "2         3   Smart Speakerphone Charger Eco Plus Clean   \n",
      "3         4              Premium Grill Trimmer Portable   \n",
      "4         5                            Keyboard Freezer   \n",
      "...     ...                                         ...   \n",
      "9995   9996                                   Powerbank   \n",
      "9996   9997            Rechargeable Lamp Scanner Vacuum   \n",
      "9997   9998                                      Heater   \n",
      "9998   9999               Rechargeable Headphones Stove   \n",
      "9999  10000                     Clean Charger Treadmill   \n",
      "\n",
      "                                            Description  \\\n",
      "0                             Catch enough role nearly.   \n",
      "1                             All movement yeah tax me.   \n",
      "2                   Quickly inside pull line lay start.   \n",
      "3                                 Lawyer one than fire.   \n",
      "4                     Remain Congress blood plan voice.   \n",
      "...                                                 ...   \n",
      "9995                  Yeah none boy fund city decision.   \n",
      "9996    Appear country enter there pull thing computer.   \n",
      "9997  Owner plan approach soldier church little little.   \n",
      "9998                     Base account partner probably.   \n",
      "9999        Return reflect truth tell scientist season.   \n",
      "\n",
      "                        Brand             Category  Price Currency  Stock  \\\n",
      "0                  Herman Ltd       Kids' Clothing    585      USD    194   \n",
      "1     Braun, King and Rollins       Grooming Tools    992      USD    724   \n",
      "2                Peck-Coleman    Fishing & Hunting    940      USD    769   \n",
      "3                   Hines Ltd             Skincare    324      USD     93   \n",
      "4     Spence, Webster and Orr  Laptops & Computers    908      USD    614   \n",
      "...                       ...                  ...    ...      ...    ...   \n",
      "9995       Castaneda-Harrison   Books & Stationery    567      USD     27   \n",
      "9996                Knapp-Key              Cycling    300      USD    177   \n",
      "9997    Meyer, Case and Mills    Fitness Equipment    399      USD    996   \n",
      "9998               Jones-Bell   Kitchen Appliances     45      USD    274   \n",
      "9999                Davis LLC    Sports & Outdoors     31      USD     46   \n",
      "\n",
      "                EAN        Color         Size   Availability  Internal ID  \\\n",
      "0     3968600833473     Cornsilk       5x7 in  limited_stock           54   \n",
      "1      191126950284       Bisque            S   discontinued           49   \n",
      "2     7569143820621         Blue  Extra Large      pre_order           42   \n",
      "3     2705140928037        Ivory     50x70 cm   out_of_stock           93   \n",
      "4     9830391008108  FloralWhite     10x10 cm   discontinued           91   \n",
      "...             ...          ...          ...            ...          ...   \n",
      "9995  6519003997216         Cyan       Medium      pre_order            7   \n",
      "9996  4707959228979    MintCream        Large  limited_stock           55   \n",
      "9997  5286509915488    LightGray        Large      pre_order           37   \n",
      "9998  3702651384368    SlateBlue     12x18 in       in_stock           52   \n",
      "9999  8879838276060        Ivory       Medium      backorder           70   \n",
      "\n",
      "      Price_with_Tex  Average_Price_per_Category  \n",
      "0             672.75                  508.143357  \n",
      "1            1140.80                  522.353698  \n",
      "2            1081.00                  526.430000  \n",
      "3             372.60                  516.386207  \n",
      "4            1044.20                  537.454545  \n",
      "...              ...                         ...  \n",
      "9995          652.05                  496.870432  \n",
      "9996          345.00                  536.207885  \n",
      "9997          458.85                  489.003597  \n",
      "9998           51.75                  485.956113  \n",
      "9999           35.65                  489.066176  \n",
      "\n",
      "[10000 rows x 15 columns]\n"
     ]
    }
   ],
   "source": [
    "#2.\tAdd a new column: average price per category (using transform)\n",
    "file[\"Average_Price_per_Category\"]=file.groupby(\"Category\")[\"Price\"].transform(\"mean\")\n",
    "print(file)"
   ]
  },
  {
   "cell_type": "code",
   "execution_count": 21,
   "id": "e129f4a1-6527-4b6e-85b2-550fc06adb9d",
   "metadata": {},
   "outputs": [
    {
     "name": "stdout",
     "output_type": "stream",
     "text": [
      "      Index                                        Name  \\\n",
      "0         1  Smart Fan Iron Cooker Go Wireless Portable   \n",
      "1         2                                         Fan   \n",
      "2         3   Smart Speakerphone Charger Eco Plus Clean   \n",
      "3         4              Premium Grill Trimmer Portable   \n",
      "4         5                            Keyboard Freezer   \n",
      "...     ...                                         ...   \n",
      "9995   9996                                   Powerbank   \n",
      "9996   9997            Rechargeable Lamp Scanner Vacuum   \n",
      "9997   9998                                      Heater   \n",
      "9998   9999               Rechargeable Headphones Stove   \n",
      "9999  10000                     Clean Charger Treadmill   \n",
      "\n",
      "                                            Description  \\\n",
      "0                             Catch enough role nearly.   \n",
      "1                             All movement yeah tax me.   \n",
      "2                   Quickly inside pull line lay start.   \n",
      "3                                 Lawyer one than fire.   \n",
      "4                     Remain Congress blood plan voice.   \n",
      "...                                                 ...   \n",
      "9995                  Yeah none boy fund city decision.   \n",
      "9996    Appear country enter there pull thing computer.   \n",
      "9997  Owner plan approach soldier church little little.   \n",
      "9998                     Base account partner probably.   \n",
      "9999        Return reflect truth tell scientist season.   \n",
      "\n",
      "                        Brand             Category  Price Currency  Stock  \\\n",
      "0                  Herman Ltd       Kids' Clothing    585      USD    194   \n",
      "1     Braun, King and Rollins       Grooming Tools    992      USD    724   \n",
      "2                Peck-Coleman    Fishing & Hunting    940      USD    769   \n",
      "3                   Hines Ltd             Skincare    324      USD     93   \n",
      "4     Spence, Webster and Orr  Laptops & Computers    908      USD    614   \n",
      "...                       ...                  ...    ...      ...    ...   \n",
      "9995       Castaneda-Harrison   Books & Stationery    567      USD     27   \n",
      "9996                Knapp-Key              Cycling    300      USD    177   \n",
      "9997    Meyer, Case and Mills    Fitness Equipment    399      USD    996   \n",
      "9998               Jones-Bell   Kitchen Appliances     45      USD    274   \n",
      "9999                Davis LLC    Sports & Outdoors     31      USD     46   \n",
      "\n",
      "                EAN        Color         Size   Availability  Internal ID  \\\n",
      "0     3968600833473     Cornsilk       5x7 in  limited_stock           54   \n",
      "1      191126950284       Bisque            S   discontinued           49   \n",
      "2     7569143820621         Blue  Extra Large      pre_order           42   \n",
      "3     2705140928037        Ivory     50x70 cm   out_of_stock           93   \n",
      "4     9830391008108  FloralWhite     10x10 cm   discontinued           91   \n",
      "...             ...          ...          ...            ...          ...   \n",
      "9995  6519003997216         Cyan       Medium      pre_order            7   \n",
      "9996  4707959228979    MintCream        Large  limited_stock           55   \n",
      "9997  5286509915488    LightGray        Large      pre_order           37   \n",
      "9998  3702651384368    SlateBlue     12x18 in       in_stock           52   \n",
      "9999  8879838276060        Ivory       Medium      backorder           70   \n",
      "\n",
      "      Price_with_Tex  Average_Price_per_Category  Price_vs_Category_Average  \n",
      "0             672.75                  508.143357                  76.856643  \n",
      "1            1140.80                  522.353698                 469.646302  \n",
      "2            1081.00                  526.430000                 413.570000  \n",
      "3             372.60                  516.386207                -192.386207  \n",
      "4            1044.20                  537.454545                 370.545455  \n",
      "...              ...                         ...                        ...  \n",
      "9995          652.05                  496.870432                  70.129568  \n",
      "9996          345.00                  536.207885                -236.207885  \n",
      "9997          458.85                  489.003597                 -90.003597  \n",
      "9998           51.75                  485.956113                -440.956113  \n",
      "9999           35.65                  489.066176                -458.066176  \n",
      "\n",
      "[10000 rows x 16 columns]\n"
     ]
    }
   ],
   "source": [
    "#3.\tAdd a column: difference between each product’s price and its category average.\n",
    "file[\"Price_vs_Category_Average\"]=file[\"Price\"]-file[\"Average_Price_per_Category\"]\n",
    "print(file)"
   ]
  },
  {
   "cell_type": "code",
   "execution_count": 24,
   "id": "2795136b-4eab-462e-8393-43c59495b34d",
   "metadata": {},
   "outputs": [
    {
     "name": "stdout",
     "output_type": "stream",
     "text": [
      "   Index                                        Name  \\\n",
      "0      1  Smart Fan Iron Cooker Go Wireless Portable   \n",
      "1      2                                         Fan   \n",
      "2      3   Smart Speakerphone Charger Eco Plus Clean   \n",
      "3      4              Premium Grill Trimmer Portable   \n",
      "4      5                            Keyboard Freezer   \n",
      "\n",
      "                           Description                    Brand  \\\n",
      "0            Catch enough role nearly.               Herman Ltd   \n",
      "1            All movement yeah tax me.  Braun, King and Rollins   \n",
      "2  Quickly inside pull line lay start.             Peck-Coleman   \n",
      "3                Lawyer one than fire.                Hines Ltd   \n",
      "4    Remain Congress blood plan voice.  Spence, Webster and Orr   \n",
      "\n",
      "              Category  Price Currency  Stock            EAN        Color  \\\n",
      "0       Kids' Clothing    585      USD    194  3968600833473     Cornsilk   \n",
      "1       Grooming Tools    992      USD    724   191126950284       Bisque   \n",
      "2    Fishing & Hunting    940      USD    769  7569143820621         Blue   \n",
      "3             Skincare    324      USD     93  2705140928037        Ivory   \n",
      "4  Laptops & Computers    908      USD    614  9830391008108  FloralWhite   \n",
      "\n",
      "          Size   Availability  Internal ID  Price_with_Tex  \\\n",
      "0       5x7 in  limited_stock           54          672.75   \n",
      "1            S   discontinued           49         1140.80   \n",
      "2  Extra Large      pre_order           42         1081.00   \n",
      "3     50x70 cm   out_of_stock           93          372.60   \n",
      "4     10x10 cm   discontinued           91         1044.20   \n",
      "\n",
      "   Average_Price_per_Category  Price_vs_Category_Average  \\\n",
      "0                  508.143357                  76.856643   \n",
      "1                  522.353698                 469.646302   \n",
      "2                  526.430000                 413.570000   \n",
      "3                  516.386207                -192.386207   \n",
      "4                  537.454545                 370.545455   \n",
      "\n",
      "   Category_Total_Stock  Stock_%_of_Category  \n",
      "0                142940             0.135721  \n",
      "1                158434             0.456973  \n",
      "2                140486             0.547386  \n",
      "3                148020             0.062829  \n",
      "4                134019             0.458144  \n"
     ]
    }
   ],
   "source": [
    "#4.\tAdd a column: % contribution of each product’s stock to its category stock.\n",
    "file[\"Category_Total_Stock\"] = file.groupby(\"Category\")[\"Stock\"].transform(\"sum\")\n",
    "file[\"Stock_%_of_Category\"] = (file[\"Stock\"] / file[\"Category_Total_Stock\"]) * 100\n",
    "\n",
    "print(file.head())\n"
   ]
  },
  {
   "cell_type": "code",
   "execution_count": 27,
   "id": "2fec33a3-2149-45f9-835a-9b92bc593b2a",
   "metadata": {},
   "outputs": [
    {
     "name": "stdout",
     "output_type": "stream",
     "text": [
      "      Index                                        Name  \\\n",
      "0         1  Smart Fan Iron Cooker Go Wireless Portable   \n",
      "1         2                                         Fan   \n",
      "2         3   Smart Speakerphone Charger Eco Plus Clean   \n",
      "3         4              Premium Grill Trimmer Portable   \n",
      "4         5                            Keyboard Freezer   \n",
      "...     ...                                         ...   \n",
      "9995   9996                                   Powerbank   \n",
      "9996   9997            Rechargeable Lamp Scanner Vacuum   \n",
      "9997   9998                                      Heater   \n",
      "9998   9999               Rechargeable Headphones Stove   \n",
      "9999  10000                     Clean Charger Treadmill   \n",
      "\n",
      "                                            Description  \\\n",
      "0                             Catch enough role nearly.   \n",
      "1                             All movement yeah tax me.   \n",
      "2                   Quickly inside pull line lay start.   \n",
      "3                                 Lawyer one than fire.   \n",
      "4                     Remain Congress blood plan voice.   \n",
      "...                                                 ...   \n",
      "9995                  Yeah none boy fund city decision.   \n",
      "9996    Appear country enter there pull thing computer.   \n",
      "9997  Owner plan approach soldier church little little.   \n",
      "9998                     Base account partner probably.   \n",
      "9999        Return reflect truth tell scientist season.   \n",
      "\n",
      "                        Brand             Category  Price Currency  Stock  \\\n",
      "0                  Herman Ltd       Kids' Clothing    585      USD    194   \n",
      "1     Braun, King and Rollins       Grooming Tools    992      USD    724   \n",
      "2                Peck-Coleman    Fishing & Hunting    940      USD    769   \n",
      "3                   Hines Ltd             Skincare    324      USD     93   \n",
      "4     Spence, Webster and Orr  Laptops & Computers    908      USD    614   \n",
      "...                       ...                  ...    ...      ...    ...   \n",
      "9995       Castaneda-Harrison   Books & Stationery    567      USD     27   \n",
      "9996                Knapp-Key              Cycling    300      USD    177   \n",
      "9997    Meyer, Case and Mills    Fitness Equipment    399      USD    996   \n",
      "9998               Jones-Bell   Kitchen Appliances     45      USD    274   \n",
      "9999                Davis LLC    Sports & Outdoors     31      USD     46   \n",
      "\n",
      "                EAN        Color         Size   Availability  Internal ID  \\\n",
      "0     3968600833473     Cornsilk       5x7 in  limited_stock           54   \n",
      "1      191126950284       Bisque            S   discontinued           49   \n",
      "2     7569143820621         Blue  Extra Large      pre_order           42   \n",
      "3     2705140928037        Ivory     50x70 cm   out_of_stock           93   \n",
      "4     9830391008108  FloralWhite     10x10 cm   discontinued           91   \n",
      "...             ...          ...          ...            ...          ...   \n",
      "9995  6519003997216         Cyan       Medium      pre_order            7   \n",
      "9996  4707959228979    MintCream        Large  limited_stock           55   \n",
      "9997  5286509915488    LightGray        Large      pre_order           37   \n",
      "9998  3702651384368    SlateBlue     12x18 in       in_stock           52   \n",
      "9999  8879838276060        Ivory       Medium      backorder           70   \n",
      "\n",
      "      Price_with_Tex  Average_Price_per_Category  Price_vs_Category_Average  \\\n",
      "0             672.75                  508.143357                  76.856643   \n",
      "1            1140.80                  522.353698                 469.646302   \n",
      "2            1081.00                  526.430000                 413.570000   \n",
      "3             372.60                  516.386207                -192.386207   \n",
      "4            1044.20                  537.454545                 370.545455   \n",
      "...              ...                         ...                        ...   \n",
      "9995          652.05                  496.870432                  70.129568   \n",
      "9996          345.00                  536.207885                -236.207885   \n",
      "9997          458.85                  489.003597                 -90.003597   \n",
      "9998           51.75                  485.956113                -440.956113   \n",
      "9999           35.65                  489.066176                -458.066176   \n",
      "\n",
      "      Category_Total_Stock  Stock_%_of_Category  Price_Rank_in_Category  \n",
      "0                   142940             0.135721                   129.0  \n",
      "1                   158434             0.456973                     5.0  \n",
      "2                   140486             0.547386                    24.5  \n",
      "3                   148020             0.062829                   200.0  \n",
      "4                   134019             0.458144                    28.0  \n",
      "...                    ...                  ...                     ...  \n",
      "9995                153319             0.017610                   128.0  \n",
      "9996                143576             0.123280                   202.0  \n",
      "9997                129491             0.769165                   157.0  \n",
      "9998                153322             0.178709                   308.0  \n",
      "9999                136028             0.033817                   268.0  \n",
      "\n",
      "[10000 rows x 19 columns]\n"
     ]
    }
   ],
   "source": [
    "#5.\tRank products within each category by price.\n",
    "\n",
    "file[\"Price_Rank_in_Category\"]=file.groupby(\"Category\")[\"Price\"].rank(ascending=False)\n",
    "print(file)\n"
   ]
  },
  {
   "cell_type": "code",
   "execution_count": 28,
   "id": "e4404b12-c1bd-4edc-9f4a-abfd927073a7",
   "metadata": {},
   "outputs": [
    {
     "name": "stdout",
     "output_type": "stream",
     "text": [
      "0       Catch enou\n",
      "1       All moveme\n",
      "2       Quickly in\n",
      "3       Lawyer one\n",
      "4       Remain Con\n",
      "           ...    \n",
      "9995    Yeah none \n",
      "9996    Appear cou\n",
      "9997    Owner plan\n",
      "9998    Base accou\n",
      "9999    Return ref\n",
      "Name: Description, Length: 10000, dtype: object\n"
     ]
    }
   ],
   "source": [
    "#1.\tExtract the first 10 characters of Description.\n",
    "print(file[\"Description\"].str[:10])"
   ]
  },
  {
   "cell_type": "code",
   "execution_count": 30,
   "id": "1be6ae2a-4894-47c3-b926-d30eec8c47d5",
   "metadata": {},
   "outputs": [
    {
     "name": "stdout",
     "output_type": "stream",
     "text": [
      "   Index                                        Name  \\\n",
      "0      1  Smart Fan Iron Cooker Go Wireless Portable   \n",
      "1      2                                         Fan   \n",
      "2      3   Smart Speakerphone Charger Eco Plus Clean   \n",
      "3      4              Premium Grill Trimmer Portable   \n",
      "4      5                            Keyboard Freezer   \n",
      "\n",
      "                           Description                    Brand  \\\n",
      "0            Catch enough role nearly.               Herman Ltd   \n",
      "1            All movement yeah tax me.  Braun, King and Rollins   \n",
      "2  Quickly inside pull line lay start.             Peck-Coleman   \n",
      "3                Lawyer one than fire.                Hines Ltd   \n",
      "4    Remain Congress blood plan voice.  Spence, Webster and Orr   \n",
      "\n",
      "              Category  Price Currency  Stock            EAN        Color  \\\n",
      "0       Kids' Clothing    585      USD    194  3968600833473     Cornsilk   \n",
      "1       Grooming Tools    992      USD    724   191126950284       Bisque   \n",
      "2    Fishing & Hunting    940      USD    769  7569143820621         Blue   \n",
      "3             Skincare    324      USD     93  2705140928037        Ivory   \n",
      "4  Laptops & Computers    908      USD    614  9830391008108  FloralWhite   \n",
      "\n",
      "          Size   Availability  Internal ID  Price_with_Tex  \\\n",
      "0       5x7 in  limited_stock           54          672.75   \n",
      "1            S   discontinued           49         1140.80   \n",
      "2  Extra Large      pre_order           42         1081.00   \n",
      "3     50x70 cm   out_of_stock           93          372.60   \n",
      "4     10x10 cm   discontinued           91         1044.20   \n",
      "\n",
      "   Average_Price_per_Category  Price_vs_Category_Average  \\\n",
      "0                  508.143357                  76.856643   \n",
      "1                  522.353698                 469.646302   \n",
      "2                  526.430000                 413.570000   \n",
      "3                  516.386207                -192.386207   \n",
      "4                  537.454545                 370.545455   \n",
      "\n",
      "   Category_Total_Stock  Stock_%_of_Category  Price_Rank_in_Category  \\\n",
      "0                142940             0.135721                   129.0   \n",
      "1                158434             0.456973                     5.0   \n",
      "2                140486             0.547386                    24.5   \n",
      "3                148020             0.062829                   200.0   \n",
      "4                134019             0.458144                    28.0   \n",
      "\n",
      "  Desc_First10  \n",
      "0   Catch enou  \n",
      "1   All moveme  \n",
      "2   Quickly in  \n",
      "3   Lawyer one  \n",
      "4   Remain Con  \n"
     ]
    }
   ],
   "source": [
    "#2.\tCount how many product names contain the word \"Digital\".\n",
    "file[\"Desc_First10\"] = file[\"Description\"].str[:10]\n",
    "print(file.head())"
   ]
  },
  {
   "cell_type": "code",
   "execution_count": 31,
   "id": "d8d97cc6-b01b-49e4-adb0-64db1c2278b6",
   "metadata": {},
   "outputs": [
    {
     "name": "stdout",
     "output_type": "stream",
     "text": [
      "0                    HERMAN LTD\n",
      "1       BRAUN, KING AND ROLLINS\n",
      "2                  PECK-COLEMAN\n",
      "3                     HINES LTD\n",
      "4       SPENCE, WEBSTER AND ORR\n",
      "                 ...           \n",
      "9995         CASTANEDA-HARRISON\n",
      "9996                  KNAPP-KEY\n",
      "9997      MEYER, CASE AND MILLS\n",
      "9998                 JONES-BELL\n",
      "9999                  DAVIS LLC\n",
      "Name: Brand, Length: 10000, dtype: object\n"
     ]
    }
   ],
   "source": [
    "#3.\tConvert all brand names to uppercase.\n",
    "print(file[\"Brand\"].str.upper())"
   ]
  },
  {
   "cell_type": "code",
   "execution_count": 32,
   "id": "557d05ea-0ec9-41a4-b40e-baf99e9910ba",
   "metadata": {},
   "outputs": [
    {
     "name": "stdout",
     "output_type": "stream",
     "text": [
      "      Index                                          Name  \\\n",
      "40       41                             Smart Scale Stove   \n",
      "647     648         Digital Thermostat Drone Heater Smart   \n",
      "788     789                             Eco Lamp Go Prime   \n",
      "799     800                 Compact Webcam Dock Heater Go   \n",
      "1328   1329  Clean Toaster Light Monitor Smart Touch Lite   \n",
      "...     ...                                           ...   \n",
      "9450   9451             Rechargeable Webcam Printer Smart   \n",
      "9507   9508                           Premium Phone Grill   \n",
      "9529   9530                        Clean Webcam Powerbank   \n",
      "9599   9600                  Rechargeable Toaster Scooter   \n",
      "9786   9787  Fast Thermostat Webcam Bicycle Digital Smart   \n",
      "\n",
      "                                            Description  \\\n",
      "40            Two toward direction memory account cost.   \n",
      "647                            Bad protect half memory.   \n",
      "788   Memory possible suggest product just leader read.   \n",
      "799         Story song memory space under next several.   \n",
      "1328        Memory society defense relationship go air.   \n",
      "...                                                 ...   \n",
      "9450               Police toward memory pick line help.   \n",
      "9507       Rather memory car offer bad real race break.   \n",
      "9529                         Memory station management.   \n",
      "9599      Hold when memory somebody with economy light.   \n",
      "9786                     Newspaper other agency memory.   \n",
      "\n",
      "                            Brand               Category  Price Currency  \\\n",
      "40        Pace, Becker and Ibarra           Smartwatches    334      USD   \n",
      "647                  Snyder Group  Cameras & Accessories    583      USD   \n",
      "788   Parrish, Duarte and Andrade            Team Sports    436      USD   \n",
      "799               Michael-Patrick           Toys & Games    428      USD   \n",
      "1328                 Burch-Mccann      Cleaning Supplies    796      USD   \n",
      "...                           ...                    ...    ...      ...   \n",
      "9450  Valencia, Landry and Lawson         Bedding & Bath    821      USD   \n",
      "9507                     Wood PLC            Team Sports    629      USD   \n",
      "9529   Allison, Young and Marquez         Men's Clothing    943      USD   \n",
      "9599                 Trujillo Ltd         Men's Clothing    716      USD   \n",
      "9786             Peterson-Salazar    Laptops & Computers    878      USD   \n",
      "\n",
      "      Stock            EAN            Color      Size   Availability  \\\n",
      "40       38  9990041184672     AntiqueWhite    5x7 in       in_stock   \n",
      "647     836  9470569304023        GoldenRod  10x10 cm   out_of_stock   \n",
      "788     265  5143957310961            Azure     Large      pre_order   \n",
      "799     677  7586820636016              Tan   8x10 in      backorder   \n",
      "1328    577  5998627872269  MediumVioletRed     Small   out_of_stock   \n",
      "...     ...            ...              ...       ...            ...   \n",
      "9450    873  5542994445344          OldLace  12x18 in  limited_stock   \n",
      "9507    776  4158824855651              Tan         L      backorder   \n",
      "9529    364  4939379844617            White     Small   discontinued   \n",
      "9599    702  9157920675465      LightYellow    5x7 in   discontinued   \n",
      "9786    144  8129315355437      ForestGreen         M   out_of_stock   \n",
      "\n",
      "      Internal ID  Price_with_Tex  Average_Price_per_Category  \\\n",
      "40             10          384.10                  475.677419   \n",
      "647            83          670.45                  491.416129   \n",
      "788            53          501.40                  501.572785   \n",
      "799            27          492.20                  521.897527   \n",
      "1328           72          915.40                  528.669014   \n",
      "...           ...             ...                         ...   \n",
      "9450           60          944.15                  503.348485   \n",
      "9507           68          723.35                  501.572785   \n",
      "9529           70         1084.45                  480.023973   \n",
      "9599           72          823.40                  480.023973   \n",
      "9786           96         1009.70                  537.454545   \n",
      "\n",
      "      Price_vs_Category_Average  Category_Total_Stock  Stock_%_of_Category  \\\n",
      "40                  -141.677419                158401             0.023990   \n",
      "647                   91.583871                156588             0.533885   \n",
      "788                  -65.572785                159781             0.165852   \n",
      "799                  -93.897527                139690             0.484645   \n",
      "1328                 267.330986                138208             0.417487   \n",
      "...                         ...                   ...                  ...   \n",
      "9450                 317.651515                134973             0.646796   \n",
      "9507                 127.427215                159781             0.485665   \n",
      "9529                 462.976027                132659             0.274388   \n",
      "9599                 235.976027                132659             0.529176   \n",
      "9786                 340.545455                134019             0.107447   \n",
      "\n",
      "      Price_Rank_in_Category Desc_First10  \n",
      "40                     195.5   Two toward  \n",
      "647                    118.0   Bad protec  \n",
      "788                    179.0   Memory pos  \n",
      "799                    161.0   Story song  \n",
      "1328                    63.0   Memory soc  \n",
      "...                      ...          ...  \n",
      "9450                    44.0   Police tow  \n",
      "9507                   123.0   Rather mem  \n",
      "9529                    19.0   Memory sta  \n",
      "9599                    77.5   Hold when   \n",
      "9786                    35.5   Newspaper   \n",
      "\n",
      "[61 rows x 20 columns]\n"
     ]
    }
   ],
   "source": [
    "#4.\tFind all products where Description contains \"memory\".\n",
    "print(file[file[\"Description\"].str.contains(\"memory\", case=False, na=False)])"
   ]
  },
  {
   "cell_type": "code",
   "execution_count": 3,
   "id": "16dff345-d8ff-4cc4-8256-700095a38f6c",
   "metadata": {},
   "outputs": [
    {
     "name": "stdout",
     "output_type": "stream",
     "text": [
      "   Product_Name_Length\n",
      "0                   42\n",
      "1                    3\n",
      "2                   41\n",
      "3                   30\n",
      "4                   16\n"
     ]
    }
   ],
   "source": [
    "#5.\tGet the length of each product name\n",
    "file[\"Product_Name_Length\"] = file[\"Name\"].str.len()\n",
    "\n",
    "print(file[[\"Product_Name_Length\"]].head())"
   ]
  },
  {
   "cell_type": "code",
   "execution_count": 38,
   "id": "8af5db6d-21b9-4fca-a6ad-9afa6e511a18",
   "metadata": {},
   "outputs": [
    {
     "name": "stdout",
     "output_type": "stream",
     "text": [
      "      Index                              Name  \\\n",
      "8         9    Compact Fan Scooter Headphones   \n",
      "15       16   Ultra Powerbank Scale Automatic   \n",
      "20       21                              Lock   \n",
      "26       27             Clean Mixer Ultra Eco   \n",
      "29       30               Smart Lock Mini Pro   \n",
      "...     ...                               ...   \n",
      "9995   9996                         Powerbank   \n",
      "9996   9997  Rechargeable Lamp Scanner Vacuum   \n",
      "9997   9998                            Heater   \n",
      "9998   9999     Rechargeable Headphones Stove   \n",
      "9999  10000           Clean Charger Treadmill   \n",
      "\n",
      "                                            Description  \\\n",
      "8                       Medical myself his piece agree.   \n",
      "15              Against or catch tough nor wait reason.   \n",
      "20            Who seven meeting ball trouble ago cover.   \n",
      "26                          Serious source open threat.   \n",
      "29    Three development base reveal smile morning mi...   \n",
      "...                                                 ...   \n",
      "9995                  Yeah none boy fund city decision.   \n",
      "9996    Appear country enter there pull thing computer.   \n",
      "9997  Owner plan approach soldier church little little.   \n",
      "9998                     Base account partner probably.   \n",
      "9999        Return reflect truth tell scientist season.   \n",
      "\n",
      "                          Brand            Category  Price Currency  Stock  \\\n",
      "8                Weber and Sons  Clothing & Apparel    870      USD    930   \n",
      "15                 Macias Group   Fishing & Hunting    223      USD     62   \n",
      "20               Mullins-Dodson   Fishing & Hunting    350      USD    842   \n",
      "26    Luna, Davidson and Galvan      Grooming Tools    951      USD    190   \n",
      "29                   Branch Ltd   Cleaning Supplies    989      USD    879   \n",
      "...                         ...                 ...    ...      ...    ...   \n",
      "9995         Castaneda-Harrison  Books & Stationery    567      USD     27   \n",
      "9996                  Knapp-Key             Cycling    300      USD    177   \n",
      "9997      Meyer, Case and Mills   Fitness Equipment    399      USD    996   \n",
      "9998                 Jones-Bell  Kitchen Appliances     45      USD    274   \n",
      "9999                  Davis LLC   Sports & Outdoors     31      USD     46   \n",
      "\n",
      "                EAN          Color      Size   Availability  Internal ID  \\\n",
      "8     2666733210512       DarkBlue        XS  limited_stock            6   \n",
      "15    6282374002499          Azure  30x40 cm      pre_order           93   \n",
      "20     651020229713  LavenderBlush    5x7 in       in_stock           22   \n",
      "26    7547662604151        DarkRed  15x20 cm   discontinued           33   \n",
      "29    9292256940884       DarkCyan  10x10 cm   discontinued           91   \n",
      "...             ...            ...       ...            ...          ...   \n",
      "9995  6519003997216           Cyan    Medium      pre_order            7   \n",
      "9996  4707959228979      MintCream     Large  limited_stock           55   \n",
      "9997  5286509915488      LightGray     Large      pre_order           37   \n",
      "9998  3702651384368      SlateBlue  12x18 in       in_stock           52   \n",
      "9999  8879838276060          Ivory    Medium      backorder           70   \n",
      "\n",
      "      Price_with_Tex  Average_Price_per_Category  Price_vs_Category_Average  \\\n",
      "8            1000.50                  484.987500                 385.012500   \n",
      "15            256.45                  526.430000                -303.430000   \n",
      "20            402.50                  526.430000                -176.430000   \n",
      "26           1093.65                  522.353698                 428.646302   \n",
      "29           1137.35                  528.669014                 460.330986   \n",
      "...              ...                         ...                        ...   \n",
      "9995          652.05                  496.870432                  70.129568   \n",
      "9996          345.00                  536.207885                -236.207885   \n",
      "9997          458.85                  489.003597                 -90.003597   \n",
      "9998           51.75                  485.956113                -440.956113   \n",
      "9999           35.65                  489.066176                -458.066176   \n",
      "\n",
      "      Category_Total_Stock  Stock_%_of_Category  Price_Rank_in_Category  \\\n",
      "8                   174236             0.533759                    42.0   \n",
      "15                  140486             0.044133                   240.0   \n",
      "20                  140486             0.599348                   209.5   \n",
      "26                  158434             0.119924                    19.0   \n",
      "29                  138208             0.635998                     9.0   \n",
      "...                    ...                  ...                     ...   \n",
      "9995                153319             0.017610                   128.0   \n",
      "9996                143576             0.123280                   202.0   \n",
      "9997                129491             0.769165                   157.0   \n",
      "9998                153322             0.178709                   308.0   \n",
      "9999                136028             0.033817                   268.0   \n",
      "\n",
      "     Desc_First10  \n",
      "8      Medical my  \n",
      "15     Against or  \n",
      "20     Who seven   \n",
      "26     Serious so  \n",
      "29     Three deve  \n",
      "...           ...  \n",
      "9995   Yeah none   \n",
      "9996   Appear cou  \n",
      "9997   Owner plan  \n",
      "9998   Base accou  \n",
      "9999   Return ref  \n",
      "\n",
      "[9901 rows x 20 columns]\n"
     ]
    }
   ],
   "source": [
    "#1.\tCheck if there are duplicate Internal ID value\n",
    "print(file[file[\"Internal ID\"].duplicated()])\n"
   ]
  },
  {
   "cell_type": "code",
   "execution_count": 39,
   "id": "f5129cc7-9eba-42fb-9147-711a356cdcdf",
   "metadata": {},
   "outputs": [
    {
     "name": "stdout",
     "output_type": "stream",
     "text": [
      "[ 6 93 22 33 91 89 35 92 40  1 11 86 76 24 65 23 84  4 83 18 10 57 87 39\n",
      " 27 17 60 98 55 82 72  2 69 61 81 54 53 90 47 67 51 20 75 14 29 97 68 66\n",
      " 94 46 30 15 48 78 25 36  5  9 95 85 96 43 50 45 99 77 19 28 37 74  7 56\n",
      " 21 44 63  8 12 26 34 62 70 64 31 79 41 49 42 73 32 80 58 16 38  3 13 59\n",
      " 88 52 71]\n"
     ]
    }
   ],
   "source": [
    "print(file[\"Internal ID\"][file[\"Internal ID\"].duplicated()].unique())"
   ]
  },
  {
   "cell_type": "code",
   "execution_count": 14,
   "id": "fbd7f868-20fd-4200-b38a-8ff231984648",
   "metadata": {},
   "outputs": [
    {
     "name": "stdout",
     "output_type": "stream",
     "text": [
      "                                              Name  \\\n",
      "5120  Clean Grill Charger Headphones Sense Digital   \n",
      "1115                         Portable Mixer Vacuum   \n",
      "7462                Smart Bicycle Microphone Touch   \n",
      "8451   Ultra Microphone Lamp Speaker Advanced Edge   \n",
      "1747                                  Charger Lamp   \n",
      "...                                            ...   \n",
      "5121                       Smart Radio Pro Ultra X   \n",
      "8432              Clean Radio Iron Automatic Sense   \n",
      "1374           Mini Mixer Router Phone Smart Prime   \n",
      "7496     Premium Microphone Headphones Touch Sense   \n",
      "6027                  Advanced Powerbank Projector   \n",
      "\n",
      "                             Brand  Price  \n",
      "5120                 Hopkins-Lucas    999  \n",
      "1115                   Villa-Yates    999  \n",
      "7462                   Coleman PLC    999  \n",
      "8451      Webster, Yates and Glenn    999  \n",
      "1747              Jefferson-Reeves    999  \n",
      "...                            ...    ...  \n",
      "5121       Reid, Andrade and Gates      1  \n",
      "8432  Schmitt, Sellers and Gregory      1  \n",
      "1374                    Frye Group      1  \n",
      "7496               Spence-Mcintyre      1  \n",
      "6027       Stone, Bryan and Murray      1  \n",
      "\n",
      "[10000 rows x 3 columns]\n"
     ]
    }
   ],
   "source": [
    "\n",
    "#1.\tShow the top 5 most expensive products.\n",
    "top5_expensive = print(file.sort_values(by=\"Price\", ascending=False)[[\"Name\", \"Brand\", \"Price\"]]\n"
   ]
  },
  {
   "cell_type": "code",
   "execution_count": 41,
   "id": "bab76911-8df3-4d75-b504-d54810a14d44",
   "metadata": {},
   "outputs": [
    {
     "name": "stdout",
     "output_type": "stream",
     "text": [
      "      Index                                     Name  \\\n",
      "8106   8107                Mini Brush Blender Vacuum   \n",
      "4897   4898                    Eco Lamp Lamp Digital   \n",
      "497     498      Smart Charger Mini Max Rechargeable   \n",
      "174     175  Advanced Dock Automatic Silent Portable   \n",
      "9252   9253                          Mini Watch Plus   \n",
      "\n",
      "                                   Description                       Brand  \\\n",
      "8106  Analysis choice rich yes weight clearly.                Humphrey LLC   \n",
      "4897                 Travel hotel senior fine.                 Vincent Ltd   \n",
      "497           Product world head dinner there.                   Sloan LLC   \n",
      "174                Hope star recently certain.                   Brady PLC   \n",
      "9252              Loss magazine movie believe.  Lutz, Richard and Williams   \n",
      "\n",
      "                             Category  Price Currency  Stock            EAN  \\\n",
      "8106  Accessories (Bags, Hats, Belts)     26      USD      1  7425608968225   \n",
      "4897                  Office Supplies     14      USD      1  3198108504647   \n",
      "497                 Cleaning Supplies    881      USD      1  2404832225255   \n",
      "174                        Automotive    563      USD      1  1743619969434   \n",
      "9252                   Kids' Clothing    981      USD      1  2423852090452   \n",
      "\n",
      "                  Color         Size   Availability  Internal ID  \\\n",
      "8106     CornflowerBlue            S   out_of_stock           86   \n",
      "4897      DarkGoldenRod        Large      backorder           80   \n",
      "497   MediumSpringGreen     30x40 cm  limited_stock           60   \n",
      "174           LightBlue  Extra Large   out_of_stock           23   \n",
      "9252          RoyalBlue           XS       in_stock           37   \n",
      "\n",
      "      Price_with_Tex  Average_Price_per_Category  Price_vs_Category_Average  \\\n",
      "8106           29.90                  491.146617                -465.146617   \n",
      "4897           16.10                  515.127273                -501.127273   \n",
      "497          1013.15                  528.669014                 352.330986   \n",
      "174           647.45                  506.744262                  56.255738   \n",
      "9252         1128.15                  508.143357                 472.856643   \n",
      "\n",
      "      Category_Total_Stock  Stock_%_of_Category  Price_Rank_in_Category  \\\n",
      "8106                142221             0.000703                   260.0   \n",
      "4897                138795             0.000720                   272.0   \n",
      "497                 138208             0.000724                    40.0   \n",
      "174                 144632             0.000691                   130.0   \n",
      "9252                142940             0.000700                     5.0   \n",
      "\n",
      "     Desc_First10  \n",
      "8106   Analysis c  \n",
      "4897   Travel hot  \n",
      "497    Product wo  \n",
      "174    Hope star   \n",
      "9252   Loss magaz  \n"
     ]
    }
   ],
   "source": [
    "\n",
    "#2.\tShow top 5 products with the lowest stock.\n",
    "print( file.sort_values(by=\"Stock\", ascending=True).head(5))"
   ]
  },
  {
   "cell_type": "code",
   "execution_count": 43,
   "id": "0e8c0306-ff12-469e-a6bb-f17b842d4e4f",
   "metadata": {},
   "outputs": [
    {
     "name": "stdout",
     "output_type": "stream",
     "text": [
      "Category\n",
      "Clothing & Apparel                 320\n",
      "Kitchen Appliances                 319\n",
      "Home & Kitchen                     316\n",
      "Team Sports                        316\n",
      "Headphones & Earbuds               311\n",
      "Grooming Tools                     311\n",
      "Smartwatches                       310\n",
      "Cameras & Accessories              310\n",
      "Health & Wellness                  310\n",
      "Beauty & Personal Care             306\n",
      "Camping & Hiking                   306\n",
      "Automotive                         305\n",
      "Home Decor                         303\n",
      "Books & Stationery                 301\n",
      "Fishing & Hunting                  300\n",
      "Shoes & Footwear                   298\n",
      "Men's Clothing                     292\n",
      "Haircare                           292\n",
      "Smartphones                        292\n",
      "Furniture                          291\n",
      "Skincare                           290\n",
      "Fragrances                         287\n",
      "Kids' Clothing                     286\n",
      "Makeup                             286\n",
      "Cleaning Supplies                  284\n",
      "Toys & Games                       283\n",
      "Cycling                            279\n",
      "Fitness Equipment                  278\n",
      "Women's Clothing                   277\n",
      "Office Supplies                    275\n",
      "Sports & Outdoors                  272\n",
      "Accessories (Bags, Hats, Belts)    266\n",
      "Bedding & Bath                     264\n",
      "Laptops & Computers                264\n",
      "Name: count, dtype: int64\n"
     ]
    }
   ],
   "source": [
    "#3.\tFind the category with the most products.\n",
    "print(file[\"Category\"].value_counts())"
   ]
  },
  {
   "cell_type": "code",
   "execution_count": 44,
   "id": "f62d2d21-e121-442a-9993-eb28d8cc42a1",
   "metadata": {},
   "outputs": [
    {
     "name": "stdout",
     "output_type": "stream",
     "text": [
      "Brand\n",
      "Abbott Ltd                      712\n",
      "Abbott, Holden and Conrad       563\n",
      "Abbott, Lynch and Warner        527\n",
      "Abbott, Pitts and Charles       832\n",
      "Abbott, Zavala and Patrick      143\n",
      "                               ... \n",
      "Zuniga, Schwartz and Barber     570\n",
      "Zuniga, Zavala and Contreras     23\n",
      "Zuniga-Allen                    914\n",
      "Zuniga-Mcpherson                115\n",
      "Zuniga-Yates                    809\n",
      "Name: Stock, Length: 9241, dtype: int64\n"
     ]
    }
   ],
   "source": [
    "#********\n",
    "#4.\tFind the brand with the highest total stock.\n",
    "print(file.groupby(\"Brand\")[\"Stock\"].sum())\n"
   ]
  },
  {
   "cell_type": "code",
   "execution_count": 45,
   "id": "f2a62fca-6522-4398-92c4-e38359599754",
   "metadata": {},
   "outputs": [],
   "source": [
    "#5.\tFind all products where stock is above the category average stock\n"
   ]
  },
  {
   "cell_type": "code",
   "execution_count": 4,
   "id": "7d549c1d-9c0b-4902-8d99-bb058696b275",
   "metadata": {},
   "outputs": [
    {
     "name": "stdout",
     "output_type": "stream",
     "text": [
      "                           Category  Total_Products  Total_Stock  \\\n",
      "0   Accessories (Bags, Hats, Belts)             266       142221   \n",
      "1                        Automotive             305       144632   \n",
      "2            Beauty & Personal Care             306       159161   \n",
      "3                    Bedding & Bath             264       134973   \n",
      "4                Books & Stationery             301       153319   \n",
      "5             Cameras & Accessories             310       156588   \n",
      "6                  Camping & Hiking             306       160376   \n",
      "7                 Cleaning Supplies             284       138208   \n",
      "8                Clothing & Apparel             320       174236   \n",
      "9                           Cycling             279       143576   \n",
      "10                Fishing & Hunting             300       140486   \n",
      "11                Fitness Equipment             278       129491   \n",
      "12                       Fragrances             287       147291   \n",
      "13                        Furniture             291       140198   \n",
      "14                   Grooming Tools             311       158434   \n",
      "15                         Haircare             292       153993   \n",
      "16             Headphones & Earbuds             311       156226   \n",
      "17                Health & Wellness             310       160698   \n",
      "18                   Home & Kitchen             316       155687   \n",
      "19                       Home Decor             303       148472   \n",
      "20                   Kids' Clothing             286       142940   \n",
      "21               Kitchen Appliances             319       153322   \n",
      "22              Laptops & Computers             264       134019   \n",
      "23                           Makeup             286       140400   \n",
      "24                   Men's Clothing             292       132659   \n",
      "25                  Office Supplies             275       138795   \n",
      "26                 Shoes & Footwear             298       145658   \n",
      "27                         Skincare             290       148020   \n",
      "28                      Smartphones             292       131367   \n",
      "29                     Smartwatches             310       158401   \n",
      "30                Sports & Outdoors             272       136028   \n",
      "31                      Team Sports             316       159781   \n",
      "32                     Toys & Games             283       139690   \n",
      "33                 Women's Clothing             277       133234   \n",
      "\n",
      "    Average_Price  Max_Price  Min_Price  \n",
      "0      491.146617        992          4  \n",
      "1      506.744262        994         12  \n",
      "2      518.562092        999          2  \n",
      "3      503.348485        987          1  \n",
      "4      496.870432        992          4  \n",
      "5      491.416129        995          4  \n",
      "6      487.117647        993          1  \n",
      "7      528.669014        999          5  \n",
      "8      484.987500        998          5  \n",
      "9      536.207885        998          3  \n",
      "10     526.430000        992          1  \n",
      "11     489.003597        995          4  \n",
      "12     500.090592        999          1  \n",
      "13     490.697595        998          2  \n",
      "14     522.353698        999          9  \n",
      "15     494.102740        999          8  \n",
      "16     525.215434        999          2  \n",
      "17     480.193548        999          3  \n",
      "18     499.629747        998          6  \n",
      "19     484.524752        996          1  \n",
      "20     508.143357        998          5  \n",
      "21     485.956113        999          3  \n",
      "22     537.454545        992          1  \n",
      "23     512.073427        995          2  \n",
      "24     480.023973        999          5  \n",
      "25     515.127273        999          7  \n",
      "26     498.409396        999          2  \n",
      "27     516.386207        998          2  \n",
      "28     520.294521        996          2  \n",
      "29     475.677419        996          1  \n",
      "30     489.066176        994         10  \n",
      "31     501.572785        998          2  \n",
      "32     521.897527        999         19  \n",
      "33     504.776173        996          7  \n"
     ]
    }
   ],
   "source": [
    "#1.\tCreate a summary DataFrame with columns:\n",
    "#Category, Total_Products, Avg_Price, Total_Stock, Min_Price, Max_Price\n",
    "\n",
    "\n",
    "summary = file.groupby(\"Category\").agg(\n",
    "    Total_Products=(\"Name\", \"count\"),\n",
    "    Total_Stock=(\"Stock\", \"sum\"),\n",
    "    Average_Price=(\"Price\", \"mean\"),\n",
    "    Max_Price=(\"Price\", \"max\"), \n",
    "    Min_Price=(\"Price\", \"min\")\n",
    ").reset_index()\n",
    "\n",
    "print(summary)\n"
   ]
  },
  {
   "cell_type": "code",
   "execution_count": 9,
   "id": "2032ab5d-858d-4825-9a4f-ceadc1e4343f",
   "metadata": {},
   "outputs": [
    {
     "name": "stdout",
     "output_type": "stream",
     "text": [
      "Availability                     backorder  discontinued  in_stock  \\\n",
      "Category                                                             \n",
      "Accessories (Bags, Hats, Belts)         39            43        45   \n",
      "Automotive                              47            36        55   \n",
      "Beauty & Personal Care                  50            47        48   \n",
      "Bedding & Bath                          43            53        43   \n",
      "Books & Stationery                      51            55        51   \n",
      "Cameras & Accessories                   54            55        56   \n",
      "Camping & Hiking                        56            49        50   \n",
      "Cleaning Supplies                       48            49        50   \n",
      "Clothing & Apparel                      61            56        41   \n",
      "Cycling                                 48            49        46   \n",
      "Fishing & Hunting                       39            62        44   \n",
      "Fitness Equipment                       53            48        48   \n",
      "Fragrances                              42            55        55   \n",
      "Furniture                               52            52        51   \n",
      "Grooming Tools                          57            56        49   \n",
      "Haircare                                46            33        48   \n",
      "Headphones & Earbuds                    60            44        50   \n",
      "Health & Wellness                       60            44        45   \n",
      "Home & Kitchen                          54            56        48   \n",
      "Home Decor                              53            44        53   \n",
      "Kids' Clothing                          43            55        44   \n",
      "Kitchen Appliances                      56            57        51   \n",
      "Laptops & Computers                     43            53        48   \n",
      "Makeup                                  38            45        50   \n",
      "Men's Clothing                          38            62        51   \n",
      "Office Supplies                         45            39        48   \n",
      "Shoes & Footwear                        44            46        50   \n",
      "Skincare                                43            51        51   \n",
      "Smartphones                             47            42        41   \n",
      "Smartwatches                            56            66        47   \n",
      "Sports & Outdoors                       44            49        51   \n",
      "Team Sports                             56            54        48   \n",
      "Toys & Games                            38            47        42   \n",
      "Women's Clothing                        29            54        46   \n",
      "\n",
      "Availability                     limited_stock  out_of_stock  pre_order  \\\n",
      "Category                                                                  \n",
      "Accessories (Bags, Hats, Belts)             36            48         55   \n",
      "Automotive                                  50            63         54   \n",
      "Beauty & Personal Care                      59            53         49   \n",
      "Bedding & Bath                              36            50         39   \n",
      "Books & Stationery                          44            58         42   \n",
      "Cameras & Accessories                       47            56         42   \n",
      "Camping & Hiking                            60            41         50   \n",
      "Cleaning Supplies                           41            41         55   \n",
      "Clothing & Apparel                          46            54         62   \n",
      "Cycling                                     47            53         36   \n",
      "Fishing & Hunting                           49            56         50   \n",
      "Fitness Equipment                           49            39         41   \n",
      "Fragrances                                  34            50         51   \n",
      "Furniture                                   42            49         45   \n",
      "Grooming Tools                              53            38         58   \n",
      "Haircare                                    48            60         57   \n",
      "Headphones & Earbuds                        54            40         63   \n",
      "Health & Wellness                           53            60         48   \n",
      "Home & Kitchen                              52            47         59   \n",
      "Home Decor                                  57            53         43   \n",
      "Kids' Clothing                              56            47         41   \n",
      "Kitchen Appliances                          60            39         56   \n",
      "Laptops & Computers                         34            44         42   \n",
      "Makeup                                      61            51         41   \n",
      "Men's Clothing                              49            41         51   \n",
      "Office Supplies                             44            51         48   \n",
      "Shoes & Footwear                            53            60         45   \n",
      "Skincare                                    47            48         50   \n",
      "Smartphones                                 49            45         68   \n",
      "Smartwatches                                43            52         46   \n",
      "Sports & Outdoors                           41            50         37   \n",
      "Team Sports                                 55            44         59   \n",
      "Toys & Games                                48            59         49   \n",
      "Women's Clothing                            47            60         41   \n",
      "\n",
      "Availability                     Availability  \n",
      "Category                                       \n",
      "Accessories (Bags, Hats, Belts)           0.0  \n",
      "Automotive                                0.0  \n",
      "Beauty & Personal Care                    0.0  \n",
      "Bedding & Bath                            0.0  \n",
      "Books & Stationery                        0.0  \n",
      "Cameras & Accessories                     0.0  \n",
      "Camping & Hiking                          0.0  \n",
      "Cleaning Supplies                         0.0  \n",
      "Clothing & Apparel                        0.0  \n",
      "Cycling                                   0.0  \n",
      "Fishing & Hunting                         0.0  \n",
      "Fitness Equipment                         0.0  \n",
      "Fragrances                                0.0  \n",
      "Furniture                                 0.0  \n",
      "Grooming Tools                            0.0  \n",
      "Haircare                                  0.0  \n",
      "Headphones & Earbuds                      0.0  \n",
      "Health & Wellness                         0.0  \n",
      "Home & Kitchen                            0.0  \n",
      "Home Decor                                0.0  \n",
      "Kids' Clothing                            0.0  \n",
      "Kitchen Appliances                        0.0  \n",
      "Laptops & Computers                       0.0  \n",
      "Makeup                                    0.0  \n",
      "Men's Clothing                            0.0  \n",
      "Office Supplies                           0.0  \n",
      "Shoes & Footwear                          0.0  \n",
      "Skincare                                  0.0  \n",
      "Smartphones                               0.0  \n",
      "Smartwatches                              0.0  \n",
      "Sports & Outdoors                         0.0  \n",
      "Team Sports                               0.0  \n",
      "Toys & Games                              0.0  \n",
      "Women's Clothing                          0.0  \n"
     ]
    }
   ],
   "source": [
    "#2.\tFind the ratio of in_stock to pre_order products per category.\n",
    "status_counts = (file.groupby([\"Category\", \"Availability\"])[\"Name\"].count().unstack(fill_value=0))\n",
    "\n",
    "# Calculate ratio of In Stock to Pre Order\n",
    "status_counts[\"Availability\"] = (status_counts.get(\"In Stock\",0) / status_counts.get(\"Pre Order\",1))\n",
    "\n",
    "print(status_counts)\n"
   ]
  },
  {
   "cell_type": "code",
   "execution_count": 49,
   "id": "f03929e6-d084-475e-86a4-d0c080c7b44d",
   "metadata": {},
   "outputs": [
    {
     "name": "stdout",
     "output_type": "stream",
     "text": [
      "Index(['Index', 'Name', 'Description', 'Brand', 'Category', 'Price',\n",
      "       'Currency', 'Stock', 'EAN', 'Color', 'Size', 'Availability',\n",
      "       'Internal ID', 'Price_with_Tex', 'Average_Price_per_Category',\n",
      "       'Price_vs_Category_Average', 'Category_Total_Stock',\n",
      "       'Stock_%_of_Category', 'Price_Rank_in_Category', 'Desc_First10'],\n",
      "      dtype='object')\n"
     ]
    }
   ],
   "source": [
    "print(file.columns)"
   ]
  },
  {
   "cell_type": "code",
   "execution_count": 12,
   "id": "28ca8166-4af5-4de5-ab08-0023437a4a03",
   "metadata": {},
   "outputs": [
    {
     "name": "stdout",
     "output_type": "stream",
     "text": [
      "                             Brand  Num_Products  Total_Stock  Avg_Price\n",
      "0                       Abbott Ltd             1          712       95.0\n",
      "1        Abbott, Holden and Conrad             1          563      800.0\n",
      "2         Abbott, Lynch and Warner             1          527      521.0\n",
      "3        Abbott, Pitts and Charles             1          832      527.0\n",
      "4       Abbott, Zavala and Patrick             1          143      611.0\n",
      "...                            ...           ...          ...        ...\n",
      "9236   Zuniga, Schwartz and Barber             1          570      664.0\n",
      "9237  Zuniga, Zavala and Contreras             1           23       71.0\n",
      "9238                  Zuniga-Allen             1          914      496.0\n",
      "9239              Zuniga-Mcpherson             1          115      969.0\n",
      "9240                  Zuniga-Yates             1          809       32.0\n",
      "\n",
      "[9241 rows x 4 columns]\n"
     ]
    }
   ],
   "source": [
    "#3.\tFor each brand, compute:\n",
    "#o\tnumber of products,\n",
    "#\ttotal stock,\n",
    "#\taverage price.\n",
    "brand_summary=file.groupby(\"Brand\").agg(Num_Products=(\"Name\",\"count\"),\n",
    "                                        Total_Stock=(\"Stock\",\"sum\"),\n",
    "                                        Avg_Price=(\"Price\",\"mean\")).reset_index()\n",
    "\n",
    "print(brand_summary)\n",
    "                                        \n",
    "                                        "
   ]
  },
  {
   "cell_type": "code",
   "execution_count": 13,
   "id": "91ae7fa6-3b10-43d1-9624-55496d9048e4",
   "metadata": {},
   "outputs": [
    {
     "name": "stdout",
     "output_type": "stream",
     "text": [
      "0        low Stock\n",
      "1       high Stock\n",
      "2       high Stock\n",
      "3        low Stock\n",
      "4       high Stock\n",
      "           ...    \n",
      "9995     low Stock\n",
      "9996     low Stock\n",
      "9997    high Stock\n",
      "9998     low Stock\n",
      "9999     low Stock\n",
      "Name: Stock_Level, Length: 10000, dtype: object\n"
     ]
    }
   ],
   "source": [
    "#4.\tCreate a column that says \"High Stock\" if Stock > 500, otherwise \"Low Stock\".\n",
    "file[\"Stock_Level\"]=file[\"Stock\"].apply(lambda x:\"high Stock\" if x > 500 else \"low Stock\")\n",
    "print(file[\"Stock_Level\"])"
   ]
  },
  {
   "cell_type": "code",
   "execution_count": 7,
   "id": "38701b07-7ee7-43cb-b43e-4b1728200015",
   "metadata": {},
   "outputs": [
    {
     "name": "stdout",
     "output_type": "stream",
     "text": [
      "      Index                                       Name  \\\n",
      "1         2                                        Fan   \n",
      "2         3  Smart Speakerphone Charger Eco Plus Clean   \n",
      "4         5                           Keyboard Freezer   \n",
      "5         6                          Smart Fridge Plus   \n",
      "7         8          Premium Cooler Digital Portable X   \n",
      "...     ...                                        ...   \n",
      "9989   9990                         Smart Speakerphone   \n",
      "9990   9991  Wireless Iron Toaster Projector Automatic   \n",
      "9992   9993          Smart Trimmer Stove Advanced Plus   \n",
      "9994   9995                                    Blender   \n",
      "9997   9998                                     Heater   \n",
      "\n",
      "                                            Description  \\\n",
      "1                             All movement yeah tax me.   \n",
      "2                   Quickly inside pull line lay start.   \n",
      "4                     Remain Congress blood plan voice.   \n",
      "5                   Tell tend provide government voice.   \n",
      "7        Fall opportunity southern drive professor top.   \n",
      "...                                                 ...   \n",
      "9989     Score poor our young soon course professional.   \n",
      "9990           Though support age claim the everything.   \n",
      "9992                 Letter candidate station continue.   \n",
      "9994                Act guy represent national someone.   \n",
      "9997  Owner plan approach soldier church little little.   \n",
      "\n",
      "                               Brand             Category  Price Currency  \\\n",
      "1            Braun, King and Rollins       Grooming Tools    992      USD   \n",
      "2                       Peck-Coleman    Fishing & Hunting    940      USD   \n",
      "4            Spence, Webster and Orr  Laptops & Computers    908      USD   \n",
      "5           Marks, Guzman and Cooley   Kitchen Appliances    627      USD   \n",
      "7     Gutierrez, Singleton and Downs             Skincare    296      USD   \n",
      "...                              ...                  ...    ...      ...   \n",
      "9989                Wheeler-Mckinney              Cycling    261      USD   \n",
      "9990                 Maldonado-Walsh    Sports & Outdoors    641      USD   \n",
      "9992                     Spencer PLC         Toys & Games    518      USD   \n",
      "9994                    Andersen LLC         Toys & Games    967      USD   \n",
      "9997           Meyer, Case and Mills    Fitness Equipment    399      USD   \n",
      "\n",
      "      Stock            EAN        Color         Size   Availability  \\\n",
      "1       724   191126950284       Bisque            S   discontinued   \n",
      "2       769  7569143820621         Blue  Extra Large      pre_order   \n",
      "4       614  9830391008108  FloralWhite     10x10 cm   discontinued   \n",
      "5       901  3039245054025  LightSalmon          XXL      pre_order   \n",
      "7       609  6978363826350    PaleGreen      8x10 in       in_stock   \n",
      "...     ...            ...          ...          ...            ...   \n",
      "9989    681  4672414802745    LimeGreen            S   out_of_stock   \n",
      "9990    836  8036711691185     HoneyDew   100x200 mm  limited_stock   \n",
      "9992    668  7832968248070    PaleGreen            M      pre_order   \n",
      "9994    866   704487159823    DarkKhaki            S      backorder   \n",
      "9997    996  5286509915488    LightGray        Large      pre_order   \n",
      "\n",
      "      Internal ID  \n",
      "1              49  \n",
      "2              42  \n",
      "4              91  \n",
      "5              29  \n",
      "7               6  \n",
      "...           ...  \n",
      "9989           68  \n",
      "9990           47  \n",
      "9992           83  \n",
      "9994           35  \n",
      "9997           37  \n",
      "\n",
      "[5020 rows x 13 columns]\n"
     ]
    }
   ],
   "source": [
    "#5.\tFind all products where stock is above the category average stock\n",
    "category_avg = file.groupby(\"Category\")[\"Stock\"].transform(\"mean\")\n",
    "above_avg_products = file[file[\"Stock\"] > category_avg]\n",
    "\n",
    "print(above_avg_products)"
   ]
  },
  {
   "cell_type": "code",
   "execution_count": null,
   "id": "fe382e14-aa5f-46d4-96cb-394f6b7ad2dd",
   "metadata": {},
   "outputs": [],
   "source": []
  }
 ],
 "metadata": {
  "kernelspec": {
   "display_name": "Python 3 (ipykernel)",
   "language": "python",
   "name": "python3"
  },
  "language_info": {
   "codemirror_mode": {
    "name": "ipython",
    "version": 3
   },
   "file_extension": ".py",
   "mimetype": "text/x-python",
   "name": "python",
   "nbconvert_exporter": "python",
   "pygments_lexer": "ipython3",
   "version": "3.13.5"
  }
 },
 "nbformat": 4,
 "nbformat_minor": 5
}
