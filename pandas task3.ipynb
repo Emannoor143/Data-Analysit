{
 "cells": [
  {
   "cell_type": "code",
   "execution_count": 1,
   "id": "6708bbd6-8608-4aa5-80a3-53b4c1fdbddd",
   "metadata": {},
   "outputs": [],
   "source": [
    "import pandas as pd"
   ]
  },
  {
   "cell_type": "code",
   "execution_count": 2,
   "id": "5022f12a-7ac7-4c9f-b2c7-fef68ea1afe0",
   "metadata": {},
   "outputs": [
    {
     "name": "stdout",
     "output_type": "stream",
     "text": [
      "      Transaction ID Customer ID       Category          Item  Price Per Unit  \\\n",
      "0        TXN_6867343     CUST_09     Patisserie   Item_10_PAT            18.5   \n",
      "1        TXN_3731986     CUST_22  Milk Products  Item_17_MILK            29.0   \n",
      "2        TXN_9303719     CUST_02       Butchers   Item_12_BUT            21.5   \n",
      "3        TXN_9458126     CUST_06      Beverages   Item_16_BEV            27.5   \n",
      "4        TXN_4575373     CUST_05           Food   Item_6_FOOD            12.5   \n",
      "...              ...         ...            ...           ...             ...   \n",
      "12570    TXN_9347481     CUST_18     Patisserie   Item_23_PAT            38.0   \n",
      "12571    TXN_4009414     CUST_03      Beverages    Item_2_BEV             6.5   \n",
      "12572    TXN_5306010     CUST_11       Butchers    Item_7_BUT            14.0   \n",
      "12573    TXN_5167298     CUST_04      Furniture    Item_7_FUR            14.0   \n",
      "12574    TXN_2407494     CUST_23           Food   Item_9_FOOD            17.0   \n",
      "\n",
      "       Quantity  Total Spent  Payment Method  Location Transaction Date  \\\n",
      "0          10.0        185.0  Digital Wallet    Online       2024-04-08   \n",
      "1           9.0        261.0  Digital Wallet    Online       2023-07-23   \n",
      "2           2.0         43.0     Credit Card    Online       2022-10-05   \n",
      "3           9.0        247.5     Credit Card    Online       2022-05-07   \n",
      "4           7.0         87.5  Digital Wallet    Online       2022-10-02   \n",
      "...         ...          ...             ...       ...              ...   \n",
      "12570       4.0        152.0     Credit Card  In-store       2023-09-03   \n",
      "12571       9.0         58.5            Cash    Online       2022-08-12   \n",
      "12572      10.0        140.0            Cash    Online       2024-08-24   \n",
      "12573       6.0         84.0            Cash    Online       2023-12-30   \n",
      "12574       3.0         51.0            Cash    Online       2022-08-06   \n",
      "\n",
      "      Discount Applied  \n",
      "0                 True  \n",
      "1                 True  \n",
      "2                False  \n",
      "3                  NaN  \n",
      "4                False  \n",
      "...                ...  \n",
      "12570              NaN  \n",
      "12571            False  \n",
      "12572              NaN  \n",
      "12573             True  \n",
      "12574              NaN  \n",
      "\n",
      "[12575 rows x 11 columns]\n"
     ]
    }
   ],
   "source": [
    "df=pd.read_csv(r\"C:\\Users\\ruman\\OneDrive\\Desktop\\retail_store_sales.csv\")\n",
    "print(df)"
   ]
  },
  {
   "cell_type": "code",
   "execution_count": 3,
   "id": "1dd7feef-2cef-4569-a614-a36e2fe1823c",
   "metadata": {},
   "outputs": [
    {
     "name": "stdout",
     "output_type": "stream",
     "text": [
      "  Transaction ID Customer ID       Category          Item  Price Per Unit  \\\n",
      "0    TXN_6867343     CUST_09     Patisserie   Item_10_PAT            18.5   \n",
      "1    TXN_3731986     CUST_22  Milk Products  Item_17_MILK            29.0   \n",
      "2    TXN_9303719     CUST_02       Butchers   Item_12_BUT            21.5   \n",
      "3    TXN_9458126     CUST_06      Beverages   Item_16_BEV            27.5   \n",
      "4    TXN_4575373     CUST_05           Food   Item_6_FOOD            12.5   \n",
      "\n",
      "   Quantity  Total Spent  Payment Method Location Transaction Date  \\\n",
      "0      10.0        185.0  Digital Wallet   Online       2024-04-08   \n",
      "1       9.0        261.0  Digital Wallet   Online       2023-07-23   \n",
      "2       2.0         43.0     Credit Card   Online       2022-10-05   \n",
      "3       9.0        247.5     Credit Card   Online       2022-05-07   \n",
      "4       7.0         87.5  Digital Wallet   Online       2022-10-02   \n",
      "\n",
      "  Discount Applied  \n",
      "0             True  \n",
      "1             True  \n",
      "2            False  \n",
      "3              NaN  \n",
      "4            False  \n"
     ]
    }
   ],
   "source": [
    "print(df.head())"
   ]
  },
  {
   "cell_type": "code",
   "execution_count": 4,
   "id": "c4ca0e0f-76c1-4f63-a566-7f642a942c2c",
   "metadata": {},
   "outputs": [
    {
     "name": "stdout",
     "output_type": "stream",
     "text": [
      "      Transaction ID Customer ID    Category         Item  Price Per Unit  \\\n",
      "12570    TXN_9347481     CUST_18  Patisserie  Item_23_PAT            38.0   \n",
      "12571    TXN_4009414     CUST_03   Beverages   Item_2_BEV             6.5   \n",
      "12572    TXN_5306010     CUST_11    Butchers   Item_7_BUT            14.0   \n",
      "12573    TXN_5167298     CUST_04   Furniture   Item_7_FUR            14.0   \n",
      "12574    TXN_2407494     CUST_23        Food  Item_9_FOOD            17.0   \n",
      "\n",
      "       Quantity  Total Spent Payment Method  Location Transaction Date  \\\n",
      "12570       4.0        152.0    Credit Card  In-store       2023-09-03   \n",
      "12571       9.0         58.5           Cash    Online       2022-08-12   \n",
      "12572      10.0        140.0           Cash    Online       2024-08-24   \n",
      "12573       6.0         84.0           Cash    Online       2023-12-30   \n",
      "12574       3.0         51.0           Cash    Online       2022-08-06   \n",
      "\n",
      "      Discount Applied  \n",
      "12570              NaN  \n",
      "12571            False  \n",
      "12572              NaN  \n",
      "12573             True  \n",
      "12574              NaN  \n"
     ]
    }
   ],
   "source": [
    "print(df.tail())"
   ]
  },
  {
   "cell_type": "code",
   "execution_count": 5,
   "id": "30fed242-356d-4f58-9d06-41f4596cd60b",
   "metadata": {},
   "outputs": [
    {
     "name": "stdout",
     "output_type": "stream",
     "text": [
      "Transaction ID         0\n",
      "Customer ID            0\n",
      "Category               0\n",
      "Item                1213\n",
      "Price Per Unit       609\n",
      "Quantity             604\n",
      "Total Spent          604\n",
      "Payment Method         0\n",
      "Location               0\n",
      "Transaction Date       0\n",
      "Discount Applied    4199\n",
      "dtype: int64\n"
     ]
    }
   ],
   "source": [
    "#\tWhich columns have missing values?\n",
    "print(df.isnull().sum())"
   ]
  },
  {
   "cell_type": "code",
   "execution_count": 6,
   "id": "bb530e4e-0a7d-44a7-a10c-271e74b85c32",
   "metadata": {},
   "outputs": [
    {
     "name": "stdout",
     "output_type": "stream",
     "text": [
      "Transaction ID       0.000000\n",
      "Customer ID          0.000000\n",
      "Category             0.000000\n",
      "Item                 9.646123\n",
      "Price Per Unit       4.842942\n",
      "Quantity             4.803181\n",
      "Total Spent          4.803181\n",
      "Payment Method       0.000000\n",
      "Location             0.000000\n",
      "Transaction Date     0.000000\n",
      "Discount Applied    33.391650\n",
      "dtype: float64\n"
     ]
    }
   ],
   "source": [
    "#o\tWhat percentage of the dataset is missing in each column?\n",
    "missing_percentage = (df.isnull().sum() / len(df)) * 100\n",
    "print(missing_percentage)\n"
   ]
  },
  {
   "cell_type": "code",
   "execution_count": 13,
   "id": "639530ac-5378-40f4-aef9-b2e79824a8c9",
   "metadata": {},
   "outputs": [
    {
     "name": "stdout",
     "output_type": "stream",
     "text": [
      "0         Item_10_PAT\n",
      "1        Item_17_MILK\n",
      "2         Item_12_BUT\n",
      "3         Item_16_BEV\n",
      "4         Item_6_FOOD\n",
      "             ...     \n",
      "12570     Item_23_PAT\n",
      "12571      Item_2_BEV\n",
      "12572      Item_7_BUT\n",
      "12573      Item_7_FUR\n",
      "12574     Item_9_FOOD\n",
      "Name: Item, Length: 12575, dtype: object\n",
      "0        10.0\n",
      "1         9.0\n",
      "2         2.0\n",
      "3         9.0\n",
      "4         7.0\n",
      "         ... \n",
      "12570     4.0\n",
      "12571     9.0\n",
      "12572    10.0\n",
      "12573     6.0\n",
      "12574     3.0\n",
      "Name: Quantity, Length: 12575, dtype: float64\n",
      "0        185.0\n",
      "1        261.0\n",
      "2         43.0\n",
      "3        247.5\n",
      "4         87.5\n",
      "         ...  \n",
      "12570    152.0\n",
      "12571     58.5\n",
      "12572    140.0\n",
      "12573     84.0\n",
      "12574     51.0\n",
      "Name: Total Spent, Length: 12575, dtype: float64\n",
      "0         True\n",
      "1         True\n",
      "2        False\n",
      "3        False\n",
      "4        False\n",
      "         ...  \n",
      "12570    False\n",
      "12571    False\n",
      "12572    False\n",
      "12573     True\n",
      "12574    False\n",
      "Name: Discount Applied, Length: 12575, dtype: bool\n"
     ]
    }
   ],
   "source": [
    "#o\tSuggest and apply strategies to fill/fix missing values for:\n",
    "#\tItem\n",
    "#\tQuantity\n",
    "#\tTotal Spent\n",
    "#\tDiscount Applied\n",
    "# Fill missing Item with \"Unknown\"\n",
    "df[\"Item\"] = df[\"Item\"].fillna(\"unknown\")\n",
    "df[\"Quantity\"] = df[\"Quantity\"].fillna(df[\"Quantity\"].median())\n",
    "df[\"Total Spent\"]=df[\"Total Spent\"].fillna(df[\"Price Per Unit\"] * df[\"Quantity\"])\n",
    "df[\"Discount Applied\"]=df[\"Discount Applied\"].fillna(False)\n",
    "print(df[\"Item\"])\n",
    "print(df[\"Quantity\"])\n",
    "print(df[\"Total Spent\"])\n",
    "print(df[\"Discount Applied\"])"
   ]
  },
  {
   "cell_type": "code",
   "execution_count": 19,
   "id": "39f561ae-85fe-495d-b038-8a1fe2d5ff73",
   "metadata": {
    "scrolled": true
   },
   "outputs": [
    {
     "name": "stdout",
     "output_type": "stream",
     "text": [
      "True\n",
      "Empty DataFrame\n",
      "Columns: [Transaction ID, Customer ID, Category, Item, Price Per Unit, Quantity, Total Spent, Payment Method, Location, Transaction Date, Discount Applied]\n",
      "Index: []\n"
     ]
    }
   ],
   "source": [
    "#2.\tData consistency\n",
    "#\tAre all Transaction IDs unique? If not, identify duplicates.\n",
    "df=pd.read_csv(r\"C:\\Users\\ruman\\OneDrive\\Desktop\\retail_store_sales.csv\")\n",
    "print(df[\"Transaction ID\"].is_unique)\n",
    "duplicates=df[df[\"Transaction ID\"].duplicated(keep=False)]\n",
    "print(duplicates)\n"
   ]
  },
  {
   "cell_type": "code",
   "execution_count": 18,
   "id": "7082063b-8f05-42ee-96d6-0c4875341ad5",
   "metadata": {},
   "outputs": [
    {
     "name": "stdout",
     "output_type": "stream",
     "text": [
      "Number of duplicate rows: 0\n",
      "Empty DataFrame\n",
      "Columns: [Transaction ID, Customer ID, Category, Item, Price Per Unit, Quantity, Total Spent, Payment Method, Location, Transaction Date, Discount Applied]\n",
      "Index: []\n"
     ]
    }
   ],
   "source": [
    "#o\tAre there duplicate rows in the dataset?\n",
    "print(\"Number of duplicate rows:\", df.duplicated().sum())\n",
    "duplicates = df[df.duplicated()]\n",
    "print(duplicates)\n"
   ]
  },
  {
   "cell_type": "code",
   "execution_count": 20,
   "id": "209d6a0b-f60c-4451-83ed-b0dee6466c41",
   "metadata": {},
   "outputs": [
    {
     "name": "stdout",
     "output_type": "stream",
     "text": [
      "      Transaction ID Customer ID                       Category Item  \\\n",
      "5        TXN_7482416     CUST_09                     Patisserie  NaN   \n",
      "7        TXN_1372952     CUST_21                      Furniture  NaN   \n",
      "11       TXN_5422631     CUST_09                  Milk Products  NaN   \n",
      "15       TXN_1809665     CUST_14                      Beverages  NaN   \n",
      "17       TXN_9634894     CUST_15                  Milk Products  NaN   \n",
      "...              ...         ...                            ...  ...   \n",
      "12527    TXN_1069238     CUST_23                           Food  NaN   \n",
      "12552    TXN_4823896     CUST_05                  Milk Products  NaN   \n",
      "12556    TXN_4397672     CUST_04                      Beverages  NaN   \n",
      "12562    TXN_7422454     CUST_07                       Butchers  NaN   \n",
      "12564    TXN_2153066     CUST_17  Electric household essentials  NaN   \n",
      "\n",
      "       Price Per Unit  Quantity  Total Spent  Payment Method  Location  \\\n",
      "5                 NaN      10.0        200.0     Credit Card    Online   \n",
      "7                33.5       NaN          NaN  Digital Wallet  In-store   \n",
      "11                NaN       8.0         52.0  Digital Wallet  In-store   \n",
      "15               24.5       NaN          NaN     Credit Card  In-store   \n",
      "17                NaN      10.0        275.0  Digital Wallet    Online   \n",
      "...               ...       ...          ...             ...       ...   \n",
      "12527             5.0       NaN          NaN  Digital Wallet  In-store   \n",
      "12552             8.0       NaN          NaN            Cash  In-store   \n",
      "12556            41.0       NaN          NaN     Credit Card    Online   \n",
      "12562            33.5       NaN          NaN            Cash    Online   \n",
      "12564            29.0       NaN          NaN  Digital Wallet  In-store   \n",
      "\n",
      "      Transaction Date Discount Applied  Check_Total  Mismatch  \n",
      "5           2023-11-30              NaN          NaN      True  \n",
      "7           2024-04-02             True          NaN      True  \n",
      "11          2025-01-12             True          NaN      True  \n",
      "15          2022-05-11              NaN          NaN      True  \n",
      "17          2022-04-17              NaN          NaN      True  \n",
      "...                ...              ...          ...       ...  \n",
      "12527       2022-08-13            False          NaN      True  \n",
      "12552       2022-07-21            False          NaN      True  \n",
      "12556       2024-11-28             True          NaN      True  \n",
      "12562       2023-04-15              NaN          NaN      True  \n",
      "12564       2024-03-28            False          NaN      True  \n",
      "\n",
      "[1213 rows x 13 columns]\n"
     ]
    }
   ],
   "source": [
    "#o\tVerify whether Price Per Unit × Quantity = Total Spent. Flag mismatches.\n",
    "df[\"Check_Total\"] = df[\"Price Per Unit\"] * df[\"Quantity\"]\n",
    "df[\"Mismatch\"] = df[\"Check_Total\"].round(2) != df[\"Total Spent\"].round(2)\n",
    "mismatches = df[df[\"Mismatch\"] == True]\n",
    "print(mismatches)\n"
   ]
  },
  {
   "cell_type": "code",
   "execution_count": 3,
   "id": "79576980-9bdd-47ec-a610-656025f69ddb",
   "metadata": {},
   "outputs": [
    {
     "name": "stdout",
     "output_type": "stream",
     "text": [
      "0       2024-04-08\n",
      "1       2023-07-23\n",
      "2       2022-10-05\n",
      "3       2022-05-07\n",
      "4       2022-10-02\n",
      "           ...    \n",
      "12570   2023-09-03\n",
      "12571   2022-08-12\n",
      "12572   2024-08-24\n",
      "12573   2023-12-30\n",
      "12574   2022-08-06\n",
      "Name: Transaction Date, Length: 12575, dtype: datetime64[ns]\n"
     ]
    }
   ],
   "source": [
    "#o\tConvert Transaction Date into a proper datetime object\n",
    "df[\"Transaction Date\"] = pd.to_datetime(df[\"Transaction Date\"])\n",
    "print(df[\"Transaction Date\"])\n"
   ]
  },
  {
   "cell_type": "code",
   "execution_count": 4,
   "id": "6cbbb74d-a253-4deb-a619-2f3d4cd05b63",
   "metadata": {},
   "outputs": [
    {
     "name": "stdout",
     "output_type": "stream",
     "text": [
      "Price Per Unit    float64\n",
      "Quantity          float64\n",
      "Total Spent       float64\n",
      "dtype: object\n"
     ]
    }
   ],
   "source": [
    "#o\tEnsure Price Per Unit, Quantity, and Total Spent are numeric.\n",
    "df[\"Price Per Unit\"] = pd.to_numeric(df[\"Price Per Unit\"], errors=\"coerce\")\n",
    "df[\"Quantity\"] = pd.to_numeric(df[\"Quantity\"], errors=\"coerce\")\n",
    "df[\"Total Spent\"] = pd.to_numeric(df[\"Total Spent\"], errors=\"coerce\")\n",
    "print(df[[\"Price Per Unit\", \"Quantity\", \"Total Spent\"]].dtypes)\n"
   ]
  },
  {
   "cell_type": "code",
   "execution_count": 4,
   "id": "dda07b0b-55ab-41dd-abd7-853d274ba682",
   "metadata": {},
   "outputs": [
    {
     "name": "stdout",
     "output_type": "stream",
     "text": [
      "0         True\n",
      "1         True\n",
      "2        False\n",
      "3         True\n",
      "4        False\n",
      "         ...  \n",
      "12570     True\n",
      "12571    False\n",
      "12572     True\n",
      "12573     True\n",
      "12574     True\n",
      "Name: Discount Applied, Length: 12575, dtype: bool\n"
     ]
    }
   ],
   "source": [
    "#o\tConvert Discount Applied into a Boolean (True/False).\n",
    "print(df[\"Discount Applied\"].astype(bool))\n"
   ]
  },
  {
   "cell_type": "code",
   "execution_count": 36,
   "id": "33456dc7-1d66-4384-8069-b8e41f63a298",
   "metadata": {},
   "outputs": [
    {
     "name": "stdout",
     "output_type": "stream",
     "text": [
      "0        digital wallet\n",
      "1        digital wallet\n",
      "2           credit card\n",
      "3           credit card\n",
      "4        digital wallet\n",
      "              ...      \n",
      "12570       credit card\n",
      "12571              cash\n",
      "12572              cash\n",
      "12573              cash\n",
      "12574              cash\n",
      "Name: Payment Method, Length: 12575, dtype: object\n"
     ]
    }
   ],
   "source": [
    "#o\tStandardize values in Payment Method (e.g., fix casing differences).\n",
    "print(df[\"Payment Method\"].str.strip().str.lower())\n"
   ]
  },
  {
   "cell_type": "code",
   "execution_count": 13,
   "id": "adedb131-cf2e-4d50-8321-39df0a45e08a",
   "metadata": {},
   "outputs": [
    {
     "name": "stdout",
     "output_type": "stream",
     "text": [
      "0        digital wallet\n",
      "1        digital wallet\n",
      "2           credit card\n",
      "3           credit card\n",
      "4        digital wallet\n",
      "              ...      \n",
      "12570       credit card\n",
      "12571              cash\n",
      "12572              cash\n",
      "12573              cash\n",
      "12574              cash\n",
      "Name: Payment Method, Length: 12575, dtype: object\n"
     ]
    }
   ],
   "source": [
    "print(df[\"Payment Method\"].str.strip().str.title().str.lower())"
   ]
  },
  {
   "cell_type": "code",
   "execution_count": 49,
   "id": "16bd8317-25b2-407d-83a5-a75afb00af02",
   "metadata": {},
   "outputs": [
    {
     "name": "stdout",
     "output_type": "stream",
     "text": [
      "0          Online\n",
      "1          Online\n",
      "2          Online\n",
      "3          Online\n",
      "4          Online\n",
      "           ...   \n",
      "12570    in-store\n",
      "12571      Online\n",
      "12572      Online\n",
      "12573      Online\n",
      "12574      Online\n",
      "Name: Location, Length: 12575, dtype: object\n"
     ]
    }
   ],
   "source": [
    "#Standardize Location (“Online” vs “In-store”).\n",
    "df[\"Location\"] = df[\"Location\"].str.strip().str.lower().replace({\n",
    "    \"online\": \"Online\",\n",
    "    \"in store\": \"In-store\"\n",
    "})\n",
    "print(df[\"Location\"])\n"
   ]
  },
  {
   "cell_type": "code",
   "execution_count": 51,
   "id": "0a367376-bc90-4c48-91df-6b23ac10e9c3",
   "metadata": {},
   "outputs": [
    {
     "name": "stdout",
     "output_type": "stream",
     "text": [
      "0          Online\n",
      "1          Online\n",
      "2          Online\n",
      "3          Online\n",
      "4          Online\n",
      "           ...   \n",
      "12570    In-store\n",
      "12571      Online\n",
      "12572      Online\n",
      "12573      Online\n",
      "12574      Online\n",
      "Name: Location, Length: 12575, dtype: object\n"
     ]
    }
   ],
   "source": [
    "# Clean and standardize Location values\n",
    "df[\"Location\"] = df[\"Location\"].str.strip().str.lower()\n",
    "df[\"Location\"] = df[\"Location\"].replace({\n",
    "    \"online\": \"Online\",\n",
    "    \"in store\": \"In-store\",\n",
    "    \"in-store\": \"In-store\"\n",
    "})\n",
    "print(df[\"Location\"])\n"
   ]
  },
  {
   "cell_type": "code",
   "execution_count": 56,
   "id": "635433ec-40f8-4488-92ed-b7079b30b227",
   "metadata": {},
   "outputs": [
    {
     "name": "stdout",
     "output_type": "stream",
     "text": [
      "0           Patisserie\n",
      "1        Milk Products\n",
      "2             Butchers\n",
      "3            Beverages\n",
      "4                 Food\n",
      "             ...      \n",
      "12570       Patisserie\n",
      "12571        Beverages\n",
      "12572         Butchers\n",
      "12573        Furniture\n",
      "12574             Food\n",
      "Name: Category, Length: 12575, dtype: object\n"
     ]
    }
   ],
   "source": [
    "#\tEnsure Category values follow one naming convention.\n",
    "df[\"Category\"] = df[\"Category\"].str.strip().str.title()\n",
    "df[\"Category\"] = df[\"Category\"].replace({\n",
    "    \"Milk Product\": \"Milk Products\",\n",
    "    \"Butcher\": \"Butchers\",\n",
    "    \"Food Items\": \"Food\"\n",
    "})\n",
    "print(df[\"Category\"])\n"
   ]
  },
  {
   "cell_type": "code",
   "execution_count": 59,
   "id": "369a2ba5-7f4b-41af-8fa2-1055f477544e",
   "metadata": {},
   "outputs": [
    {
     "name": "stdout",
     "output_type": "stream",
     "text": [
      "Total transactions: 12575\n"
     ]
    }
   ],
   "source": [
    "#6.\tHow many total transactions are in the dataset?\n",
    "total_transactions =len(df)\n",
    "\n",
    "print(\"Total transactions:\", total_transactions)\n"
   ]
  },
  {
   "cell_type": "code",
   "execution_count": 60,
   "id": "a69f353d-9999-4d18-b3ab-48be1b8ded9a",
   "metadata": {},
   "outputs": [
    {
     "name": "stdout",
     "output_type": "stream",
     "text": [
      "25\n"
     ]
    }
   ],
   "source": [
    "#7.\tHow many unique customers are there?\n",
    "print(df[\"Customer ID\"].nunique())"
   ]
  },
  {
   "cell_type": "code",
   "execution_count": 61,
   "id": "2cc10818-538e-483f-9f1a-b4829510c572",
   "metadata": {},
   "outputs": [
    {
     "name": "stdout",
     "output_type": "stream",
     "text": [
      "Category\n",
      "Electric Household Essentials         1591\n",
      "Furniture                             1591\n",
      "Food                                  1588\n",
      "Milk Products                         1584\n",
      "Butchers                              1568\n",
      "Beverages                             1567\n",
      "Computers And Electric Accessories    1558\n",
      "Patisserie                            1528\n",
      "Name: count, dtype: int64\n"
     ]
    }
   ],
   "source": [
    "#8.\tWhat is the distribution of transactions by Category?\n",
    "print(df[\"Category\"].value_counts())"
   ]
  },
  {
   "cell_type": "code",
   "execution_count": 65,
   "id": "1ffc291b-035f-4eaa-8a4f-89170339bd32",
   "metadata": {},
   "outputs": [
    {
     "name": "stdout",
     "output_type": "stream",
     "text": [
      "Payment Method\n",
      "Cash              4310\n",
      "Digital Wallet    4144\n",
      "Credit Card       4121\n",
      "Name: count, dtype: int64\n"
     ]
    }
   ],
   "source": [
    "#9.\tWhat is the distribution of Payment Method?\n",
    "print( df[\"Payment Method\"].value_counts())"
   ]
  },
  {
   "cell_type": "code",
   "execution_count": 63,
   "id": "c1dee4e4-ad04-47a0-9a41-f04e1dddefb3",
   "metadata": {},
   "outputs": [
    {
     "name": "stdout",
     "output_type": "stream",
     "text": [
      "Location\n",
      "Online      6354\n",
      "In-store    6221\n",
      "Name: count, dtype: int64\n"
     ]
    }
   ],
   "source": [
    "#10.\tWhat is the distribution of transactions by Location (Online vs In-store)?\n",
    "print(df[\"Location\"].value_counts())"
   ]
  },
  {
   "cell_type": "code",
   "execution_count": 64,
   "id": "462e1248-c9b7-4d67-bce1-7a5a35fe221f",
   "metadata": {},
   "outputs": [
    {
     "name": "stdout",
     "output_type": "stream",
     "text": [
      "129.6525770612313\n"
     ]
    }
   ],
   "source": [
    "#11.\tWhat is the overall average Total Spent per transaction?\n",
    "print(df[\"Total Spent\"].mean())"
   ]
  },
  {
   "cell_type": "code",
   "execution_count": 66,
   "id": "9a40a54b-a4ed-4663-b51d-880a9fac1841",
   "metadata": {},
   "outputs": [
    {
     "name": "stdout",
     "output_type": "stream",
     "text": [
      "6.0\n"
     ]
    }
   ],
   "source": [
    "#12.\tWhat is the overall median Quantity purchased per transaction?\n",
    "print(df[\"Quantity\"].median())"
   ]
  },
  {
   "cell_type": "code",
   "execution_count": 68,
   "id": "80dee414-3a2e-4039-90db-915981ab0fab",
   "metadata": {},
   "outputs": [
    {
     "name": "stdout",
     "output_type": "stream",
     "text": [
      "Customer ID\n",
      "CUST_24    68452.0\n",
      "CUST_08    67351.5\n",
      "CUST_05    66974.5\n",
      "CUST_16    65570.5\n",
      "CUST_13    65037.0\n",
      "CUST_23    64507.0\n",
      "CUST_10    63155.5\n",
      "CUST_15    63117.5\n",
      "CUST_21    62933.0\n",
      "CUST_02    62046.5\n",
      "Name: Total Spent, dtype: float64\n"
     ]
    }
   ],
   "source": [
    "#13.\tWhich customers spent the most overall?\n",
    "print(df.groupby(\"Customer ID\")[\"Total Spent\"].sum().sort_values(ascending=False).head(10))\n"
   ]
  },
  {
   "cell_type": "code",
   "execution_count": 70,
   "id": "cd43e97f-dcd3-41cc-a53d-194e425a2e5b",
   "metadata": {},
   "outputs": [
    {
     "name": "stdout",
     "output_type": "stream",
     "text": [
      "Customer ID\n",
      "CUST_05    544\n",
      "CUST_24    543\n",
      "CUST_13    534\n",
      "CUST_08    533\n",
      "CUST_09    519\n",
      "CUST_15    519\n",
      "CUST_16    515\n",
      "CUST_23    513\n",
      "CUST_20    507\n",
      "CUST_18    507\n",
      "Name: count, dtype: int64\n"
     ]
    }
   ],
   "source": [
    "#14.\tWhich customers made the highest number of transactions?\n",
    "print(df[\"Customer ID\"].value_counts().head(10))"
   ]
  },
  {
   "cell_type": "code",
   "execution_count": 72,
   "id": "d0933762-a7b1-40d6-ba69-4f7fda998df0",
   "metadata": {},
   "outputs": [
    {
     "data": {
      "text/plain": [
       "Customer ID\n",
       "CUST_01    8\n",
       "CUST_02    8\n",
       "CUST_03    8\n",
       "CUST_04    8\n",
       "CUST_05    8\n",
       "CUST_06    8\n",
       "CUST_07    8\n",
       "CUST_08    8\n",
       "CUST_09    8\n",
       "CUST_10    8\n",
       "Name: Category, dtype: int64"
      ]
     },
     "execution_count": 72,
     "metadata": {},
     "output_type": "execute_result"
    }
   ],
   "source": [
    "#15.\tWhich customers purchased from the most categories?\n",
    "df.groupby(\"Customer ID\")[\"Category\"].nunique().sort_values(ascending=False).head(10)\n"
   ]
  },
  {
   "cell_type": "code",
   "execution_count": 73,
   "id": "4754b29c-c73e-4121-911a-1b12e7792bc0",
   "metadata": {},
   "outputs": [
    {
     "name": "stdout",
     "output_type": "stream",
     "text": [
      "Location\n",
      "Online      6354\n",
      "In-store    6221\n",
      "Name: count, dtype: int64\n",
      "Location\n",
      "Online      50.528827\n",
      "In-store    49.471173\n",
      "Name: proportion, dtype: float64\n"
     ]
    }
   ],
   "source": [
    "#16.\tDo customers show a preference for Online or In-store shopping?\n",
    "print(df[\"Location\"].value_counts())\n",
    "print(df[\"Location\"].value_counts(normalize=True) * 100)\n"
   ]
  },
  {
   "cell_type": "code",
   "execution_count": 75,
   "id": "a7a7d982-e954-4af5-8037-f19d8cceeadf",
   "metadata": {},
   "outputs": [
    {
     "name": "stdout",
     "output_type": "stream",
     "text": [
      "Customer ID\n",
      "CUST_03    136.347534\n",
      "CUST_04    135.752747\n",
      "CUST_23    134.110187\n",
      "CUST_19    133.035011\n",
      "CUST_02    132.861884\n",
      "CUST_08    132.843195\n",
      "CUST_16    132.733806\n",
      "CUST_21    132.212185\n",
      "CUST_24    131.892100\n",
      "CUST_07    131.658351\n",
      "Name: Total Spent, dtype: float64\n"
     ]
    }
   ],
   "source": [
    "#17.\tWhich customer has the largest average spend per transaction?\n",
    "print(\n",
    "    df.groupby(\"Customer ID\")[\"Total Spent\"]\n",
    "    .mean()\n",
    "    .sort_values(ascending=False).head(10)\n",
    ")\n"
   ]
  },
  {
   "cell_type": "code",
   "execution_count": 76,
   "id": "76ef9ddb-8b1f-462f-8fe1-beda7cc02731",
   "metadata": {},
   "outputs": [
    {
     "name": "stdout",
     "output_type": "stream",
     "text": [
      "Category\n",
      "Butchers                              208118.0\n",
      "Electric Household Essentials         203813.5\n",
      "Beverages                             197047.5\n",
      "Furniture                             195310.0\n",
      "Food                                  194812.0\n",
      "Computers And Electric Accessories    190692.5\n",
      "Patisserie                            182165.5\n",
      "Milk Products                         180112.0\n",
      "Name: Total Spent, dtype: float64\n"
     ]
    }
   ],
   "source": [
    "#18.\tWhich category generated the most total revenue?\n",
    "print(\n",
    "    df.groupby(\"Category\")[\"Total Spent\"]\n",
    "    .sum()\n",
    "    .sort_values(ascending=False)\n",
    ")"
   ]
  },
  {
   "cell_type": "code",
   "execution_count": 77,
   "id": "2524887f-eeeb-4e09-bde8-93bc910f6804",
   "metadata": {},
   "outputs": [
    {
     "name": "stdout",
     "output_type": "stream",
     "text": [
      "Category\n",
      "Butchers                              139.116310\n",
      "Electric Household Essentials         134.441623\n",
      "Beverages                             131.716243\n",
      "Food                                  129.271400\n",
      "Computers And Electric Accessories    129.107989\n",
      "Furniture                             128.072131\n",
      "Patisserie                            126.416031\n",
      "Milk Products                         119.042961\n",
      "Name: Total Spent, dtype: float64\n"
     ]
    }
   ],
   "source": [
    "#19.\tWhich category has the highest average Total Spent per transaction?\n",
    "print(\n",
    "    df.groupby(\"Category\")[\"Total Spent\"]\n",
    "    .mean()\n",
    "    .sort_values(ascending=False)\n",
    ")\n"
   ]
  },
  {
   "cell_type": "code",
   "execution_count": 78,
   "id": "b4c9ae69-50b5-46da-add6-92f2aeba3320",
   "metadata": {},
   "outputs": [
    {
     "name": "stdout",
     "output_type": "stream",
     "text": [
      "Item\n",
      "Item_2_BEV      676.0\n",
      "Item_16_MILK    627.0\n",
      "Item_25_FUR     616.0\n",
      "Item_19_MILK    589.0\n",
      "Item_5_FUR      581.0\n",
      "                ...  \n",
      "Item_13_FUR      40.0\n",
      "Item_22_FUR      39.0\n",
      "Item_13_BEV      36.0\n",
      "Item_3_EHE       28.0\n",
      "Item_21_PAT      23.0\n",
      "Name: Quantity, Length: 200, dtype: float64\n"
     ]
    }
   ],
   "source": [
    "#20.\tWhich items are the top sellers by total quantity sold?\n",
    "print(\n",
    "    df.groupby(\"Item\")[\"Quantity\"]\n",
    "    .sum()\n",
    "    .sort_values(ascending=False)\n",
    ")"
   ]
  },
  {
   "cell_type": "code",
   "execution_count": 79,
   "id": "fa648750-a070-4db8-83c8-885e07ec54db",
   "metadata": {},
   "outputs": [
    {
     "name": "stdout",
     "output_type": "stream",
     "text": [
      "Discount Applied                        False      True \n",
      "Category                                                \n",
      "Beverages                           31.589024  68.410976\n",
      "Butchers                            32.780612  67.219388\n",
      "Computers And Electric Accessories  35.044929  64.955071\n",
      "Electric Household Essentials       33.186675  66.813325\n",
      "Food                                34.445844  65.554156\n",
      "Furniture                           30.546826  69.453174\n",
      "Milk Products                       34.659091  65.340909\n",
      "Patisserie                          32.198953  67.801047\n"
     ]
    }
   ],
   "source": [
    "#21.\tAre discounts applied more frequently in certain categories?\n",
    "print(\n",
    "    df.groupby(\"Category\")[\"Discount Applied\"]\n",
    "    .value_counts(normalize=True)\n",
    "    .unstack()\n",
    "    .fillna(0) * 100\n",
    ")"
   ]
  },
  {
   "cell_type": "code",
   "execution_count": 80,
   "id": "a9fc3c1f-99e7-4d6b-b77d-a859b61789da",
   "metadata": {},
   "outputs": [
    {
     "name": "stdout",
     "output_type": "stream",
     "text": [
      "Category\n",
      "Beverages                             25\n",
      "Butchers                              25\n",
      "Computers And Electric Accessories    25\n",
      "Electric Household Essentials         25\n",
      "Food                                  25\n",
      "Furniture                             25\n",
      "Milk Products                         25\n",
      "Patisserie                            25\n",
      "Name: Customer ID, dtype: int64\n"
     ]
    }
   ],
   "source": [
    "#22.\tWhich category has the highest number of unique customers buying from it?\n",
    "print(\n",
    "    df.groupby(\"Category\")[\"Customer ID\"]\n",
    "    .nunique()\n",
    "    .sort_values(ascending=False)\n",
    ")"
   ]
  },
  {
   "cell_type": "code",
   "execution_count": 6,
   "id": "8cedf0be-4a13-4914-adad-37e1519c5e57",
   "metadata": {},
   "outputs": [
    {
     "name": "stdout",
     "output_type": "stream",
     "text": [
      "Dataset Date Range: 2022-01-01 00:00:00 to 2025-01-18 00:00:00\n"
     ]
    }
   ],
   "source": [
    "#23.\tWhat is the date range of the dataset?\n",
    "df['Transaction Date'] = pd.to_datetime(df['Transaction Date'])\n",
    "start_date = df['Transaction Date'].min()\n",
    "end_date = df['Transaction Date'].max()\n",
    "\n",
    "print(\"Dataset Date Range:\", start_date, \"to\", end_date)\n",
    "\n"
   ]
  },
  {
   "cell_type": "code",
   "execution_count": 9,
   "id": "2b6677b2-1d77-4e73-a965-ecd15f601053",
   "metadata": {},
   "outputs": [
    {
     "name": "stdout",
     "output_type": "stream",
     "text": [
      "0       2024-04-08\n",
      "1       2023-07-23\n",
      "2       2022-10-05\n",
      "3       2022-05-07\n",
      "4       2022-10-02\n",
      "           ...    \n",
      "12570   2023-09-03\n",
      "12571   2022-08-12\n",
      "12572   2024-08-24\n",
      "12573   2023-12-30\n",
      "12574   2022-08-06\n",
      "Name: Transaction Date, Length: 12575, dtype: datetime64[ns]\n",
      "Transaction Date\n",
      "2022-01    390\n",
      "2022-02    331\n",
      "2022-03    353\n",
      "2022-04    346\n",
      "2022-05    330\n",
      "2022-06    338\n",
      "2022-07    371\n",
      "2022-08    347\n",
      "2022-09    348\n",
      "2022-10    317\n",
      "2022-11    354\n",
      "2022-12    309\n",
      "2023-01    373\n",
      "2023-02    314\n",
      "2023-03    311\n",
      "2023-04    323\n",
      "2023-05    334\n",
      "2023-06    349\n",
      "2023-07    375\n",
      "2023-08    317\n",
      "2023-09    333\n",
      "2023-10    308\n",
      "2023-11    302\n",
      "2023-12    348\n",
      "2024-01    385\n",
      "2024-02    320\n",
      "2024-03    355\n",
      "2024-04    327\n",
      "2024-05    369\n",
      "2024-06    351\n",
      "2024-07    343\n",
      "2024-08    375\n",
      "2024-09    340\n",
      "2024-10    353\n",
      "2024-11    347\n",
      "2024-12    376\n",
      "2025-01    213\n",
      "Freq: M, Name: Transaction ID, dtype: int64\n"
     ]
    }
   ],
   "source": [
    "#24.\tHow do transactions trend over time (monthly / yearly)?\n",
    "print(pd.to_datetime(df['Transaction Date']))\n",
    "print(df.groupby(df['Transaction Date'].dt.to_period('M'))['Transaction ID'].count())"
   ]
  },
  {
   "cell_type": "code",
   "execution_count": 10,
   "id": "27e6f2ac-4598-44c9-b01c-0d6cb0a84510",
   "metadata": {},
   "outputs": [
    {
     "name": "stdout",
     "output_type": "stream",
     "text": [
      "Most transactions in: 2022-01 with 390 transactions\n"
     ]
    }
   ],
   "source": [
    "#25.\tIn which month(s) did the most transactions occur?\n",
    "df['Transaction Date'] = pd.to_datetime(df['Transaction Date'])\n",
    "monthly = df.groupby(df['Transaction Date'].dt.strftime('%Y-%m'))['Transaction ID'].count()\n",
    "print(\"Most transactions in:\", monthly.idxmax(), \"with\", monthly.max(), \"transactions\")\n"
   ]
  },
  {
   "cell_type": "code",
   "execution_count": 11,
   "id": "5699ad38-a20f-4e5d-b706-4aa0f6457623",
   "metadata": {},
   "outputs": [
    {
     "name": "stdout",
     "output_type": "stream",
     "text": [
      "Most Transactions Month(s):\n",
      "Transaction Date\n",
      "2022-01    390\n",
      "Freq: M, Name: Transaction ID, dtype: int64\n"
     ]
    }
   ],
   "source": [
    "# Transaction Date ko datetime me convert karna\n",
    "df['Transaction Date'] = pd.to_datetime(df['Transaction Date'])\n",
    "monthly_counts = df.groupby(df['Transaction Date'].dt.to_period('M'))['Transaction ID'].count()\n",
    "max_transactions = monthly_counts.max()\n",
    "top_months = monthly_counts[monthly_counts == max_transactions]\n",
    "print(\"Most Transactions Month(s):\")\n",
    "print(top_months)\n"
   ]
  },
  {
   "cell_type": "code",
   "execution_count": 12,
   "id": "a4c5cf4b-3643-4097-aa86-2f35b30139db",
   "metadata": {},
   "outputs": [
    {
     "name": "stdout",
     "output_type": "stream",
     "text": [
      "Month with highest revenue: (np.int32(2022), np.int32(1)) with total revenue: 52911.5\n"
     ]
    }
   ],
   "source": [
    "#26.\tWhich month had the highest total revenue?\n",
    "df['Transaction Date'] = pd.to_datetime(df['Transaction Date'])\n",
    "df['Year'] = df['Transaction Date'].dt.year\n",
    "df['Month'] = df['Transaction Date'].dt.month\n",
    "monthly_revenue = df.groupby(['Year','Month'])['Total Spent'].sum()\n",
    "top_month = monthly_revenue.idxmax()\n",
    "top_revenue = monthly_revenue.max()\n",
    "\n",
    "print(\"Month with highest revenue:\", top_month, \"with total revenue:\", top_revenue)\n"
   ]
  },
  {
   "cell_type": "code",
   "execution_count": 14,
   "id": "e210b666-729d-451f-9991-6de687dd0434",
   "metadata": {},
   "outputs": [
    {
     "name": "stdout",
     "output_type": "stream",
     "text": [
      "Year\n",
      "2022    130.020255\n",
      "2023    129.021008\n",
      "2024    130.049802\n",
      "2025    126.477723\n",
      "Name: Total Spent, dtype: float64\n"
     ]
    }
   ],
   "source": [
    "#27.\tIs there a difference in average transaction value between 2022, 2023, and 2024?\n",
    "df['Transaction Date'] = pd.to_datetime(df['Transaction Date'])\n",
    "df['Year'] = df['Transaction Date'].dt.year\n",
    "avg_transaction = df.groupby('Year')['Total Spent'].mean()\n",
    "\n",
    "print(avg_transaction)\n"
   ]
  },
  {
   "cell_type": "code",
   "execution_count": 5,
   "id": "302c4d97-5bb6-4257-84dd-b7fa1241042f",
   "metadata": {},
   "outputs": [],
   "source": [
    "#\tDo discount transactions cluster in certain months/seasons?\n",
    "df['Transaction Date'] = pd.to_datetime(df['Transaction date'])\n",
    "#df['month'] = df['Transaction Date'].dt.month\n",
    "#df['Year'] = df['Transaction Date'].dt.year\n"
   ]
  },
  {
   "cell_type": "code",
   "execution_count": 6,
   "id": "b4ab8552-b657-403d-bb9d-964e50b4bd38",
   "metadata": {},
   "outputs": [
    {
     "name": "stdout",
     "output_type": "stream",
     "text": [
      "Most used payment method: Cash\n",
      "Number of times used: 4310\n"
     ]
    }
   ],
   "source": [
    "#29.\tWhich payment method is used most often?\n",
    "most_used_payment = df[\"Payment Method\"].value_counts().idxmax()\n",
    "count = df[\"Payment Method\"].value_counts().max()\n",
    "\n",
    "print(\"Most used payment method:\", most_used_payment)\n",
    "print(\"Number of times used:\", count)\n"
   ]
  },
  {
   "cell_type": "code",
   "execution_count": 7,
   "id": "fda13002-952a-4ad8-af12-e9f26122651f",
   "metadata": {},
   "outputs": [
    {
     "name": "stdout",
     "output_type": "stream",
     "text": [
      "Payment Method\n",
      "Cash              537710.0\n",
      "Digital Wallet    507279.0\n",
      "Credit Card       507082.0\n",
      "Name: Total Spent, dtype: float64\n",
      "Highest revenue generated by: Cash\n"
     ]
    }
   ],
   "source": [
    "#30.\tWhich payment method generates the highest revenue?\n",
    "highest_revenue_payment = (\n",
    "    df.groupby(\"Payment Method\")[\"Total Spent\"].sum().sort_values(ascending=False)\n",
    ")\n",
    "\n",
    "print(highest_revenue_payment)\n",
    "print(\"Highest revenue generated by:\", highest_revenue_payment.idxmax())\n"
   ]
  },
  {
   "cell_type": "code",
   "execution_count": 8,
   "id": "def19785-6f91-4007-a23b-4538d68ced8d",
   "metadata": {},
   "outputs": [
    {
     "name": "stdout",
     "output_type": "stream",
     "text": [
      "Payment Method\n",
      "Credit Card       129.127069\n",
      "Digital Wallet    128.718346\n",
      "Name: Total Spent, dtype: float64\n"
     ]
    }
   ],
   "source": [
    "#31.\tDoes average Total Spent differ between Credit Card and Digital Wallet?\n",
    "avg_spent = df.groupby(\"Payment Method\")[\"Total Spent\"].mean()\n",
    "\n",
    "print(avg_spent[[\"Credit Card\", \"Digital Wallet\"]])\n"
   ]
  },
  {
   "cell_type": "code",
   "execution_count": 14,
   "id": "98fe451f-697d-4ae0-8e56-470958a15f80",
   "metadata": {},
   "outputs": [
    {
     "name": "stdout",
     "output_type": "stream",
     "text": [
      "Percentage of transactions with discounts applied: 66.94%\n"
     ]
    }
   ],
   "source": [
    "#32.\tWhat percentage of all transactions had discounts applied?\n",
    "df[\"Discount Applied\"] = df[\"Discount Applied\"].astype(bool)\n",
    "total_transactions = len(df)\n",
    "discount_transactions = df[\"Discount Applied\"].sum()  # True counts as 1\n",
    "\n",
    "# Calculate percentage\n",
    "discount_percentage = (discount_transactions / total_transactions) * 100\n",
    "\n",
    "print(f\"Percentage of transactions with discounts applied: {discount_percentage:.2f}%\")\n"
   ]
  },
  {
   "cell_type": "code",
   "execution_count": 19,
   "id": "28307592-b036-4b8f-8522-94743ffb1277",
   "metadata": {},
   "outputs": [
    {
     "name": "stdout",
     "output_type": "stream",
     "text": [
      "Discount Applied\n",
      "False    5.580979\n",
      "True     5.514300\n",
      "Name: Quantity, dtype: float64\n"
     ]
    }
   ],
   "source": [
    "#33.\tDo transactions with discounts have a higher average Quantity than those without?\n",
    "df[\"Discount Applied\"] = df[\"Discount Applied\"].astype(bool)\n",
    "df[\"Quantity\"] = pd.to_numeric(df[\"Quantity\"], errors=\"coerce\")\n",
    "avg_quantity = df.groupby(\"Discount Applied\")[\"Quantity\"].mean()\n",
    "print(avg_quantity)"
   ]
  },
  {
   "cell_type": "code",
   "execution_count": 18,
   "id": "83d9613f-db55-47f3-b538-6699c2f8e4f4",
   "metadata": {},
   "outputs": [
    {
     "name": "stdout",
     "output_type": "stream",
     "text": [
      "Total revenue by discount status:\n",
      "Discount Applied\n",
      "False     515135.0\n",
      "True     1036936.0\n",
      "Name: Total Spent, dtype: float64\n"
     ]
    }
   ],
   "source": [
    "#34.\tDo discount transactions generate more total revenue compared to non-discount ones?\n",
    "df[\"Discount Applied\"] = df[\"Discount Applied\"].astype(bool)\n",
    "df[\"Total Spent\"] = pd.to_numeric(df[\"Total Spent\"], errors=\"coerce\")\n",
    "revenue_by_discount = df.groupby(\"Discount Applied\")[\"Total Spent\"].sum()\n",
    "print(\"Total revenue by discount status:\")\n",
    "print(revenue_by_discount)"
   ]
  },
  {
   "cell_type": "code",
   "execution_count": null,
   "id": "64f223d8-9e4f-496f-aaa5-eab717a85257",
   "metadata": {},
   "outputs": [],
   "source": []
  }
 ],
 "metadata": {
  "kernelspec": {
   "display_name": "Python 3 (ipykernel)",
   "language": "python",
   "name": "python3"
  },
  "language_info": {
   "codemirror_mode": {
    "name": "ipython",
    "version": 3
   },
   "file_extension": ".py",
   "mimetype": "text/x-python",
   "name": "python",
   "nbconvert_exporter": "python",
   "pygments_lexer": "ipython3",
   "version": "3.13.5"
  }
 },
 "nbformat": 4,
 "nbformat_minor": 5
}
