{
 "cells": [
  {
   "cell_type": "markdown",
   "id": "0809a499-a047-496a-9095-59b13949a706",
   "metadata": {},
   "source": [
    "###### print(\"hello world\")"
   ]
  },
  {
   "cell_type": "code",
   "execution_count": 2,
   "id": "518e0ec6-2c03-4211-af40-6c04689e6d6a",
   "metadata": {},
   "outputs": [
    {
     "name": "stdout",
     "output_type": "stream",
     "text": [
      "5\n",
      "Eman\n"
     ]
    }
   ],
   "source": [
    "x = 5\n",
    "y = \"Eman\"\n",
    "print(x)\n",
    "print(y)\n"
   ]
  },
  {
   "cell_type": "code",
   "execution_count": 3,
   "id": "6e569a07-eb8a-4ba7-b9d5-6a764ff13ad0",
   "metadata": {},
   "outputs": [
    {
     "name": "stdout",
     "output_type": "stream",
     "text": [
      "banana\n",
      "mango\n",
      "orange\n"
     ]
    }
   ],
   "source": [
    "x, y, z = \"banana\", \"orange\", \"mango\"\n",
    "print(x)\n",
    "print(z)\n",
    "print(y)\n"
   ]
  },
  {
   "cell_type": "code",
   "execution_count": 5,
   "id": "ff8e6020-3490-49c4-9702-a9deab06ace8",
   "metadata": {},
   "outputs": [
    {
     "name": "stdout",
     "output_type": "stream",
     "text": [
      "5\n",
      "eman\n",
      "35.59\n"
     ]
    }
   ],
   "source": [
    "x = 5\n",
    "y = \"eman\"\n",
    "z = 35.59\n",
    "\n",
    "print(x)\n",
    "print(y)\n",
    "print(z)\n"
   ]
  },
  {
   "cell_type": "code",
   "execution_count": 6,
   "id": "87bf402e-c60f-4d12-9fd2-ec88f4093479",
   "metadata": {},
   "outputs": [
    {
     "name": "stdout",
     "output_type": "stream",
     "text": [
      "welcome to python\n"
     ]
    }
   ],
   "source": [
    "print(\"welcome to python\")\n"
   ]
  },
  {
   "cell_type": "code",
   "execution_count": 7,
   "id": "ec895b1b-8fee-475d-8d58-ae2093f5c9cc",
   "metadata": {},
   "outputs": [
    {
     "name": "stdout",
     "output_type": "stream",
     "text": [
      "['apple', 'banana', 'orange']\n"
     ]
    }
   ],
   "source": [
    "x =[\"apple\", \"banana\",\"orange\"]\n",
    "print(x)"
   ]
  },
  {
   "cell_type": "code",
   "execution_count": 8,
   "id": "5e4709aa-0622-44aa-9d2f-d8ed1419a93f",
   "metadata": {},
   "outputs": [
    {
     "name": "stdout",
     "output_type": "stream",
     "text": [
      "{'apple', 'banana', 'orange'}\n"
     ]
    }
   ],
   "source": [
    "x ={\"apple\", \"banana\",\"orange\"}\n",
    "print(x)\n"
   ]
  },
  {
   "cell_type": "code",
   "execution_count": 9,
   "id": "aadf1e7b-4245-4b84-bd29-d25645c58806",
   "metadata": {},
   "outputs": [
    {
     "name": "stdout",
     "output_type": "stream",
     "text": [
      "b is not greater than a\n"
     ]
    }
   ],
   "source": [
    "a = 200\n",
    "b = 33\n",
    "\n",
    "if b > a:\n",
    "  print(\"b is greater than a\")\n",
    "else:\n",
    "  print(\"b is not greater than a\")"
   ]
  },
  {
   "cell_type": "code",
   "execution_count": 10,
   "id": "6c50b5d4-7990-4c32-baaa-2b4ae9ef1b52",
   "metadata": {},
   "outputs": [
    {
     "name": "stdin",
     "output_type": "stream",
     "text": [
      " h\n"
     ]
    }
   ],
   "source": [
    "a=int(input())"
   ]
  },
  {
   "cell_type": "code",
   "execution_count": 11,
   "id": "f69db8db-0a5a-4664-9e58-73d2c8532955",
   "metadata": {},
   "outputs": [
    {
     "data": {
      "text/plain": [
       "4.0"
      ]
     },
     "execution_count": 11,
     "metadata": {},
     "output_type": "execute_result"
    }
   ],
   "source": [
    "a=4\n",
    "float(a)"
   ]
  },
  {
   "cell_type": "code",
   "execution_count": 12,
   "id": "0c2f13f8-38ae-48fa-b1d7-b0a662232a47",
   "metadata": {},
   "outputs": [
    {
     "name": "stdout",
     "output_type": "stream",
     "text": [
      "smart card\n"
     ]
    }
   ],
   "source": [
    "age=29\n",
    "if age==18 and age >18:\n",
    "    print('cninc done')\n",
    "\n",
    "elif age >10:\n",
    "    print(\"smart card\")\n",
    "else:\n",
    "    print(\"no card\")"
   ]
  },
  {
   "cell_type": "code",
   "execution_count": 13,
   "id": "b7af0597-f9c8-47e0-bdbe-dfbe93d6d7a0",
   "metadata": {},
   "outputs": [
    {
     "name": "stdout",
     "output_type": "stream",
     "text": [
      "0\n",
      "1\n",
      "2\n",
      "3\n",
      "4\n",
      "5\n",
      "6\n",
      "7\n",
      "8\n",
      "9\n"
     ]
    }
   ],
   "source": [
    "for x in range(10):\n",
    "    print(x)"
   ]
  },
  {
   "cell_type": "code",
   "execution_count": 14,
   "id": "58cf3ded-7124-4d68-bad8-712d5c01f351",
   "metadata": {},
   "outputs": [
    {
     "name": "stdout",
     "output_type": "stream",
     "text": [
      "8\n"
     ]
    }
   ],
   "source": [
    "x = 5\n",
    "x += 3\n",
    "print(x)\n",
    "\n",
    "\n"
   ]
  },
  {
   "cell_type": "code",
   "execution_count": 15,
   "id": "a56d6ab5-abf9-4f1e-b756-690bcfacd6ed",
   "metadata": {},
   "outputs": [
    {
     "name": "stdout",
     "output_type": "stream",
     "text": [
      "['apple', 'banana', 'cherry', 'apple', 'cherry']\n"
     ]
    }
   ],
   "source": [
    "thislist = [\"apple\", \"banana\", \"cherry\", \"apple\", \"cherry\"]\n",
    "print(thislist)"
   ]
  },
  {
   "cell_type": "code",
   "execution_count": 16,
   "id": "bb775c79-ab0f-4ce6-ab1c-0ecbe3fb87fb",
   "metadata": {},
   "outputs": [
    {
     "name": "stdout",
     "output_type": "stream",
     "text": [
      "3\n"
     ]
    }
   ],
   "source": [
    "thislist = [\"apple\", \"banana\", \"cherry\"]\n",
    "print(len(thislist))"
   ]
  },
  {
   "cell_type": "code",
   "execution_count": 17,
   "id": "56c982a3-1869-4904-b8b3-745e1089525b",
   "metadata": {},
   "outputs": [
    {
     "name": "stdout",
     "output_type": "stream",
     "text": [
      "8\n"
     ]
    }
   ],
   "source": [
    "thislist = [\"apple\", \"banana\", \"cherry\",\"apple\", \"banana\", \"cherry\", \"apple\", \"cherry\"]\n",
    "print(len(thislist))"
   ]
  },
  {
   "cell_type": "code",
   "execution_count": 27,
   "id": "dfb27fcb-79b5-43e6-8658-3eab5551399d",
   "metadata": {},
   "outputs": [
    {
     "name": "stdout",
     "output_type": "stream",
     "text": [
      "cherry\n"
     ]
    }
   ],
   "source": [
    "mylist = ['apple', 'banana', 'cherry']\n",
    "print(mylist[2])\n",
    "\n"
   ]
  },
  {
   "cell_type": "code",
   "execution_count": 2,
   "id": "52b262e1-9d51-4a63-9098-f8992c243c50",
   "metadata": {},
   "outputs": [
    {
     "name": "stdout",
     "output_type": "stream",
     "text": [
      "I am a simple function\n",
      "None\n"
     ]
    }
   ],
   "source": [
    "# without argument function\n",
    "# simple printing\n",
    "def simple_printing():\n",
    "    print(\"I am a simple function\")\n",
    "\n",
    "print(simple_printing())"
   ]
  },
  {
   "cell_type": "code",
   "execution_count": 3,
   "id": "564c79f3-b229-4b07-bb94-854dd93441bb",
   "metadata": {},
   "outputs": [
    {
     "name": "stdout",
     "output_type": "stream",
     "text": [
      "I am a simple function\n"
     ]
    }
   ],
   "source": [
    "# without argument function\n",
    "# simple printing\n",
    "def simple_printing():\n",
    "    return (\"I am a simple function\")\n",
    "\n",
    "print(simple_printing())"
   ]
  },
  {
   "cell_type": "code",
   "execution_count": 4,
   "id": "92f8c5b9-baf1-4d92-8197-d221f932c12a",
   "metadata": {},
   "outputs": [
    {
     "name": "stdout",
     "output_type": "stream",
     "text": [
      "\n"
     ]
    }
   ],
   "source": [
    "print()"
   ]
  },
  {
   "cell_type": "code",
   "execution_count": 7,
   "id": "9ff10610-a751-467c-863f-7c55a0911b60",
   "metadata": {},
   "outputs": [
    {
     "data": {
      "text/plain": [
       "'you are teenager'"
      ]
     },
     "execution_count": 7,
     "metadata": {},
     "output_type": "execute_result"
    }
   ],
   "source": [
    "def age_calculate(age):\n",
    "    if age >= 18:\n",
    "        return \"your are adult\"\n",
    "    else:\n",
    "        return \"you are teenager\"\n",
    "\n",
    "age_calculate(3)\n",
    "    "
   ]
  },
  {
   "cell_type": "code",
   "execution_count": 10,
   "id": "e6fb5bc5-05ff-4d54-9ddb-0d96056e4284",
   "metadata": {},
   "outputs": [
    {
     "name": "stdin",
     "output_type": "stream",
     "text": [
      "enter age 34\n"
     ]
    },
    {
     "name": "stdout",
     "output_type": "stream",
     "text": [
      "your are adult\n",
      "36\n"
     ]
    }
   ],
   "source": [
    "def age_calculate(age):\n",
    "    if age >= 18:\n",
    "        print (\"your are adult\")\n",
    "        return age+2\n",
    "    else:\n",
    "        print (\"you are teenager\")\n",
    "        return age+1\n",
    "\n",
    "x= int(input(\"enter age\"))\n",
    "a=age_calculate(x)\n",
    "print(a)\n",
    "    "
   ]
  },
  {
   "cell_type": "code",
   "execution_count": 7,
   "id": "bdbc6467-2b7f-4515-a96a-8e1a4f11b652",
   "metadata": {},
   "outputs": [
    {
     "name": "stdin",
     "output_type": "stream",
     "text": [
      "enter price 45\n"
     ]
    },
    {
     "name": "stdout",
     "output_type": "stream",
     "text": [
      "not discount\n",
      "None\n"
     ]
    }
   ],
   "source": [
    "def price(price):\n",
    "    if price >=5000:\n",
    "        print(\"discount\")\n",
    "    else:\n",
    "        print(\"not discount\")\n",
    "\n",
    "x=int(input(\"enter price\"))\n",
    "y=price(x)\n",
    "print(y)"
   ]
  },
  {
   "cell_type": "code",
   "execution_count": 2,
   "id": "d736322f-dd3c-46cb-90c1-44ec4799921f",
   "metadata": {},
   "outputs": [
    {
     "name": "stdin",
     "output_type": "stream",
     "text": [
      "enter marks 60\n"
     ]
    },
    {
     "name": "stdout",
     "output_type": "stream",
     "text": [
      "you are pass\n",
      "None\n"
     ]
    }
   ],
   "source": [
    "def result(marks):\n",
    "    if marks<=50:\n",
    "        print(\"you are fail\")\n",
    "        return marks+10\n",
    "    else:\n",
    "        print(\"you are pass\")\n",
    "a=int(input(\"enter marks\"))\n",
    "b=result(a)\n",
    "print(b)"
   ]
  },
  {
   "cell_type": "code",
   "execution_count": 26,
   "id": "b4d64d40-c508-465c-88d5-47c5ddb1d72b",
   "metadata": {},
   "outputs": [
    {
     "name": "stdout",
     "output_type": "stream",
     "text": [
      "name: Eman\n",
      "age: 20\n",
      "marks: 100\n"
     ]
    }
   ],
   "source": [
    "class Student:\n",
    "    def __init__(self, name, age, marks):\n",
    "        self.name = name\n",
    "        self.age = age\n",
    "        self.marks = marks\n",
    "\n",
    "    def show(self):\n",
    "        print(f\"name: {self.name}\")\n",
    "        print(f\"age: {self.age}\")\n",
    "        print(f\"marks: {self.marks}\")\n",
    "    \n",
    "student1 = Student(\"Eman\",20,100)\n",
    "student1.show()"
   ]
  },
  {
   "cell_type": "code",
   "execution_count": 38,
   "id": "882bf50d-1668-4a3c-8602-5d1e2b752422",
   "metadata": {},
   "outputs": [
    {
     "name": "stdout",
     "output_type": "stream",
     "text": [
      "Name: Eman\n",
      "Age: 20\n",
      "Marks: 85\n",
      "\n",
      "Name: Afzaal\n",
      "Age: 25\n",
      "Marks: 40\n"
     ]
    }
   ],
   "source": [
    "class Student:\n",
    "    \n",
    "    def __init__(self, name, age, marks):\n",
    "        self.name = name\n",
    "        self.age = age\n",
    "        self.marks = marks\n",
    "\n",
    "   \n",
    "    def show(self):\n",
    "        print(f\"Name: {self.name}\")\n",
    "        print(f\"Age: {self.age}\")\n",
    "        print(f\"Marks: {self.marks}\")\n",
    "\n",
    "\n",
    "student1 = Student(\"Eman\", 20, 85)\n",
    "student2 = Student(\"Afzaal\",25,40)\n",
    "\n",
    "student1.show()\n",
    "print()\n",
    "student2.show()\n"
   ]
  },
  {
   "cell_type": "code",
   "execution_count": 2,
   "id": "7f1b4633-1558-42e6-8d26-fc9c1e5c21da",
   "metadata": {},
   "outputs": [
    {
     "name": "stdout",
     "output_type": "stream",
     "text": [
      "Name: noor\n",
      "Age: 20\n",
      "Marks: 60\n"
     ]
    }
   ],
   "source": [
    "class Student:\n",
    "    # Constructor \n",
    "    def __init__(self, name, age, marks):\n",
    "        self.name = name\n",
    "        self.age = age\n",
    "        self.marks = marks\n",
    "\n",
    "    # Method \n",
    "    def show(self):\n",
    "        print(f\"Name: {self.name}\")\n",
    "        print(f\"Age: {self.age}\")\n",
    "        print(f\"Marks: {self.marks}\")\n",
    "        \n",
    "        #  if condition\n",
    "        \n",
    "#  objects \n",
    "student1 = Student(\"noor\", 20, 60)\n",
    "student2 = Student(\"ali\", 22, 55)\n",
    "\n",
    " \n",
    "student1.show()\n",
    "\n",
    "\n"
   ]
  },
  {
   "cell_type": "code",
   "execution_count": 6,
   "id": "0ad0f6ef-ab35-458a-8e50-5520790776ef",
   "metadata": {},
   "outputs": [
    {
     "name": "stdout",
     "output_type": "stream",
     "text": [
      "Name    : Afzaal\n",
      "Subject : Mathematics\n",
      "Phone   : 12345678\n",
      "Address : 123 Street, lahore\n",
      "\n",
      "Name    : Noor\n",
      "Subject : English\n",
      "Phone   : 030000000\n",
      "Address : Karachi\n"
     ]
    }
   ],
   "source": [
    "class Teacher:\n",
    "    def __init__(self, name, subject, phone, address):\n",
    "        self.name = name\n",
    "        self.subject = subject\n",
    "        self.phone = phone\n",
    "        self.address = address\n",
    "\n",
    "    def show_info(self):\n",
    "        print(f\"Name    : {self.name}\")\n",
    "        print(f\"Subject : {self.subject}\")\n",
    "        print(f\"Phone   : {self.phone}\")\n",
    "        print(f\"Address : {self.address}\")\n",
    "\n",
    "\n",
    "\n",
    "teacher1 = Teacher(\"Afzaal\", \"Mathematics\", \"12345678\", \"123 Street, lahore\")\n",
    "teacher2 = Teacher(\"Noor\",\"English\", \"030000000\",\"Karachi\")\n",
    "teacher1.show_info()\n",
    "print()\n",
    "teacher2.show_info()\n"
   ]
  },
  {
   "cell_type": "code",
   "execution_count": 24,
   "id": "45fa750f-cc55-45da-b75a-5cf1ce1ea5c6",
   "metadata": {},
   "outputs": [
    {
     "name": "stdout",
     "output_type": "stream",
     "text": [
      "Laptop information\n",
      "name : acer\n",
      "price : 5000\n",
      "RAM : 8GB\n",
      "\n",
      "name : hp\n",
      "price : 6000\n",
      "RAM : 8GB\n",
      "\n",
      "name : dell\n",
      "price : 4000\n",
      "RAM : 16GB\n"
     ]
    }
   ],
   "source": [
    "class Laptop:\n",
    "    def __init__(self, name, price, RAM):\n",
    "        self.name = name\n",
    "        self.price = price\n",
    "        self.RAM = RAM\n",
    "\n",
    "    def show(self):\n",
    "        print(f\"name : {self.name}\")\n",
    "        print(f\"price : {self.price}\")\n",
    "        print(f\"RAM : {self.RAM}\")\n",
    "\n",
    "\n",
    "laptop1 = Laptop(\"acer\",\"5000\",\"8GB\")\n",
    "laptop2 = Laptop(\"hp\", \"6000\",\"8GB\")\n",
    "laptop3 = Laptop(\"dell\", \"4000\", \"16GB\")\n",
    "\n",
    "      \n",
    "         \n",
    "print(\"Laptop information\")\n",
    "laptop1.show()\n",
    "print()\n",
    "laptop2.show()\n",
    "print()\n",
    "laptop3.show()\n",
    "\n"
   ]
  },
  {
   "cell_type": "code",
   "execution_count": null,
   "id": "3295dacc-c2ae-4b79-8308-657c2b9317b3",
   "metadata": {},
   "outputs": [],
   "source": [
    "# opp concept in python\n"
   ]
  },
  {
   "cell_type": "code",
   "execution_count": 1,
   "id": "5c09584d-a6ea-4ffc-b1e5-bc06dfe1f4dd",
   "metadata": {},
   "outputs": [
    {
     "name": "stdout",
     "output_type": "stream",
     "text": [
      "John's grade is: 85\n"
     ]
    }
   ],
   "source": [
    "class Student:\n",
    "    def __init__(self, name):\n",
    "        self.name = name\n",
    "        self.__grade = None  # Private variable\n",
    "\n",
    "    def set_grade(self, grade):\n",
    "        if 0 <= grade <= 100:\n",
    "            self.__grade = grade\n",
    "        else:\n",
    "            print(\"Invalid grade. Must be between 0 and 100.\")\n",
    "\n",
    "    def get_grade(self):\n",
    "        return self.__grade\n",
    "\n",
    "\n",
    "# Usage\n",
    "student1 = Student(\"John\")\n",
    "student1.set_grade(85)\n",
    "print(f\"{student1.name}'s grade is:\", student1.get_grade())\n",
    "\n",
    "# Trying to access the private variable directly\n",
    "# print(student1.__grade)  # This will raise an AttributeError\n"
   ]
  },
  {
   "cell_type": "code",
   "execution_count": 2,
   "id": "ef5abac5-36d5-4499-ada7-eea588e4a337",
   "metadata": {},
   "outputs": [
    {
     "name": "stdout",
     "output_type": "stream",
     "text": [
      "Deposited $50\n",
      "Withdrew $30\n",
      "Current balance: 120\n"
     ]
    }
   ],
   "source": [
    "class BankAccount:\n",
    "    def __init__(self, owner, balance=0):\n",
    "        self.owner = owner\n",
    "        self.__balance = balance  # Private attribute\n",
    "\n",
    "    def deposit(self, amount):\n",
    "        if amount > 0:\n",
    "            self.__balance += amount\n",
    "            print(f\"Deposited ${amount}\")\n",
    "        else:\n",
    "            print(\"Deposit amount must be positive.\")\n",
    "\n",
    "    def withdraw(self, amount):\n",
    "        if 0 < amount <= self.__balance:\n",
    "            self.__balance -= amount\n",
    "            print(f\"Withdrew ${amount}\")\n",
    "        else:\n",
    "            print(\"Insufficient balance or invalid amount.\")\n",
    "\n",
    "    def get_balance(self):\n",
    "        return self.__balance  # Controlled access to private variable\n",
    "\n",
    "# Usage\n",
    "account = BankAccount(\"Alice\", 100)\n",
    "account.deposit(50)\n",
    "account.withdraw(30)\n",
    "print(\"Current balance:\", account.get_balance())\n",
    "\n",
    "# Trying to access the private variable directly (not recommended)\n",
    "# print(account.__balance)  # This will raise an AttributeError\n"
   ]
  },
  {
   "cell_type": "code",
   "execution_count": 8,
   "id": "d57ebdf2-4e23-4b68-b294-777b63210dc2",
   "metadata": {},
   "outputs": [
    {
     "name": "stdout",
     "output_type": "stream",
     "text": [
      "Age is: 18\n"
     ]
    }
   ],
   "source": [
    "class Student:\n",
    "    def __init__(self):\n",
    "        self.__age = 18  # private variable\n",
    "\n",
    "    def show_age(self):\n",
    "        print(\"Age is:\", self.__age)\n",
    "\n",
    "# Usage\n",
    "s = Student()\n",
    "s.show_age()  # Output: Age is: 18\n"
   ]
  },
  {
   "cell_type": "code",
   "execution_count": 9,
   "id": "83b9ee7d-7fd0-4a7d-9d4a-5a928baf0f66",
   "metadata": {},
   "outputs": [
    {
     "name": "stdout",
     "output_type": "stream",
     "text": [
      "Animal speaks\n",
      "Dog barks\n"
     ]
    }
   ],
   "source": [
    "# Parent class\n",
    "class Animal:\n",
    "    def speak(self):\n",
    "        print(\"Animal speaks\")\n",
    "\n",
    "# Child class inherits from Animal\n",
    "class Dog(Animal):\n",
    "    def speak(self):\n",
    "        print(\"Dog barks\")\n",
    "\n",
    "# Usage\n",
    "a = Animal()\n",
    "a.speak()  # Output: Animal speaks\n",
    "\n",
    "d = Dog()\n",
    "d.speak()  # Output: Dog barks\n"
   ]
  },
  {
   "cell_type": "code",
   "execution_count": 10,
   "id": "60970f83-9d97-450a-8d91-0d4cd1a8d604",
   "metadata": {},
   "outputs": [
    {
     "name": "stdout",
     "output_type": "stream",
     "text": [
      "Vehicle is moving\n",
      "Vehicle is moving\n"
     ]
    }
   ],
   "source": [
    "class Vehicle:\n",
    "    def move(self):\n",
    "        print(\"Vehicle is moving\")\n",
    "\n",
    "class Car(Vehicle):\n",
    "    pass  # inherits everything from Vehicle\n",
    "\n",
    "# Usage\n",
    "v = Vehicle()\n",
    "v.move()  # Output: Vehicle is moving\n",
    "\n",
    "c = Car()\n",
    "c.move()  # Output: Vehicle is moving (inherited method)\n"
   ]
  },
  {
   "cell_type": "code",
   "execution_count": 11,
   "id": "43479626-9dd6-4b80-9de8-78d83fc85ca4",
   "metadata": {},
   "outputs": [
    {
     "name": "stdout",
     "output_type": "stream",
     "text": [
      "Vehicle is moving\n",
      "Car is driving\n",
      "Car is honking\n"
     ]
    }
   ],
   "source": [
    "class Vehicle:\n",
    "    def move(self):\n",
    "        print(\"Vehicle is moving\")\n",
    "\n",
    "class Car(Vehicle):\n",
    "    def move(self):\n",
    "        print(\"Car is driving\")\n",
    "\n",
    "    def honk(self):\n",
    "        print(\"Car is honking\")\n",
    "\n",
    "# Usage\n",
    "v = Vehicle()\n",
    "v.move()  # Vehicle is moving\n",
    "\n",
    "c = Car()\n",
    "c.move()  # Car is driving  (overrides parent method)\n",
    "c.honk()  # Car is honking  (new method in child)\n"
   ]
  },
  {
   "cell_type": "code",
   "execution_count": 12,
   "id": "ef0e9bce-cbbd-4a0e-bdf1-aff1444d2545",
   "metadata": {},
   "outputs": [
    {
     "name": "stdout",
     "output_type": "stream",
     "text": [
      "Bird makes a sound\n",
      "Dog barks\n"
     ]
    }
   ],
   "source": [
    "class Bird:\n",
    "    def sound(self):\n",
    "        print(\"Bird makes a sound\")\n",
    "\n",
    "class Dog:\n",
    "    def sound(self):\n",
    "        print(\"Dog barks\")\n",
    "\n",
    "# Function that takes any object and calls its sound method\n",
    "def make_sound(animal):\n",
    "    animal.sound()\n",
    "\n",
    "# Usage\n",
    "b = Bird()\n",
    "d = Dog()\n",
    "\n",
    "make_sound(b)  # Output: Bird makes a sound\n",
    "make_sound(d)  # Output: Dog barks\n"
   ]
  },
  {
   "cell_type": "code",
   "execution_count": 13,
   "id": "be08515c-d5cc-4271-8ab3-f9e5596cead3",
   "metadata": {},
   "outputs": [
    {
     "name": "stdout",
     "output_type": "stream",
     "text": [
      "Meow\n",
      "Woof\n"
     ]
    }
   ],
   "source": [
    "class Cat:\n",
    "    def sound(self):\n",
    "        print(\"Meow\")\n",
    "\n",
    "class Dog:\n",
    "    def sound(self):\n",
    "        print(\"Woof\")\n",
    "\n",
    "# Using polymorphism\n",
    "for animal in [Cat(), Dog()]:\n",
    "    animal.sound()\n"
   ]
  },
  {
   "cell_type": "code",
   "execution_count": 16,
   "id": "e25cc2a8-a6ea-40c5-8a3d-cabf8ee84e6a",
   "metadata": {},
   "outputs": [
    {
     "name": "stdout",
     "output_type": "stream",
     "text": [
      "Woof\n",
      "Meow\n"
     ]
    }
   ],
   "source": [
    "from abc import ABC, abstractmethod\n",
    "\n",
    "class Animal(ABC):\n",
    "    @abstractmethod\n",
    "    def sound(self):\n",
    "        pass  # Abstract method — must be implemented by subclasses\n",
    "\n",
    "class Dog(Animal):\n",
    "    def sound(self):\n",
    "        print(\"Woof\")\n",
    "\n",
    "class Cat(Animal):\n",
    "    def sound(self):\n",
    "        print(\"Meow\")\n",
    "\n",
    "# Usage\n",
    "d = Dog()\n",
    "d.sound()  # Woof\n",
    "\n",
    "c = Cat()\n",
    "c.sound()  # Meow\n"
   ]
  },
  {
   "cell_type": "code",
   "execution_count": null,
   "id": "d9014f41-66da-45a8-ad22-c0857d6ac7c2",
   "metadata": {},
   "outputs": [],
   "source": []
  }
 ],
 "metadata": {
  "kernelspec": {
   "display_name": "Python [conda env:base] *",
   "language": "python",
   "name": "conda-base-py"
  },
  "language_info": {
   "codemirror_mode": {
    "name": "ipython",
    "version": 3
   },
   "file_extension": ".py",
   "mimetype": "text/x-python",
   "name": "python",
   "nbconvert_exporter": "python",
   "pygments_lexer": "ipython3",
   "version": "3.13.5"
  }
 },
 "nbformat": 4,
 "nbformat_minor": 5
}
